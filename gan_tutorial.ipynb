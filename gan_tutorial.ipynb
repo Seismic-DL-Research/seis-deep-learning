{
  "cells": [
    {
      "cell_type": "markdown",
      "metadata": {
        "id": "wCOg7DNdawkh"
      },
      "source": [
        "<font size='6px'>\n",
        "📝 <b>GAN Tutorial: A Gentle Mathematical dan Deep Learning Implementation Intro to Generative Adversarial Network (GAN) for P-Phase Detection</b></font>\n",
        "\n",
        "<font color='orange'> **written by Rai--** </font>"
      ]
    },
    {
      "cell_type": "markdown",
      "metadata": {},
      "source": [
        "# 0. What This Notebook Tells"
      ]
    },
    {
      "cell_type": "markdown",
      "metadata": {},
      "source": []
    },
    {
      "cell_type": "markdown",
      "metadata": {
        "id": "8jnJSK0Pa3Gm"
      },
      "source": [
        "# 1. Introduction: Mathematical Framework (important!)"
      ]
    },
    {
      "cell_type": "markdown",
      "metadata": {
        "id": "QglcNwaJa5HV"
      },
      "source": [
        "Generative Adversarial Network is a deep learning architecture with two models that are trained adversely. These two models are generative and discriminative model. The generative model aims to *deceive* the discriminative model by generating an artificial data that resembles the distribution of a data in the given dataset. In contrast, discriminative model learns how to distinguish the real data from the dataset with the data from the generation."
      ]
    },
    {
      "cell_type": "markdown",
      "metadata": {
        "id": "WfXuK5H9pBlA"
      },
      "source": [
        "Before delving into the codes, we need to have strong mathematical backgrounds of the underlying process in GAN. In this section, we will go through with the mapping functions of the models, the mathematical modelling of GAN's objectives, and GAN's loss functions."
      ]
    },
    {
      "cell_type": "markdown",
      "metadata": {
        "id": "hHqKQboPo8Tz"
      },
      "source": [
        "### The Mapping"
      ]
    },
    {
      "cell_type": "markdown",
      "metadata": {
        "id": "Pr-ENLmbm1Tw"
      },
      "source": [
        "The main idea of the generative adversarial network is the adversarial training. The generative model takes a small noise data and upsamples them until it matches the dataset data shape. Let's define $G$ as our mapping operator that does this. In this case, $G$ stands for generative. Let's also define $\\vec{x}^{(0)}$ as our **latent sample** and $\\vec{x}^{(g)}$ (the supscript $g$ stands for 'generated') as the output of our generator model, the artifical data. The following equation is satisfied.\n",
        "\n",
        "\\begin{equation}\n",
        "G : \\vec{x}^{(0)} \\mapsto \\vec{x}^{(g)}, \\quad G:\\mathbb{R}^L \\mapsto \\mathbb{R}^N.\n",
        "\\end{equation}\n",
        "\n",
        "From the equation above, $L$ and $N$ are consecutively the dimesionality of our latent sample vector and seismic waveform vector. Remember that our waveform is a time-series data, hence it can be represented in a vector.\n",
        "\n",
        "A discriminative model takes the artificial data, $\\vec{x}^{(g)}$, and the dataset data, $\\vec{x}_i^{(d)}$ (the superscript $d$ stands for 'dataset' and the subscript stands for the $i^\\mathrm{th}$ of the data in the dataset). Both of these vectors are having identical space. Let's define $D$ as our mapping operator that would map $\\mathbb{R}^N$ to $\\mathbb{R}$. Our formal definition is stated in the following equation.\n",
        "\n",
        "\\begin{align}\n",
        "D:\\vec{x}^{(g)} &\\mapsto d, \\quad D:\\mathbb{R}^N \\mapsto \\mathbb{R} \\\\\n",
        "D:\\vec{x}^{(d)}_i &\\mapsto d_i\n",
        "\\end{align}\n",
        "\n",
        "The value $d$ is a scalar ranging from 0 to 1 that represents the confidence of the P-wave detection."
      ]
    },
    {
      "cell_type": "markdown",
      "metadata": {
        "id": "8PkZI-qZkxZD"
      },
      "source": [
        "### The Objective: Min-Max Game"
      ]
    },
    {
      "cell_type": "markdown",
      "metadata": {
        "id": "5b196SyVk_gL"
      },
      "source": [
        "The adversary characteristic in the GAN models signify that there is some sort-of two objective measurements where the two are anti to one another. We have discussed that the generative model is trained to deceive the discriminative. Concurrently, discriminative model must be able to discern the artifical data and the real one. From the generative model perspective, the objective measurement or **value function** can be seen in the following way of a min-max game.\n",
        "\n",
        "\\begin{equation*}\n",
        "J_G = \\min_G \\max_D \\left( \\mathbb{E}_{\\vec{x}^{(0)}_i \\sim \\;p_\\text{gauss}} \\log\\left[1 - D\\left(G\\left(\\vec{x}^{(0)}_i\\right)\\right)\\right] + \\mathbb{E}_{\\vec{x}^{(d)} \\sim \\; p_\\text{data}} \\log D\\left(\\vec{x}^{(d)}_i\\right)\\right)\n",
        "\\end{equation*}\n",
        "\n",
        "The variable $p_\\text{gauss}$ and $p_\\text{data}$ from the equation above are the gaussian distribution and the distribution induced by the dataset. The subscript notation for $\\vec{x}_i^{(0)}$ and $\\vec{x}_i^{(d)}$ signify that we are drawing the $i^\\mathrm{th}$ row vector of our dataset accordingly which are $\\mathbf{X}^{(0)}$ for the latent sample matrix and $\\mathbf{X}^{(d)}$ for the dataset matrix. We don't consider the batch size at the moment for the sake of simplicity.\n"
      ]
    },
    {
      "cell_type": "markdown",
      "metadata": {
        "id": "JL4kXuthDoTH"
      },
      "source": [
        "Next up, we pay close attention to the minmax notation in the equation. Our objective is to minimize the function of the first expectation value (let's name it $f^{(g)}(\\vec{x}^{(0)}_i)$) when training $G$. At the same time, we train $D$ to maximize the function of the second expectation value (let's name it $f^{(d)}(\\vec{x}^{(d)}_i)$).\n",
        "\n",
        "The reason why we minimize and maximize the certain function is due to the objective we set. As we train $G$, we want $D\\left(G\\left(\\vec{x}_i^{(0)}\\right)\\right) \\rightarrow 1$. This causes $f^{(g)}$ to be minimized. On the contrary, when training $D$, we want $D\\left(\\vec{x}_i^{(d)}\\right)$ to approach one, hence maximizing $f^{(d)}$."
      ]
    },
    {
      "cell_type": "markdown",
      "metadata": {
        "id": "gypThV_AD4AO"
      },
      "source": [
        "#### Mathematical Review: Expectation Value for drawing $\\mathcal{X}$ from $p(\\mathcal{X})$ for $f(x)$ with $x \\in \\mathcal{X}$"
      ]
    },
    {
      "cell_type": "markdown",
      "metadata": {
        "id": "c8I9mv-uHk9P"
      },
      "source": [
        "Mathematically, if we have a $\\mathcal{X}$ that is sampled from $p(\\mathcal{X})$ with $p$ is some probabilistic distribution, the expectation value of $f(x)$ with $f$ as some mapping function is\n",
        "\n",
        "\\begin{align}\n",
        "\\mathbb{E}_{x \\; \\sim \\; p(x)}f(x) &\\approx \\sum_{x \\in \\mathcal{X}} f(x)u(x) \\\\\n",
        "&= \\int_{x \\in \\mathcal{X}} f(x)u(x) dx\n",
        "\\end{align}\n",
        "\n",
        "From these two equations, we may write formally that the objective measurement is as follow.\n",
        "\n",
        "\\begin{align}\n",
        "J_G = \\sum_{i}p_\\text{gauss}(\\vec{x}^{(0)}_i) \\log\\left [1-D\\left(G\\left(\\vec{x}^{(0)}_i\\right)\\right)\\right] + \\sum_{i}p_\\text{data}(\\vec{x}^{(d)}_i) \\log D \\left(\\vec{x}_i^{(d)}\\right)\n",
        "\\end{align}"
      ]
    },
    {
      "cell_type": "markdown",
      "metadata": {},
      "source": [
        "# 2. Deep Learning Implementations"
      ]
    },
    {
      "cell_type": "markdown",
      "metadata": {},
      "source": [
        "In this part, we will implement the theoretical framework of the GAN model by designing the generative model and discriminative model, defining their losses, and defining their backpropagation behaviors."
      ]
    },
    {
      "cell_type": "markdown",
      "metadata": {
        "id": "P7pYwTN5EbOC"
      },
      "source": [
        "## Model Construction"
      ]
    },
    {
      "cell_type": "markdown",
      "metadata": {
        "id": "_8oNwfGXEfuX"
      },
      "source": [
        "As what we have discussed earlier, we have generative and discriminative model with its corresponding mapping operator $G$ and $D$. In this section, we will try to create these mapping operator using neural network approach. We won't jump into details on how the mathematical background in the forward propagation flows, assuming we already understand them."
      ]
    },
    {
      "cell_type": "markdown",
      "metadata": {
        "id": "Z4UCABxFGNBV"
      },
      "source": [
        "### Generative Model: $G: \\mathbb{R}^{L} \\mapsto \\mathbb{R}^{N}$"
      ]
    },
    {
      "cell_type": "markdown",
      "metadata": {
        "id": "s1-8XMsTGXEG"
      },
      "source": [
        "We create a latent sample $\\mathbf{X}^{(0)} \\sim \\mathcal{N}(\\mu, \\sigma)$. You may adjust $\\mu$ (the average of the normal distribution) and $\\sigma$ (the standard deviation of the normal distribution) according to your hyperparameter tuning necessity. Let's import TensorFlow libary first and assign the global variables required for the generative model."
      ]
    },
    {
      "cell_type": "code",
      "execution_count": 2,
      "metadata": {
        "id": "-EDRDxXcohJ9"
      },
      "outputs": [],
      "source": [
        "# We import tensorflow first\n",
        "import matplotlib.pyplot as plt\n",
        "import tensorflow as tf\n",
        "\n",
        "from tensorflow.keras.layers import Dense, Conv1DTranspose, Input, Flatten, Conv1D, \\\n",
        "AveragePooling1D\n",
        "\n",
        "# These are the required global vars for model G.\n",
        "# All of these vars are adjustable.\n",
        "# Adjust these accordingly to your needs.\n",
        "mu = 0\n",
        "sigma = 1\n",
        "L = 50 # the latent sample size\n",
        "N = 350 # the window length of GAN\n",
        "B = 100 # the batch size"
      ]
    },
    {
      "cell_type": "markdown",
      "metadata": {},
      "source": [
        "IMPORTANT! Make sure the GPU is enabled. If this prints an empty list, you are not running a GPU."
      ]
    },
    {
      "cell_type": "code",
      "execution_count": 5,
      "metadata": {},
      "outputs": [
        {
          "name": "stdout",
          "output_type": "stream",
          "text": [
            "[PhysicalDevice(name='/physical_device:GPU:0', device_type='GPU')]\n"
          ]
        }
      ],
      "source": [
        "print(tf.config.list_physical_devices('GPU'))"
      ]
    },
    {
      "cell_type": "markdown",
      "metadata": {
        "id": "THgU7v9PIN9j"
      },
      "source": [
        "And now let's create $\\mathbf{X}^{(0)} \\in \\mathbb{R}^{B\\times L}$."
      ]
    },
    {
      "cell_type": "code",
      "execution_count": 6,
      "metadata": {
        "colab": {
          "base_uri": "https://localhost:8080/"
        },
        "id": "giqwOnoHHPaR",
        "outputId": "80a44bad-a212-43b0-d700-cd8b50b94ffc"
      },
      "outputs": [
        {
          "name": "stdout",
          "output_type": "stream",
          "text": [
            "X^0 is in the real space of 100 x 50\n"
          ]
        }
      ],
      "source": [
        "# We draw X from the normal distribution\n",
        "X0 = tf.random.normal(shape=(B, L), mean=mu, stddev=sigma)\n",
        "\n",
        "print(f'X^0 is in the real space of {tf.shape(X0)[0]} x {tf.shape(X0)[1]}')"
      ]
    },
    {
      "cell_type": "markdown",
      "metadata": {
        "id": "3jpL3ElBRwHv"
      },
      "source": [
        "#### Dense Layer Approach"
      ]
    },
    {
      "cell_type": "markdown",
      "metadata": {
        "id": "R_i9Kx6g92f6"
      },
      "source": [
        "A dense layer can be utilized to do the upsampling process. The last layer of the dense layer is set to have a unit of $N$ to represent $\\mathbb{R}^{N}$."
      ]
    },
    {
      "cell_type": "markdown",
      "metadata": {
        "id": "K5DSiYu_-QU2"
      },
      "source": [
        "##### Mathematical Review on Dense Layer (Optional)"
      ]
    },
    {
      "cell_type": "markdown",
      "metadata": {
        "id": "GN5rfbUiAwyT"
      },
      "source": [
        "A dense layer can be seen as a mapping function. We operate our input in the form of a vector to our operator, $\\mathbf{W}$, which is the weight matrix, to get the output. Additionally, a bias usually is added to the operation.\n",
        "\n",
        "Suppose we have an input vector $\\vec{x}^{(n-1)} \\in \\mathbb{R}^A$  and a weight matrix $\\mathbf{W}^{(n)}$. The operation of this $n^\\mathrm{th}$ dense layer is\n",
        "\n",
        "\\begin{align}\n",
        "\\mathbf{W}^{(n)}:\\mathbb{R}^A &\\mapsto \\mathbb{R}^B \\\\\n",
        "\\mathbf{W}^{(n)}:\\vec{x}^{(n-1)} &\\mapsto \\vec{x}^{(n)} \\\\\n",
        "&\\mapsto \\vec{x}^{(n-1)\\top}\\mathbf{W}^{(n)}\n",
        "\\end{align}\n",
        "\n",
        "The value of $B$ is determined by the total units or neurons assigned to dense layer at $n^\\mathrm{th}$. Along with that, considering the bias, the following equation holds.\n",
        "\n",
        "$$\\mathbf{W}^{(n)} : \\vec{x}^{(n-1)} \\mapsto \\vec{x}^{(n-1)\\top}\\mathbf{W}^{(n)} + \\vec{b}^{(n)\\top}$$\n",
        "\n",
        "Finally, an activation function $\\sigma$ is applied element-wisely."
      ]
    },
    {
      "cell_type": "markdown",
      "metadata": {
        "id": "RhEnVhBdwa4S"
      },
      "source": [
        "##### Implementation"
      ]
    },
    {
      "cell_type": "code",
      "execution_count": 7,
      "metadata": {
        "id": "pnStgxs2Iy6v"
      },
      "outputs": [],
      "source": [
        "# The input layer is a vector in R^L space.\n",
        "input_layer = Input(shape=(L,))\n",
        "cont = Dense(100, activation='relu', name='dense0')(input_layer)\n",
        "cont = Dense(200, activation='relu', name='dense1')(cont)\n",
        "cont = Dense(300, activation='relu', name='dense2')(cont)\n",
        "\n",
        "# The output layer is a vector in R^N space.\n",
        "output_layer = tf.keras.layers.Dense(N, name='dense3')(cont)"
      ]
    },
    {
      "cell_type": "code",
      "execution_count": 8,
      "metadata": {
        "colab": {
          "base_uri": "https://localhost:8080/"
        },
        "id": "JWokSCRFQ1kS",
        "outputId": "4185c324-4469-4781-a528-7091668996c4"
      },
      "outputs": [
        {
          "data": {
            "text/html": [
              "<pre style=\"white-space:pre;overflow-x:auto;line-height:normal;font-family:Menlo,'DejaVu Sans Mono',consolas,'Courier New',monospace\"><span style=\"font-weight: bold\">Model: \"functional\"</span>\n",
              "</pre>\n"
            ],
            "text/plain": [
              "\u001b[1mModel: \"functional\"\u001b[0m\n"
            ]
          },
          "metadata": {},
          "output_type": "display_data"
        },
        {
          "data": {
            "text/html": [
              "<pre style=\"white-space:pre;overflow-x:auto;line-height:normal;font-family:Menlo,'DejaVu Sans Mono',consolas,'Courier New',monospace\">┏━━━━━━━━━━━━━━━━━━━━━━━━━━━━━━━━━┳━━━━━━━━━━━━━━━━━━━━━━━━┳━━━━━━━━━━━━━━━┓\n",
              "┃<span style=\"font-weight: bold\"> Layer (type)                    </span>┃<span style=\"font-weight: bold\"> Output Shape           </span>┃<span style=\"font-weight: bold\">       Param # </span>┃\n",
              "┡━━━━━━━━━━━━━━━━━━━━━━━━━━━━━━━━━╇━━━━━━━━━━━━━━━━━━━━━━━━╇━━━━━━━━━━━━━━━┩\n",
              "│ input_layer (<span style=\"color: #0087ff; text-decoration-color: #0087ff\">InputLayer</span>)        │ (<span style=\"color: #00d7ff; text-decoration-color: #00d7ff\">None</span>, <span style=\"color: #00af00; text-decoration-color: #00af00\">50</span>)             │             <span style=\"color: #00af00; text-decoration-color: #00af00\">0</span> │\n",
              "├─────────────────────────────────┼────────────────────────┼───────────────┤\n",
              "│ dense0 (<span style=\"color: #0087ff; text-decoration-color: #0087ff\">Dense</span>)                  │ (<span style=\"color: #00d7ff; text-decoration-color: #00d7ff\">None</span>, <span style=\"color: #00af00; text-decoration-color: #00af00\">100</span>)            │         <span style=\"color: #00af00; text-decoration-color: #00af00\">5,100</span> │\n",
              "├─────────────────────────────────┼────────────────────────┼───────────────┤\n",
              "│ dense1 (<span style=\"color: #0087ff; text-decoration-color: #0087ff\">Dense</span>)                  │ (<span style=\"color: #00d7ff; text-decoration-color: #00d7ff\">None</span>, <span style=\"color: #00af00; text-decoration-color: #00af00\">200</span>)            │        <span style=\"color: #00af00; text-decoration-color: #00af00\">20,200</span> │\n",
              "├─────────────────────────────────┼────────────────────────┼───────────────┤\n",
              "│ dense2 (<span style=\"color: #0087ff; text-decoration-color: #0087ff\">Dense</span>)                  │ (<span style=\"color: #00d7ff; text-decoration-color: #00d7ff\">None</span>, <span style=\"color: #00af00; text-decoration-color: #00af00\">300</span>)            │        <span style=\"color: #00af00; text-decoration-color: #00af00\">60,300</span> │\n",
              "├─────────────────────────────────┼────────────────────────┼───────────────┤\n",
              "│ dense3 (<span style=\"color: #0087ff; text-decoration-color: #0087ff\">Dense</span>)                  │ (<span style=\"color: #00d7ff; text-decoration-color: #00d7ff\">None</span>, <span style=\"color: #00af00; text-decoration-color: #00af00\">350</span>)            │       <span style=\"color: #00af00; text-decoration-color: #00af00\">105,350</span> │\n",
              "└─────────────────────────────────┴────────────────────────┴───────────────┘\n",
              "</pre>\n"
            ],
            "text/plain": [
              "┏━━━━━━━━━━━━━━━━━━━━━━━━━━━━━━━━━┳━━━━━━━━━━━━━━━━━━━━━━━━┳━━━━━━━━━━━━━━━┓\n",
              "┃\u001b[1m \u001b[0m\u001b[1mLayer (type)                   \u001b[0m\u001b[1m \u001b[0m┃\u001b[1m \u001b[0m\u001b[1mOutput Shape          \u001b[0m\u001b[1m \u001b[0m┃\u001b[1m \u001b[0m\u001b[1m      Param #\u001b[0m\u001b[1m \u001b[0m┃\n",
              "┡━━━━━━━━━━━━━━━━━━━━━━━━━━━━━━━━━╇━━━━━━━━━━━━━━━━━━━━━━━━╇━━━━━━━━━━━━━━━┩\n",
              "│ input_layer (\u001b[38;5;33mInputLayer\u001b[0m)        │ (\u001b[38;5;45mNone\u001b[0m, \u001b[38;5;34m50\u001b[0m)             │             \u001b[38;5;34m0\u001b[0m │\n",
              "├─────────────────────────────────┼────────────────────────┼───────────────┤\n",
              "│ dense0 (\u001b[38;5;33mDense\u001b[0m)                  │ (\u001b[38;5;45mNone\u001b[0m, \u001b[38;5;34m100\u001b[0m)            │         \u001b[38;5;34m5,100\u001b[0m │\n",
              "├─────────────────────────────────┼────────────────────────┼───────────────┤\n",
              "│ dense1 (\u001b[38;5;33mDense\u001b[0m)                  │ (\u001b[38;5;45mNone\u001b[0m, \u001b[38;5;34m200\u001b[0m)            │        \u001b[38;5;34m20,200\u001b[0m │\n",
              "├─────────────────────────────────┼────────────────────────┼───────────────┤\n",
              "│ dense2 (\u001b[38;5;33mDense\u001b[0m)                  │ (\u001b[38;5;45mNone\u001b[0m, \u001b[38;5;34m300\u001b[0m)            │        \u001b[38;5;34m60,300\u001b[0m │\n",
              "├─────────────────────────────────┼────────────────────────┼───────────────┤\n",
              "│ dense3 (\u001b[38;5;33mDense\u001b[0m)                  │ (\u001b[38;5;45mNone\u001b[0m, \u001b[38;5;34m350\u001b[0m)            │       \u001b[38;5;34m105,350\u001b[0m │\n",
              "└─────────────────────────────────┴────────────────────────┴───────────────┘\n"
            ]
          },
          "metadata": {},
          "output_type": "display_data"
        },
        {
          "data": {
            "text/html": [
              "<pre style=\"white-space:pre;overflow-x:auto;line-height:normal;font-family:Menlo,'DejaVu Sans Mono',consolas,'Courier New',monospace\"><span style=\"font-weight: bold\"> Total params: </span><span style=\"color: #00af00; text-decoration-color: #00af00\">190,950</span> (745.90 KB)\n",
              "</pre>\n"
            ],
            "text/plain": [
              "\u001b[1m Total params: \u001b[0m\u001b[38;5;34m190,950\u001b[0m (745.90 KB)\n"
            ]
          },
          "metadata": {},
          "output_type": "display_data"
        },
        {
          "data": {
            "text/html": [
              "<pre style=\"white-space:pre;overflow-x:auto;line-height:normal;font-family:Menlo,'DejaVu Sans Mono',consolas,'Courier New',monospace\"><span style=\"font-weight: bold\"> Trainable params: </span><span style=\"color: #00af00; text-decoration-color: #00af00\">190,950</span> (745.90 KB)\n",
              "</pre>\n"
            ],
            "text/plain": [
              "\u001b[1m Trainable params: \u001b[0m\u001b[38;5;34m190,950\u001b[0m (745.90 KB)\n"
            ]
          },
          "metadata": {},
          "output_type": "display_data"
        },
        {
          "data": {
            "text/html": [
              "<pre style=\"white-space:pre;overflow-x:auto;line-height:normal;font-family:Menlo,'DejaVu Sans Mono',consolas,'Courier New',monospace\"><span style=\"font-weight: bold\"> Non-trainable params: </span><span style=\"color: #00af00; text-decoration-color: #00af00\">0</span> (0.00 B)\n",
              "</pre>\n"
            ],
            "text/plain": [
              "\u001b[1m Non-trainable params: \u001b[0m\u001b[38;5;34m0\u001b[0m (0.00 B)\n"
            ]
          },
          "metadata": {},
          "output_type": "display_data"
        },
        {
          "name": "stdout",
          "output_type": "stream",
          "text": [
            "None\n"
          ]
        }
      ],
      "source": [
        "# We create the generative model with tf.keras.Model module.\n",
        "g_model = tf.keras.Model(inputs=[input_layer], outputs=[output_layer])\n",
        "\n",
        "# We print our model summary\n",
        "print(g_model.summary())"
      ]
    },
    {
      "cell_type": "markdown",
      "metadata": {
        "id": "VMEWO2TQC1Oj"
      },
      "source": [
        "Now let's test it out whether our mapping operator $G$ works."
      ]
    },
    {
      "cell_type": "code",
      "execution_count": 9,
      "metadata": {
        "colab": {
          "base_uri": "https://localhost:8080/"
        },
        "id": "5W5zb712Cywe",
        "outputId": "aad50544-d051-411e-c5d7-c41309516a6c"
      },
      "outputs": [
        {
          "name": "stdout",
          "output_type": "stream",
          "text": [
            "The vector space before mapping: R^50\n",
            "The vector space after mapping: R^350\n"
          ]
        }
      ],
      "source": [
        "# We pick the second index of the latent sample to be mapped.\n",
        "# This pick is random.\n",
        "x0_1 = X0[1]\n",
        "print(f'The vector space before mapping: R^{tf.shape(x0_1)[0]}')\n",
        "\n",
        "# The following code won't work because a model in TensorFlow works\n",
        "# in batch.\n",
        "# g_model(x0) # WONT WORK!\n",
        "\n",
        "# Now we map it.\n",
        "xg_1 = g_model(tf.expand_dims(x0_1, axis=0))\n",
        "\n",
        "# xg_1 is having a shape of 1x350 with 1 is the batch size.\n",
        "print(f'The vector space after mapping: R^{tf.shape(xg_1)[1]}')"
      ]
    },
    {
      "cell_type": "markdown",
      "metadata": {
        "id": "_AvmXY3VGAqM"
      },
      "source": [
        "#### 1D Convolution Transpose Approach"
      ]
    },
    {
      "cell_type": "markdown",
      "metadata": {
        "id": "sJ52KTCQGHAf"
      },
      "source": [
        "Another way to do the upsampling process is by using 1D convolution transpose (the anti-convolution). We do the same process by repeatedly upsample the latent sample."
      ]
    },
    {
      "cell_type": "markdown",
      "metadata": {
        "id": "lt3HDqHVUZ3S"
      },
      "source": [
        "##### Mathematical Review on Convolution 1D Transpose (Optional)"
      ]
    },
    {
      "cell_type": "markdown",
      "metadata": {
        "id": "xeJ-XMcx5guC"
      },
      "source": [
        "Convolution 1D Transpose maps $\\mathbb{R}^A \\mapsto \\mathbb{R}^B$ with $B > A$. Suppose we have an input vector $\\vec{x}^{(0)}$ in space $\\mathbb{R}^A$ and an output vector $\\vec{x}^{(1)}$ in space $\\mathbb{R}^B$. Suppose we also have a kernel of $\\mathbf{K} \\in \\mathbb{R}^{K\\times C}$ with $K$ as the kernel size and $N$ as the channel number. Let's work on a very simple case where we have $\\vec{x}^{(0)} \\in \\mathbb{R}^3$ and $\\vec{k} \\in \\mathbb{R}^3$.\n",
        "\n",
        "<img src=\"gan_tutorial_img/deconv1d.jpg\" width=\"1000px\"></img>\n",
        "\n",
        "From the image above, we can see that each of the element of the mapped vector is the convolution process of each element in the input vector with the kernel. We may state\n",
        "\n",
        "\\begin{align}\n",
        "x^{(1)}_{0} &= k_0 x_0^{(0)} \\\\\n",
        "x^{(1)}_1 &= k_1 x^{(0)}_0 + k_0 x^{(0)}_1 \\\\\n",
        "x^{(1)}_2 &= k_2 x^{(0)}_0 + k_1 x^{(0)}_1 + k_0x^{(0)}_2 \\\\\n",
        "x^{(1)}_3 &= \\phantom{k_2 x^{(0)}_0} + k_2 x^{(0)}_1 + k_1x^{(0)}_2 \\\\\n",
        "x^{(1)}_4 &= \\phantom{k_2 x^{(0)}_0 + k_2 x^{(0)}_1} + k_2x^{(0)}_2  \\\\\n",
        "\\end{align}\n",
        "\n",
        "We can express the equation in matrix form\n",
        "\n",
        "\\begin{equation}\n",
        "\\vec{x}^{(1)} =\n",
        "\\vec{x}^{(0)\\top}\n",
        "\\begin{bmatrix}\n",
        "k_0   & 0     & 0 \\\\\n",
        "k_1   & k_0   & 0 \\\\\n",
        "k_2   & k_1   & k_0 \\\\\n",
        "0     & k_2   & k_1 \\\\\n",
        "0     & 0     & k_2\n",
        "\\end{bmatrix}^\\top\n",
        "\\end{equation}\n",
        "\n",
        "This is simply $\\mathbf{K} : \\vec{x}^{(0)} \\mapsto \\vec{x}^{(1)}$. If the kernel has multiple filters, therefore the mapping becomes $\\mathbf{K} : \\vec{x}^{(0)} \\mapsto \\mathbf{X}^{(1)}$ where $\\mathbf{K}$ is in $\\mathbb{R}^{K\\times C}$ space and $\\mathbf{X}^{(1)}$ is in $\\mathbb{R}^{B\\times C}$ space."
      ]
    },
    {
      "cell_type": "markdown",
      "metadata": {
        "id": "Z9VyfOG6wTaX"
      },
      "source": [
        "##### Implementation"
      ]
    },
    {
      "cell_type": "code",
      "execution_count": 9,
      "metadata": {
        "colab": {
          "base_uri": "https://localhost:8080/",
          "height": 219
        },
        "id": "PeqO1z0qxOdQ",
        "outputId": "06c03cd5-c009-49d1-f4db-e53f1498dc31"
      },
      "outputs": [],
      "source": [
        "'''\n",
        "The input layer is a vector in R^L space.\n",
        "If previously we only pass shape=(50,), this time we need to assign the parameter\n",
        "shape of the input layer with (50,1). Although mathematically this also means a\n",
        "vector, TensorFlow regards this as a \"channel\". This is the requirement for\n",
        "passing the tensor into a Conv1DTranspose layer.\n",
        "\n",
        "Alternatively, we can still maintain shape=(50,) as the input layer, but we need\n",
        "to use the following customized layer to expand it.\n",
        "'''\n",
        "\n",
        "@tf.keras.utils.register_keras_serializable(\n",
        "    package=\"gan-tutorial\",\n",
        "    name=\"VecAddChannel\",\n",
        ")\n",
        "class VecAddChannel(tf.keras.Layer):\n",
        "  def __init__(sf):\n",
        "    # The method called when the class's object is initiated.\n",
        "\n",
        "    # We call the parent's constructor\n",
        "    super().__init__()\n",
        "\n",
        "  def build(sf, input_shape):\n",
        "    # This method usually contains trainable weights. We won't add\n",
        "    # any for this layer.\n",
        "    pass\n",
        "\n",
        "  def call(sf, input):\n",
        "    # We returned its expanded dims form.\n",
        "    return tf.expand_dims(input, axis=-1) "
      ]
    },
    {
      "cell_type": "code",
      "execution_count": 12,
      "metadata": {
        "id": "sHZRjBzmDhKu"
      },
      "outputs": [],
      "source": [
        "input_layer = tf.keras.layers.Input(shape=(L,))\n",
        "expanded = VecAddChannel()(input_layer)\n",
        "cont = Conv1DTranspose(filters=1, kernel_size=5, strides=1)(expanded)\n",
        "cont = Conv1DTranspose(filters=5, kernel_size=8, strides=1)(cont)\n",
        "cont = Conv1DTranspose(filters=7, kernel_size=8, strides=1)(cont)\n",
        "cont = Conv1DTranspose(filters=5, kernel_size=3, strides=1)(cont)\n",
        "\n",
        "# We flatten the space.\n",
        "output_layer = Flatten()(cont)"
      ]
    },
    {
      "cell_type": "code",
      "execution_count": 13,
      "metadata": {
        "id": "LTESbCDhG5m1"
      },
      "outputs": [
        {
          "data": {
            "text/html": [
              "<pre style=\"white-space:pre;overflow-x:auto;line-height:normal;font-family:Menlo,'DejaVu Sans Mono',consolas,'Courier New',monospace\"><span style=\"font-weight: bold\">Model: \"functional_1\"</span>\n",
              "</pre>\n"
            ],
            "text/plain": [
              "\u001b[1mModel: \"functional_1\"\u001b[0m\n"
            ]
          },
          "metadata": {},
          "output_type": "display_data"
        },
        {
          "data": {
            "text/html": [
              "<pre style=\"white-space:pre;overflow-x:auto;line-height:normal;font-family:Menlo,'DejaVu Sans Mono',consolas,'Courier New',monospace\">┏━━━━━━━━━━━━━━━━━━━━━━━━━━━━━━━━━┳━━━━━━━━━━━━━━━━━━━━━━━━┳━━━━━━━━━━━━━━━┓\n",
              "┃<span style=\"font-weight: bold\"> Layer (type)                    </span>┃<span style=\"font-weight: bold\"> Output Shape           </span>┃<span style=\"font-weight: bold\">       Param # </span>┃\n",
              "┡━━━━━━━━━━━━━━━━━━━━━━━━━━━━━━━━━╇━━━━━━━━━━━━━━━━━━━━━━━━╇━━━━━━━━━━━━━━━┩\n",
              "│ input_layer_2 (<span style=\"color: #0087ff; text-decoration-color: #0087ff\">InputLayer</span>)      │ (<span style=\"color: #00d7ff; text-decoration-color: #00d7ff\">None</span>, <span style=\"color: #00af00; text-decoration-color: #00af00\">50</span>)             │             <span style=\"color: #00af00; text-decoration-color: #00af00\">0</span> │\n",
              "├─────────────────────────────────┼────────────────────────┼───────────────┤\n",
              "│ vec_add_channel_1               │ (<span style=\"color: #00d7ff; text-decoration-color: #00d7ff\">None</span>, <span style=\"color: #00af00; text-decoration-color: #00af00\">50</span>, <span style=\"color: #00af00; text-decoration-color: #00af00\">1</span>)          │             <span style=\"color: #00af00; text-decoration-color: #00af00\">0</span> │\n",
              "│ (<span style=\"color: #0087ff; text-decoration-color: #0087ff\">VecAddChannel</span>)                 │                        │               │\n",
              "├─────────────────────────────────┼────────────────────────┼───────────────┤\n",
              "│ conv1d_transpose_4              │ (<span style=\"color: #00d7ff; text-decoration-color: #00d7ff\">None</span>, <span style=\"color: #00af00; text-decoration-color: #00af00\">54</span>, <span style=\"color: #00af00; text-decoration-color: #00af00\">1</span>)          │             <span style=\"color: #00af00; text-decoration-color: #00af00\">6</span> │\n",
              "│ (<span style=\"color: #0087ff; text-decoration-color: #0087ff\">Conv1DTranspose</span>)               │                        │               │\n",
              "├─────────────────────────────────┼────────────────────────┼───────────────┤\n",
              "│ conv1d_transpose_5              │ (<span style=\"color: #00d7ff; text-decoration-color: #00d7ff\">None</span>, <span style=\"color: #00af00; text-decoration-color: #00af00\">61</span>, <span style=\"color: #00af00; text-decoration-color: #00af00\">5</span>)          │            <span style=\"color: #00af00; text-decoration-color: #00af00\">45</span> │\n",
              "│ (<span style=\"color: #0087ff; text-decoration-color: #0087ff\">Conv1DTranspose</span>)               │                        │               │\n",
              "├─────────────────────────────────┼────────────────────────┼───────────────┤\n",
              "│ conv1d_transpose_6              │ (<span style=\"color: #00d7ff; text-decoration-color: #00d7ff\">None</span>, <span style=\"color: #00af00; text-decoration-color: #00af00\">68</span>, <span style=\"color: #00af00; text-decoration-color: #00af00\">7</span>)          │           <span style=\"color: #00af00; text-decoration-color: #00af00\">287</span> │\n",
              "│ (<span style=\"color: #0087ff; text-decoration-color: #0087ff\">Conv1DTranspose</span>)               │                        │               │\n",
              "├─────────────────────────────────┼────────────────────────┼───────────────┤\n",
              "│ conv1d_transpose_7              │ (<span style=\"color: #00d7ff; text-decoration-color: #00d7ff\">None</span>, <span style=\"color: #00af00; text-decoration-color: #00af00\">70</span>, <span style=\"color: #00af00; text-decoration-color: #00af00\">5</span>)          │           <span style=\"color: #00af00; text-decoration-color: #00af00\">110</span> │\n",
              "│ (<span style=\"color: #0087ff; text-decoration-color: #0087ff\">Conv1DTranspose</span>)               │                        │               │\n",
              "├─────────────────────────────────┼────────────────────────┼───────────────┤\n",
              "│ flatten_1 (<span style=\"color: #0087ff; text-decoration-color: #0087ff\">Flatten</span>)             │ (<span style=\"color: #00d7ff; text-decoration-color: #00d7ff\">None</span>, <span style=\"color: #00af00; text-decoration-color: #00af00\">350</span>)            │             <span style=\"color: #00af00; text-decoration-color: #00af00\">0</span> │\n",
              "└─────────────────────────────────┴────────────────────────┴───────────────┘\n",
              "</pre>\n"
            ],
            "text/plain": [
              "┏━━━━━━━━━━━━━━━━━━━━━━━━━━━━━━━━━┳━━━━━━━━━━━━━━━━━━━━━━━━┳━━━━━━━━━━━━━━━┓\n",
              "┃\u001b[1m \u001b[0m\u001b[1mLayer (type)                   \u001b[0m\u001b[1m \u001b[0m┃\u001b[1m \u001b[0m\u001b[1mOutput Shape          \u001b[0m\u001b[1m \u001b[0m┃\u001b[1m \u001b[0m\u001b[1m      Param #\u001b[0m\u001b[1m \u001b[0m┃\n",
              "┡━━━━━━━━━━━━━━━━━━━━━━━━━━━━━━━━━╇━━━━━━━━━━━━━━━━━━━━━━━━╇━━━━━━━━━━━━━━━┩\n",
              "│ input_layer_2 (\u001b[38;5;33mInputLayer\u001b[0m)      │ (\u001b[38;5;45mNone\u001b[0m, \u001b[38;5;34m50\u001b[0m)             │             \u001b[38;5;34m0\u001b[0m │\n",
              "├─────────────────────────────────┼────────────────────────┼───────────────┤\n",
              "│ vec_add_channel_1               │ (\u001b[38;5;45mNone\u001b[0m, \u001b[38;5;34m50\u001b[0m, \u001b[38;5;34m1\u001b[0m)          │             \u001b[38;5;34m0\u001b[0m │\n",
              "│ (\u001b[38;5;33mVecAddChannel\u001b[0m)                 │                        │               │\n",
              "├─────────────────────────────────┼────────────────────────┼───────────────┤\n",
              "│ conv1d_transpose_4              │ (\u001b[38;5;45mNone\u001b[0m, \u001b[38;5;34m54\u001b[0m, \u001b[38;5;34m1\u001b[0m)          │             \u001b[38;5;34m6\u001b[0m │\n",
              "│ (\u001b[38;5;33mConv1DTranspose\u001b[0m)               │                        │               │\n",
              "├─────────────────────────────────┼────────────────────────┼───────────────┤\n",
              "│ conv1d_transpose_5              │ (\u001b[38;5;45mNone\u001b[0m, \u001b[38;5;34m61\u001b[0m, \u001b[38;5;34m5\u001b[0m)          │            \u001b[38;5;34m45\u001b[0m │\n",
              "│ (\u001b[38;5;33mConv1DTranspose\u001b[0m)               │                        │               │\n",
              "├─────────────────────────────────┼────────────────────────┼───────────────┤\n",
              "│ conv1d_transpose_6              │ (\u001b[38;5;45mNone\u001b[0m, \u001b[38;5;34m68\u001b[0m, \u001b[38;5;34m7\u001b[0m)          │           \u001b[38;5;34m287\u001b[0m │\n",
              "│ (\u001b[38;5;33mConv1DTranspose\u001b[0m)               │                        │               │\n",
              "├─────────────────────────────────┼────────────────────────┼───────────────┤\n",
              "│ conv1d_transpose_7              │ (\u001b[38;5;45mNone\u001b[0m, \u001b[38;5;34m70\u001b[0m, \u001b[38;5;34m5\u001b[0m)          │           \u001b[38;5;34m110\u001b[0m │\n",
              "│ (\u001b[38;5;33mConv1DTranspose\u001b[0m)               │                        │               │\n",
              "├─────────────────────────────────┼────────────────────────┼───────────────┤\n",
              "│ flatten_1 (\u001b[38;5;33mFlatten\u001b[0m)             │ (\u001b[38;5;45mNone\u001b[0m, \u001b[38;5;34m350\u001b[0m)            │             \u001b[38;5;34m0\u001b[0m │\n",
              "└─────────────────────────────────┴────────────────────────┴───────────────┘\n"
            ]
          },
          "metadata": {},
          "output_type": "display_data"
        },
        {
          "data": {
            "text/html": [
              "<pre style=\"white-space:pre;overflow-x:auto;line-height:normal;font-family:Menlo,'DejaVu Sans Mono',consolas,'Courier New',monospace\"><span style=\"font-weight: bold\"> Total params: </span><span style=\"color: #00af00; text-decoration-color: #00af00\">448</span> (1.75 KB)\n",
              "</pre>\n"
            ],
            "text/plain": [
              "\u001b[1m Total params: \u001b[0m\u001b[38;5;34m448\u001b[0m (1.75 KB)\n"
            ]
          },
          "metadata": {},
          "output_type": "display_data"
        },
        {
          "data": {
            "text/html": [
              "<pre style=\"white-space:pre;overflow-x:auto;line-height:normal;font-family:Menlo,'DejaVu Sans Mono',consolas,'Courier New',monospace\"><span style=\"font-weight: bold\"> Trainable params: </span><span style=\"color: #00af00; text-decoration-color: #00af00\">448</span> (1.75 KB)\n",
              "</pre>\n"
            ],
            "text/plain": [
              "\u001b[1m Trainable params: \u001b[0m\u001b[38;5;34m448\u001b[0m (1.75 KB)\n"
            ]
          },
          "metadata": {},
          "output_type": "display_data"
        },
        {
          "data": {
            "text/html": [
              "<pre style=\"white-space:pre;overflow-x:auto;line-height:normal;font-family:Menlo,'DejaVu Sans Mono',consolas,'Courier New',monospace\"><span style=\"font-weight: bold\"> Non-trainable params: </span><span style=\"color: #00af00; text-decoration-color: #00af00\">0</span> (0.00 B)\n",
              "</pre>\n"
            ],
            "text/plain": [
              "\u001b[1m Non-trainable params: \u001b[0m\u001b[38;5;34m0\u001b[0m (0.00 B)\n"
            ]
          },
          "metadata": {},
          "output_type": "display_data"
        }
      ],
      "source": [
        "# We create the generative model with tf.keras.Model module.\n",
        "# We need to make sure the flattened space is R^N.\n",
        "g_model = tf.keras.Model(inputs=[input_layer], outputs=[output_layer])\n",
        "\n",
        "# We print our model summary\n",
        "g_model.summary()"
      ]
    },
    {
      "cell_type": "markdown",
      "metadata": {
        "id": "mkZHN9Aiwh_c"
      },
      "source": [
        "Same as before, let's test it out."
      ]
    },
    {
      "cell_type": "code",
      "execution_count": 14,
      "metadata": {
        "id": "tpzpCVESNCTu"
      },
      "outputs": [
        {
          "name": "stdout",
          "output_type": "stream",
          "text": [
            "The vector space before mapping: R^50\n",
            "The vector space after mapping: R^350\n"
          ]
        }
      ],
      "source": [
        "# We pick the second index of the latent sample to be mapped.\n",
        "# This pick is random.\n",
        "x0_1 = X0[1]\n",
        "print(f'The vector space before mapping: R^{tf.shape(x0_1)[0]}')\n",
        "\n",
        "# The following code won't work because a model in TensorFlow works\n",
        "# in batch.\n",
        "# g_model(x0) # WONT WORK!\n",
        "\n",
        "# Now we map it.\n",
        "xg_1 = g_model(tf.expand_dims(x0_1, axis=0))\n",
        "\n",
        "# xg_1 is having a shape of 1x350 with 1 is the batch size.\n",
        "print(f'The vector space after mapping: R^{tf.shape(xg_1)[1]}')"
      ]
    },
    {
      "cell_type": "markdown",
      "metadata": {
        "id": "QuQk534hw1Lx"
      },
      "source": [
        "#### Mixed Method"
      ]
    },
    {
      "cell_type": "markdown",
      "metadata": {
        "id": "oe8lmtltS3pi"
      },
      "source": [
        "Mixing dense layer and convolutional 1D transpose can be done. Basically you can use any method to construct the mapping function $G$ as long as the input and the output space comply $G: \\mathbb{R}^L \\mapsto \\mathbb{R}^N$. You may even incorporate the downsampling layers within the process such as 1D average pooling or 1D convolution. In this case, we will settle down with the following generative model. **You may want to hypertune or modify this model according to your necessity**. There is no set of rule of how to construct a model that guarantees good model performance after the training."
      ]
    },
    {
      "cell_type": "markdown",
      "metadata": {},
      "source": [
        "The following method is used to create a customized Leaky Rectified Linear Unit (Leaky ReLU). By default a relu can be expressed as:\n",
        "\n",
        "\\begin{equation}\n",
        "\\sigma(x) = \n",
        "\\begin{cases}\n",
        "    0.01x,          & \\text{if } x \\leq 0\\\\\n",
        "    x,              & \\text{otherwise}\n",
        "\\end{cases}\n",
        "\\end{equation}\n",
        "\n",
        "The following method allows you to tune two the leaky relu variables $a,b \\in \\mathbb{R}^+$ as such:\n",
        "\n",
        "\\begin{equation}\n",
        "\\sigma(x; a,b) = \n",
        "\\begin{cases}\n",
        "    ax,             & \\text{if } x \\leq 0 \\\\\n",
        "    bx,             & \\text{otherwise}\n",
        "\\end{cases}\n",
        "\\end{equation}"
      ]
    },
    {
      "cell_type": "code",
      "execution_count": 10,
      "metadata": {},
      "outputs": [],
      "source": [
        "@tf.keras.utils.register_keras_serializable(\n",
        "    package=\"gan-tutorial\",\n",
        "    name=\"ab_leaky_relu\",\n",
        ")\n",
        "def ab_leaky_relu(a, b):\n",
        "  def proc(x):\n",
        "    # x is a tensor. The process is element-wise.\n",
        "\n",
        "    # We obtain all the negative values and its corresponding indices in the\n",
        "    # tensor.\n",
        "    negative_values = tf.boolean_mask(x, x < 0)\n",
        "    negative_values_idc = tf.where(x < 0)\n",
        "\n",
        "    # We obtain all the positive values and its corresponding indices in the\n",
        "    # tensor.\n",
        "    positive_values = tf.boolean_mask(x, x >= 0)\n",
        "    positive_values_idc = tf.where(x > 0)\n",
        "\n",
        "    # We multiply all of the negative values by 'a' and all of the positive\n",
        "    # values by 'b'\n",
        "    negative_values *= a\n",
        "    positive_values *= b\n",
        "\n",
        "    # update all of the negative values\n",
        "    new_x = tf.tensor_scatter_nd_update(tensor=x, \n",
        "                                        indices=negative_values_idc,\n",
        "                                        updates=negative_values)\n",
        "\n",
        "    # update all of the positive values\n",
        "    new_x = tf.tensor_scatter_nd_update(tensor=new_x, \n",
        "                                        indices=positive_values_idc,\n",
        "                                        updates=positive_values)\n",
        "\n",
        "    return new_x\n",
        "  return proc"
      ]
    },
    {
      "cell_type": "code",
      "execution_count": 12,
      "metadata": {
        "id": "sGSfHUteUZlF"
      },
      "outputs": [
        {
          "data": {
            "text/html": [
              "<pre style=\"white-space:pre;overflow-x:auto;line-height:normal;font-family:Menlo,'DejaVu Sans Mono',consolas,'Courier New',monospace\"><span style=\"font-weight: bold\">Model: \"functional\"</span>\n",
              "</pre>\n"
            ],
            "text/plain": [
              "\u001b[1mModel: \"functional\"\u001b[0m\n"
            ]
          },
          "metadata": {},
          "output_type": "display_data"
        },
        {
          "data": {
            "text/html": [
              "<pre style=\"white-space:pre;overflow-x:auto;line-height:normal;font-family:Menlo,'DejaVu Sans Mono',consolas,'Courier New',monospace\">┏━━━━━━━━━━━━━━━━━━━━━━━━━━━━━━━━━┳━━━━━━━━━━━━━━━━━━━━━━━━┳━━━━━━━━━━━━━━━┓\n",
              "┃<span style=\"font-weight: bold\"> Layer (type)                    </span>┃<span style=\"font-weight: bold\"> Output Shape           </span>┃<span style=\"font-weight: bold\">       Param # </span>┃\n",
              "┡━━━━━━━━━━━━━━━━━━━━━━━━━━━━━━━━━╇━━━━━━━━━━━━━━━━━━━━━━━━╇━━━━━━━━━━━━━━━┩\n",
              "│ input_layer_1 (<span style=\"color: #0087ff; text-decoration-color: #0087ff\">InputLayer</span>)      │ (<span style=\"color: #00d7ff; text-decoration-color: #00d7ff\">None</span>, <span style=\"color: #00af00; text-decoration-color: #00af00\">50</span>)             │             <span style=\"color: #00af00; text-decoration-color: #00af00\">0</span> │\n",
              "├─────────────────────────────────┼────────────────────────┼───────────────┤\n",
              "│ vec_add_channel (<span style=\"color: #0087ff; text-decoration-color: #0087ff\">VecAddChannel</span>) │ (<span style=\"color: #00d7ff; text-decoration-color: #00d7ff\">None</span>, <span style=\"color: #00af00; text-decoration-color: #00af00\">50</span>, <span style=\"color: #00af00; text-decoration-color: #00af00\">1</span>)          │             <span style=\"color: #00af00; text-decoration-color: #00af00\">0</span> │\n",
              "├─────────────────────────────────┼────────────────────────┼───────────────┤\n",
              "│ conv1d_transpose                │ (<span style=\"color: #00d7ff; text-decoration-color: #00d7ff\">None</span>, <span style=\"color: #00af00; text-decoration-color: #00af00\">56</span>, <span style=\"color: #00af00; text-decoration-color: #00af00\">2</span>)          │            <span style=\"color: #00af00; text-decoration-color: #00af00\">16</span> │\n",
              "│ (<span style=\"color: #0087ff; text-decoration-color: #0087ff\">Conv1DTranspose</span>)               │                        │               │\n",
              "├─────────────────────────────────┼────────────────────────┼───────────────┤\n",
              "│ conv1d_transpose_1              │ (<span style=\"color: #00d7ff; text-decoration-color: #00d7ff\">None</span>, <span style=\"color: #00af00; text-decoration-color: #00af00\">67</span>, <span style=\"color: #00af00; text-decoration-color: #00af00\">4</span>)          │           <span style=\"color: #00af00; text-decoration-color: #00af00\">100</span> │\n",
              "│ (<span style=\"color: #0087ff; text-decoration-color: #0087ff\">Conv1DTranspose</span>)               │                        │               │\n",
              "├─────────────────────────────────┼────────────────────────┼───────────────┤\n",
              "│ conv1d_transpose_2              │ (<span style=\"color: #00d7ff; text-decoration-color: #00d7ff\">None</span>, <span style=\"color: #00af00; text-decoration-color: #00af00\">82</span>, <span style=\"color: #00af00; text-decoration-color: #00af00\">8</span>)          │           <span style=\"color: #00af00; text-decoration-color: #00af00\">520</span> │\n",
              "│ (<span style=\"color: #0087ff; text-decoration-color: #0087ff\">Conv1DTranspose</span>)               │                        │               │\n",
              "├─────────────────────────────────┼────────────────────────┼───────────────┤\n",
              "│ conv1d_transpose_3              │ (<span style=\"color: #00d7ff; text-decoration-color: #00d7ff\">None</span>, <span style=\"color: #00af00; text-decoration-color: #00af00\">93</span>, <span style=\"color: #00af00; text-decoration-color: #00af00\">6</span>)          │           <span style=\"color: #00af00; text-decoration-color: #00af00\">582</span> │\n",
              "│ (<span style=\"color: #0087ff; text-decoration-color: #0087ff\">Conv1DTranspose</span>)               │                        │               │\n",
              "├─────────────────────────────────┼────────────────────────┼───────────────┤\n",
              "│ flatten (<span style=\"color: #0087ff; text-decoration-color: #0087ff\">Flatten</span>)               │ (<span style=\"color: #00d7ff; text-decoration-color: #00d7ff\">None</span>, <span style=\"color: #00af00; text-decoration-color: #00af00\">558</span>)            │             <span style=\"color: #00af00; text-decoration-color: #00af00\">0</span> │\n",
              "├─────────────────────────────────┼────────────────────────┼───────────────┤\n",
              "│ dense (<span style=\"color: #0087ff; text-decoration-color: #0087ff\">Dense</span>)                   │ (<span style=\"color: #00d7ff; text-decoration-color: #00d7ff\">None</span>, <span style=\"color: #00af00; text-decoration-color: #00af00\">400</span>)            │       <span style=\"color: #00af00; text-decoration-color: #00af00\">223,600</span> │\n",
              "├─────────────────────────────────┼────────────────────────┼───────────────┤\n",
              "│ dense_1 (<span style=\"color: #0087ff; text-decoration-color: #0087ff\">Dense</span>)                 │ (<span style=\"color: #00d7ff; text-decoration-color: #00d7ff\">None</span>, <span style=\"color: #00af00; text-decoration-color: #00af00\">350</span>)            │       <span style=\"color: #00af00; text-decoration-color: #00af00\">140,350</span> │\n",
              "└─────────────────────────────────┴────────────────────────┴───────────────┘\n",
              "</pre>\n"
            ],
            "text/plain": [
              "┏━━━━━━━━━━━━━━━━━━━━━━━━━━━━━━━━━┳━━━━━━━━━━━━━━━━━━━━━━━━┳━━━━━━━━━━━━━━━┓\n",
              "┃\u001b[1m \u001b[0m\u001b[1mLayer (type)                   \u001b[0m\u001b[1m \u001b[0m┃\u001b[1m \u001b[0m\u001b[1mOutput Shape          \u001b[0m\u001b[1m \u001b[0m┃\u001b[1m \u001b[0m\u001b[1m      Param #\u001b[0m\u001b[1m \u001b[0m┃\n",
              "┡━━━━━━━━━━━━━━━━━━━━━━━━━━━━━━━━━╇━━━━━━━━━━━━━━━━━━━━━━━━╇━━━━━━━━━━━━━━━┩\n",
              "│ input_layer_1 (\u001b[38;5;33mInputLayer\u001b[0m)      │ (\u001b[38;5;45mNone\u001b[0m, \u001b[38;5;34m50\u001b[0m)             │             \u001b[38;5;34m0\u001b[0m │\n",
              "├─────────────────────────────────┼────────────────────────┼───────────────┤\n",
              "│ vec_add_channel (\u001b[38;5;33mVecAddChannel\u001b[0m) │ (\u001b[38;5;45mNone\u001b[0m, \u001b[38;5;34m50\u001b[0m, \u001b[38;5;34m1\u001b[0m)          │             \u001b[38;5;34m0\u001b[0m │\n",
              "├─────────────────────────────────┼────────────────────────┼───────────────┤\n",
              "│ conv1d_transpose                │ (\u001b[38;5;45mNone\u001b[0m, \u001b[38;5;34m56\u001b[0m, \u001b[38;5;34m2\u001b[0m)          │            \u001b[38;5;34m16\u001b[0m │\n",
              "│ (\u001b[38;5;33mConv1DTranspose\u001b[0m)               │                        │               │\n",
              "├─────────────────────────────────┼────────────────────────┼───────────────┤\n",
              "│ conv1d_transpose_1              │ (\u001b[38;5;45mNone\u001b[0m, \u001b[38;5;34m67\u001b[0m, \u001b[38;5;34m4\u001b[0m)          │           \u001b[38;5;34m100\u001b[0m │\n",
              "│ (\u001b[38;5;33mConv1DTranspose\u001b[0m)               │                        │               │\n",
              "├─────────────────────────────────┼────────────────────────┼───────────────┤\n",
              "│ conv1d_transpose_2              │ (\u001b[38;5;45mNone\u001b[0m, \u001b[38;5;34m82\u001b[0m, \u001b[38;5;34m8\u001b[0m)          │           \u001b[38;5;34m520\u001b[0m │\n",
              "│ (\u001b[38;5;33mConv1DTranspose\u001b[0m)               │                        │               │\n",
              "├─────────────────────────────────┼────────────────────────┼───────────────┤\n",
              "│ conv1d_transpose_3              │ (\u001b[38;5;45mNone\u001b[0m, \u001b[38;5;34m93\u001b[0m, \u001b[38;5;34m6\u001b[0m)          │           \u001b[38;5;34m582\u001b[0m │\n",
              "│ (\u001b[38;5;33mConv1DTranspose\u001b[0m)               │                        │               │\n",
              "├─────────────────────────────────┼────────────────────────┼───────────────┤\n",
              "│ flatten (\u001b[38;5;33mFlatten\u001b[0m)               │ (\u001b[38;5;45mNone\u001b[0m, \u001b[38;5;34m558\u001b[0m)            │             \u001b[38;5;34m0\u001b[0m │\n",
              "├─────────────────────────────────┼────────────────────────┼───────────────┤\n",
              "│ dense (\u001b[38;5;33mDense\u001b[0m)                   │ (\u001b[38;5;45mNone\u001b[0m, \u001b[38;5;34m400\u001b[0m)            │       \u001b[38;5;34m223,600\u001b[0m │\n",
              "├─────────────────────────────────┼────────────────────────┼───────────────┤\n",
              "│ dense_1 (\u001b[38;5;33mDense\u001b[0m)                 │ (\u001b[38;5;45mNone\u001b[0m, \u001b[38;5;34m350\u001b[0m)            │       \u001b[38;5;34m140,350\u001b[0m │\n",
              "└─────────────────────────────────┴────────────────────────┴───────────────┘\n"
            ]
          },
          "metadata": {},
          "output_type": "display_data"
        },
        {
          "data": {
            "text/html": [
              "<pre style=\"white-space:pre;overflow-x:auto;line-height:normal;font-family:Menlo,'DejaVu Sans Mono',consolas,'Courier New',monospace\"><span style=\"font-weight: bold\"> Total params: </span><span style=\"color: #00af00; text-decoration-color: #00af00\">365,168</span> (1.39 MB)\n",
              "</pre>\n"
            ],
            "text/plain": [
              "\u001b[1m Total params: \u001b[0m\u001b[38;5;34m365,168\u001b[0m (1.39 MB)\n"
            ]
          },
          "metadata": {},
          "output_type": "display_data"
        },
        {
          "data": {
            "text/html": [
              "<pre style=\"white-space:pre;overflow-x:auto;line-height:normal;font-family:Menlo,'DejaVu Sans Mono',consolas,'Courier New',monospace\"><span style=\"font-weight: bold\"> Trainable params: </span><span style=\"color: #00af00; text-decoration-color: #00af00\">365,168</span> (1.39 MB)\n",
              "</pre>\n"
            ],
            "text/plain": [
              "\u001b[1m Trainable params: \u001b[0m\u001b[38;5;34m365,168\u001b[0m (1.39 MB)\n"
            ]
          },
          "metadata": {},
          "output_type": "display_data"
        },
        {
          "data": {
            "text/html": [
              "<pre style=\"white-space:pre;overflow-x:auto;line-height:normal;font-family:Menlo,'DejaVu Sans Mono',consolas,'Courier New',monospace\"><span style=\"font-weight: bold\"> Non-trainable params: </span><span style=\"color: #00af00; text-decoration-color: #00af00\">0</span> (0.00 B)\n",
              "</pre>\n"
            ],
            "text/plain": [
              "\u001b[1m Non-trainable params: \u001b[0m\u001b[38;5;34m0\u001b[0m (0.00 B)\n"
            ]
          },
          "metadata": {},
          "output_type": "display_data"
        }
      ],
      "source": [
        "# Generative model\n",
        "\n",
        "input_layer = tf.keras.layers.Input(shape=(50,))\n",
        "expanded = VecAddChannel()(input_layer)\n",
        "\n",
        "# begin deconvolution \n",
        "cont = Conv1DTranspose(filters=2, kernel_size=7, \n",
        "                       activation=ab_leaky_relu(0.1,1))(expanded)\n",
        "cont = Conv1DTranspose(filters=4, kernel_size=12,\n",
        "                       activation=ab_leaky_relu(0.1,1))(cont)\n",
        "cont = Conv1DTranspose(filters=8, kernel_size=16,\n",
        "                       activation=ab_leaky_relu(0.1,1))(cont)\n",
        "cont = Conv1DTranspose(filters=6, kernel_size=12,\n",
        "                       activation=ab_leaky_relu(0.1,1))(cont)\n",
        "\n",
        "# exit deconvolution, begin fully-connected\n",
        "cont = Flatten()(cont)\n",
        "cont = Dense(400, activation=ab_leaky_relu(0.1,1))(cont)\n",
        "cont = Dense(350, activation='tanh')(cont)\n",
        "\n",
        "# construct the model\n",
        "g_model = tf.keras.Model(inputs=[input_layer], outputs=[cont])\n",
        "\n",
        "g_model.summary()"
      ]
    },
    {
      "cell_type": "markdown",
      "metadata": {},
      "source": [
        "Let's test it out real quick."
      ]
    },
    {
      "cell_type": "code",
      "execution_count": 14,
      "metadata": {},
      "outputs": [
        {
          "name": "stdout",
          "output_type": "stream",
          "text": [
            "The vector space before mapping: R^50\n",
            "The vector space after mapping: R^350\n"
          ]
        }
      ],
      "source": [
        "# We pick the second index of the latent sample to be mapped.\n",
        "# This pick is random.\n",
        "x0_1 = X0[1]\n",
        "print(f'The vector space before mapping: R^{tf.shape(x0_1)[0]}')\n",
        "\n",
        "# The following code won't work because a model in TensorFlow works\n",
        "# in batch.\n",
        "# g_model(x0) # WONT WORK!\n",
        "\n",
        "# Now we map it.\n",
        "xg_1 = g_model(tf.expand_dims(x0_1, axis=0))\n",
        "\n",
        "# xg_1 is having a shape of 1x350 with 1 is the batch size.\n",
        "print(f'The vector space after mapping: R^{tf.shape(xg_1)[1]}')"
      ]
    },
    {
      "cell_type": "markdown",
      "metadata": {},
      "source": [
        "And this is the generated waveform sampled from the latent space prior to model training."
      ]
    },
    {
      "cell_type": "code",
      "execution_count": 15,
      "metadata": {},
      "outputs": [
        {
          "data": {
            "image/png": "[encoded data removed]",
            "text/plain": [
              "<Figure size 1500x400 with 2 Axes>"
            ]
          },
          "metadata": {},
          "output_type": "display_data"
        }
      ],
      "source": [
        "import matplotlib.pyplot as plt\n",
        "f, ax = plt.subplots(1, 2, figsize=(15,4))\n",
        "f.tight_layout(pad=5)\n",
        "ax[0].plot(X0[1], color='black')\n",
        "ax[0].set_ylabel('Value')\n",
        "ax[0].set_title('Latent Sample', fontweight='bold')\n",
        "\n",
        "ax[1].plot(g_model(X0[1:2])[0], color='black')\n",
        "ax[1].set_xlabel('Time (x0.01s)')\n",
        "ax[1].set_ylabel('Amplitude (normalized gal)')\n",
        "ax[1].set_title('Generated P-wave', fontweight='bold')\n",
        "\n",
        "plt.show()"
      ]
    },
    {
      "cell_type": "markdown",
      "metadata": {},
      "source": [
        "### Discriminative Model: $D:\\mathbb{R}^N \\mapsto \\mathbb{R}$"
      ]
    },
    {
      "cell_type": "markdown",
      "metadata": {},
      "source": [
        "The discriminative model is the oppositon of generative model as what he have discussed. It maps a P-wave waveform vector (time-series) to a scalar with a value ranging from 0 to 1. In terms of deep-learning context, we require a neural network that downsamples our data. Since we are dealing with a vector, we could use 1D convolution or a dense layer."
      ]
    },
    {
      "cell_type": "code",
      "execution_count": 17,
      "metadata": {},
      "outputs": [
        {
          "data": {
            "text/html": [
              "<pre style=\"white-space:pre;overflow-x:auto;line-height:normal;font-family:Menlo,'DejaVu Sans Mono',consolas,'Courier New',monospace\"><span style=\"font-weight: bold\">Model: \"functional_2\"</span>\n",
              "</pre>\n"
            ],
            "text/plain": [
              "\u001b[1mModel: \"functional_2\"\u001b[0m\n"
            ]
          },
          "metadata": {},
          "output_type": "display_data"
        },
        {
          "data": {
            "text/html": [
              "<pre style=\"white-space:pre;overflow-x:auto;line-height:normal;font-family:Menlo,'DejaVu Sans Mono',consolas,'Courier New',monospace\">┏━━━━━━━━━━━━━━━━━━━━━━━━━━━━━━━━━┳━━━━━━━━━━━━━━━━━━━━━━━━┳━━━━━━━━━━━━━━━┓\n",
              "┃<span style=\"font-weight: bold\"> Layer (type)                    </span>┃<span style=\"font-weight: bold\"> Output Shape           </span>┃<span style=\"font-weight: bold\">       Param # </span>┃\n",
              "┡━━━━━━━━━━━━━━━━━━━━━━━━━━━━━━━━━╇━━━━━━━━━━━━━━━━━━━━━━━━╇━━━━━━━━━━━━━━━┩\n",
              "│ input_layer_3 (<span style=\"color: #0087ff; text-decoration-color: #0087ff\">InputLayer</span>)      │ (<span style=\"color: #00d7ff; text-decoration-color: #00d7ff\">None</span>, <span style=\"color: #00af00; text-decoration-color: #00af00\">350</span>)            │             <span style=\"color: #00af00; text-decoration-color: #00af00\">0</span> │\n",
              "├─────────────────────────────────┼────────────────────────┼───────────────┤\n",
              "│ vec_add_channel_2               │ (<span style=\"color: #00d7ff; text-decoration-color: #00d7ff\">None</span>, <span style=\"color: #00af00; text-decoration-color: #00af00\">350</span>, <span style=\"color: #00af00; text-decoration-color: #00af00\">1</span>)         │             <span style=\"color: #00af00; text-decoration-color: #00af00\">0</span> │\n",
              "│ (<span style=\"color: #0087ff; text-decoration-color: #0087ff\">VecAddChannel</span>)                 │                        │               │\n",
              "├─────────────────────────────────┼────────────────────────┼───────────────┤\n",
              "│ conv1d_3 (<span style=\"color: #0087ff; text-decoration-color: #0087ff\">Conv1D</span>)               │ (<span style=\"color: #00d7ff; text-decoration-color: #00d7ff\">None</span>, <span style=\"color: #00af00; text-decoration-color: #00af00\">346</span>, <span style=\"color: #00af00; text-decoration-color: #00af00\">3</span>)         │            <span style=\"color: #00af00; text-decoration-color: #00af00\">18</span> │\n",
              "├─────────────────────────────────┼────────────────────────┼───────────────┤\n",
              "│ conv1d_4 (<span style=\"color: #0087ff; text-decoration-color: #0087ff\">Conv1D</span>)               │ (<span style=\"color: #00d7ff; text-decoration-color: #00d7ff\">None</span>, <span style=\"color: #00af00; text-decoration-color: #00af00\">339</span>, <span style=\"color: #00af00; text-decoration-color: #00af00\">4</span>)         │           <span style=\"color: #00af00; text-decoration-color: #00af00\">100</span> │\n",
              "├─────────────────────────────────┼────────────────────────┼───────────────┤\n",
              "│ conv1d_5 (<span style=\"color: #0087ff; text-decoration-color: #0087ff\">Conv1D</span>)               │ (<span style=\"color: #00d7ff; text-decoration-color: #00d7ff\">None</span>, <span style=\"color: #00af00; text-decoration-color: #00af00\">330</span>, <span style=\"color: #00af00; text-decoration-color: #00af00\">3</span>)         │           <span style=\"color: #00af00; text-decoration-color: #00af00\">123</span> │\n",
              "├─────────────────────────────────┼────────────────────────┼───────────────┤\n",
              "│ average_pooling1d_1             │ (<span style=\"color: #00d7ff; text-decoration-color: #00d7ff\">None</span>, <span style=\"color: #00af00; text-decoration-color: #00af00\">165</span>, <span style=\"color: #00af00; text-decoration-color: #00af00\">3</span>)         │             <span style=\"color: #00af00; text-decoration-color: #00af00\">0</span> │\n",
              "│ (<span style=\"color: #0087ff; text-decoration-color: #0087ff\">AveragePooling1D</span>)              │                        │               │\n",
              "├─────────────────────────────────┼────────────────────────┼───────────────┤\n",
              "│ flatten_2 (<span style=\"color: #0087ff; text-decoration-color: #0087ff\">Flatten</span>)             │ (<span style=\"color: #00d7ff; text-decoration-color: #00d7ff\">None</span>, <span style=\"color: #00af00; text-decoration-color: #00af00\">495</span>)            │             <span style=\"color: #00af00; text-decoration-color: #00af00\">0</span> │\n",
              "├─────────────────────────────────┼────────────────────────┼───────────────┤\n",
              "│ dense_7 (<span style=\"color: #0087ff; text-decoration-color: #0087ff\">Dense</span>)                 │ (<span style=\"color: #00d7ff; text-decoration-color: #00d7ff\">None</span>, <span style=\"color: #00af00; text-decoration-color: #00af00\">256</span>)            │       <span style=\"color: #00af00; text-decoration-color: #00af00\">126,976</span> │\n",
              "├─────────────────────────────────┼────────────────────────┼───────────────┤\n",
              "│ dense_8 (<span style=\"color: #0087ff; text-decoration-color: #0087ff\">Dense</span>)                 │ (<span style=\"color: #00d7ff; text-decoration-color: #00d7ff\">None</span>, <span style=\"color: #00af00; text-decoration-color: #00af00\">128</span>)            │        <span style=\"color: #00af00; text-decoration-color: #00af00\">32,896</span> │\n",
              "├─────────────────────────────────┼────────────────────────┼───────────────┤\n",
              "│ dense_9 (<span style=\"color: #0087ff; text-decoration-color: #0087ff\">Dense</span>)                 │ (<span style=\"color: #00d7ff; text-decoration-color: #00d7ff\">None</span>, <span style=\"color: #00af00; text-decoration-color: #00af00\">64</span>)             │         <span style=\"color: #00af00; text-decoration-color: #00af00\">8,256</span> │\n",
              "├─────────────────────────────────┼────────────────────────┼───────────────┤\n",
              "│ dense_10 (<span style=\"color: #0087ff; text-decoration-color: #0087ff\">Dense</span>)                │ (<span style=\"color: #00d7ff; text-decoration-color: #00d7ff\">None</span>, <span style=\"color: #00af00; text-decoration-color: #00af00\">32</span>)             │         <span style=\"color: #00af00; text-decoration-color: #00af00\">2,080</span> │\n",
              "├─────────────────────────────────┼────────────────────────┼───────────────┤\n",
              "│ dense_11 (<span style=\"color: #0087ff; text-decoration-color: #0087ff\">Dense</span>)                │ (<span style=\"color: #00d7ff; text-decoration-color: #00d7ff\">None</span>, <span style=\"color: #00af00; text-decoration-color: #00af00\">1</span>)              │            <span style=\"color: #00af00; text-decoration-color: #00af00\">33</span> │\n",
              "└─────────────────────────────────┴────────────────────────┴───────────────┘\n",
              "</pre>\n"
            ],
            "text/plain": [
              "┏━━━━━━━━━━━━━━━━━━━━━━━━━━━━━━━━━┳━━━━━━━━━━━━━━━━━━━━━━━━┳━━━━━━━━━━━━━━━┓\n",
              "┃\u001b[1m \u001b[0m\u001b[1mLayer (type)                   \u001b[0m\u001b[1m \u001b[0m┃\u001b[1m \u001b[0m\u001b[1mOutput Shape          \u001b[0m\u001b[1m \u001b[0m┃\u001b[1m \u001b[0m\u001b[1m      Param #\u001b[0m\u001b[1m \u001b[0m┃\n",
              "┡━━━━━━━━━━━━━━━━━━━━━━━━━━━━━━━━━╇━━━━━━━━━━━━━━━━━━━━━━━━╇━━━━━━━━━━━━━━━┩\n",
              "│ input_layer_3 (\u001b[38;5;33mInputLayer\u001b[0m)      │ (\u001b[38;5;45mNone\u001b[0m, \u001b[38;5;34m350\u001b[0m)            │             \u001b[38;5;34m0\u001b[0m │\n",
              "├─────────────────────────────────┼────────────────────────┼───────────────┤\n",
              "│ vec_add_channel_2               │ (\u001b[38;5;45mNone\u001b[0m, \u001b[38;5;34m350\u001b[0m, \u001b[38;5;34m1\u001b[0m)         │             \u001b[38;5;34m0\u001b[0m │\n",
              "│ (\u001b[38;5;33mVecAddChannel\u001b[0m)                 │                        │               │\n",
              "├─────────────────────────────────┼────────────────────────┼───────────────┤\n",
              "│ conv1d_3 (\u001b[38;5;33mConv1D\u001b[0m)               │ (\u001b[38;5;45mNone\u001b[0m, \u001b[38;5;34m346\u001b[0m, \u001b[38;5;34m3\u001b[0m)         │            \u001b[38;5;34m18\u001b[0m │\n",
              "├─────────────────────────────────┼────────────────────────┼───────────────┤\n",
              "│ conv1d_4 (\u001b[38;5;33mConv1D\u001b[0m)               │ (\u001b[38;5;45mNone\u001b[0m, \u001b[38;5;34m339\u001b[0m, \u001b[38;5;34m4\u001b[0m)         │           \u001b[38;5;34m100\u001b[0m │\n",
              "├─────────────────────────────────┼────────────────────────┼───────────────┤\n",
              "│ conv1d_5 (\u001b[38;5;33mConv1D\u001b[0m)               │ (\u001b[38;5;45mNone\u001b[0m, \u001b[38;5;34m330\u001b[0m, \u001b[38;5;34m3\u001b[0m)         │           \u001b[38;5;34m123\u001b[0m │\n",
              "├─────────────────────────────────┼────────────────────────┼───────────────┤\n",
              "│ average_pooling1d_1             │ (\u001b[38;5;45mNone\u001b[0m, \u001b[38;5;34m165\u001b[0m, \u001b[38;5;34m3\u001b[0m)         │             \u001b[38;5;34m0\u001b[0m │\n",
              "│ (\u001b[38;5;33mAveragePooling1D\u001b[0m)              │                        │               │\n",
              "├─────────────────────────────────┼────────────────────────┼───────────────┤\n",
              "│ flatten_2 (\u001b[38;5;33mFlatten\u001b[0m)             │ (\u001b[38;5;45mNone\u001b[0m, \u001b[38;5;34m495\u001b[0m)            │             \u001b[38;5;34m0\u001b[0m │\n",
              "├─────────────────────────────────┼────────────────────────┼───────────────┤\n",
              "│ dense_7 (\u001b[38;5;33mDense\u001b[0m)                 │ (\u001b[38;5;45mNone\u001b[0m, \u001b[38;5;34m256\u001b[0m)            │       \u001b[38;5;34m126,976\u001b[0m │\n",
              "├─────────────────────────────────┼────────────────────────┼───────────────┤\n",
              "│ dense_8 (\u001b[38;5;33mDense\u001b[0m)                 │ (\u001b[38;5;45mNone\u001b[0m, \u001b[38;5;34m128\u001b[0m)            │        \u001b[38;5;34m32,896\u001b[0m │\n",
              "├─────────────────────────────────┼────────────────────────┼───────────────┤\n",
              "│ dense_9 (\u001b[38;5;33mDense\u001b[0m)                 │ (\u001b[38;5;45mNone\u001b[0m, \u001b[38;5;34m64\u001b[0m)             │         \u001b[38;5;34m8,256\u001b[0m │\n",
              "├─────────────────────────────────┼────────────────────────┼───────────────┤\n",
              "│ dense_10 (\u001b[38;5;33mDense\u001b[0m)                │ (\u001b[38;5;45mNone\u001b[0m, \u001b[38;5;34m32\u001b[0m)             │         \u001b[38;5;34m2,080\u001b[0m │\n",
              "├─────────────────────────────────┼────────────────────────┼───────────────┤\n",
              "│ dense_11 (\u001b[38;5;33mDense\u001b[0m)                │ (\u001b[38;5;45mNone\u001b[0m, \u001b[38;5;34m1\u001b[0m)              │            \u001b[38;5;34m33\u001b[0m │\n",
              "└─────────────────────────────────┴────────────────────────┴───────────────┘\n"
            ]
          },
          "metadata": {},
          "output_type": "display_data"
        },
        {
          "data": {
            "text/html": [
              "<pre style=\"white-space:pre;overflow-x:auto;line-height:normal;font-family:Menlo,'DejaVu Sans Mono',consolas,'Courier New',monospace\"><span style=\"font-weight: bold\"> Total params: </span><span style=\"color: #00af00; text-decoration-color: #00af00\">170,482</span> (665.95 KB)\n",
              "</pre>\n"
            ],
            "text/plain": [
              "\u001b[1m Total params: \u001b[0m\u001b[38;5;34m170,482\u001b[0m (665.95 KB)\n"
            ]
          },
          "metadata": {},
          "output_type": "display_data"
        },
        {
          "data": {
            "text/html": [
              "<pre style=\"white-space:pre;overflow-x:auto;line-height:normal;font-family:Menlo,'DejaVu Sans Mono',consolas,'Courier New',monospace\"><span style=\"font-weight: bold\"> Trainable params: </span><span style=\"color: #00af00; text-decoration-color: #00af00\">170,482</span> (665.95 KB)\n",
              "</pre>\n"
            ],
            "text/plain": [
              "\u001b[1m Trainable params: \u001b[0m\u001b[38;5;34m170,482\u001b[0m (665.95 KB)\n"
            ]
          },
          "metadata": {},
          "output_type": "display_data"
        },
        {
          "data": {
            "text/html": [
              "<pre style=\"white-space:pre;overflow-x:auto;line-height:normal;font-family:Menlo,'DejaVu Sans Mono',consolas,'Courier New',monospace\"><span style=\"font-weight: bold\"> Non-trainable params: </span><span style=\"color: #00af00; text-decoration-color: #00af00\">0</span> (0.00 B)\n",
              "</pre>\n"
            ],
            "text/plain": [
              "\u001b[1m Non-trainable params: \u001b[0m\u001b[38;5;34m0\u001b[0m (0.00 B)\n"
            ]
          },
          "metadata": {},
          "output_type": "display_data"
        }
      ],
      "source": [
        "# Discriminative model\n",
        "\n",
        "input_layer = Input(shape=(350,))\n",
        "expanded = VecAddChannel()(input_layer)\n",
        "\n",
        "# Begin convolution\n",
        "cont = Conv1D(filters=3, kernel_size=5, activation=ab_leaky_relu(0.1,1))(expanded)\n",
        "cont = Conv1D(filters=4, kernel_size=8, activation=ab_leaky_relu(0.1,1))(cont)\n",
        "cont = Conv1D(filters=3, kernel_size=10, activation=ab_leaky_relu(0.1,1))(cont)\n",
        "cont = AveragePooling1D(pool_size=2)(cont)\n",
        "\n",
        "# exit convolution, begin fully-connected\n",
        "cont = Flatten()(cont)\n",
        "cont = Dense(256, activation=ab_leaky_relu(0.1,1))(cont)\n",
        "cont = Dense(128, activation=ab_leaky_relu(0.1,1))(cont)\n",
        "cont = Dense(64, activation=ab_leaky_relu(0.1,1))(cont)\n",
        "cont = Dense(32, activation=ab_leaky_relu(0.1,1))(cont)\n",
        "cont = Dense(1, activation='sigmoid')(cont)\n",
        "\n",
        "# construct the model\n",
        "d_model = tf.keras.Model(inputs=[input_layer], outputs=[cont])\n",
        "\n",
        "d_model.summary()"
      ]
    },
    {
      "cell_type": "markdown",
      "metadata": {},
      "source": [
        "And now let's test them out. Let's take the following process.\n",
        "\n",
        "\\begin{align}\n",
        "G:\\mathbb{R}^L &\\mapsto \\mathbb{R}^N \\\\\n",
        "D:\\mathbb{R}^N &\\mapsto \\mathbb{R}\n",
        "\\end{align}"
      ]
    },
    {
      "cell_type": "code",
      "execution_count": 19,
      "metadata": {},
      "outputs": [
        {
          "name": "stdout",
          "output_type": "stream",
          "text": [
            "Latent sample space: R^50\n",
            "Generated P-wave's space: R^350\n",
            "Probability value space: R^1\n"
          ]
        }
      ],
      "source": [
        "# taking a random latent sample\n",
        "k = 19\n",
        "x0_k = X0[k]\n",
        "print(f'Latent sample space: R^{tf.shape(x0_k)[0]}')\n",
        "\n",
        "# mapping the latent space to the waveform's space\n",
        "xg_k = g_model(tf.expand_dims(x0_k, 0))\n",
        "print(f\"Generated P-wave's space: R^{tf.shape(xg_k)[1]}\")\n",
        "\n",
        "# mapping the waveform's space to a scalar space\n",
        "d_k = d_model(xg_k)\n",
        "print(f'Probability value space: R^{tf.shape(d_k)[1]}')"
      ]
    },
    {
      "cell_type": "markdown",
      "metadata": {},
      "source": [
        "#### Mathematical Reviews on One-Dimension Convolution and Average Pooling (Optional)"
      ]
    },
    {
      "cell_type": "markdown",
      "metadata": {},
      "source": [
        "##### Convolution 1D"
      ]
    },
    {
      "cell_type": "markdown",
      "metadata": {},
      "source": [
        "The one-dimensional convolution process is the inverse process of the one-dimensional deconvolution. For instance, assume we are having stride = 1 and suppose we have an input vector $\\vec{x}^{(0)} \\in \\mathbb{R}^5$ and an output vector $\\vec{x}^{(1)} \\in \\mathbb{R}^3$ with the kernel $\\vec{k} \\in \\mathbb{R}^3$. The following image represents the convolutional process for stride = 1.\n",
        "\n",
        "<img src='gan_tutorial_img/conv1d.jpg' width='1000px'></img>\n",
        "\n"
      ]
    },
    {
      "cell_type": "markdown",
      "metadata": {},
      "source": [
        "The following equations describe the output values.\n",
        "\\begin{align}\n",
        "x^{(1)}_0 &= k_0 x^{(0)}_0 + k_1 x^{(0)}_1 + k_2 x^{(0)}_2 \\\\\n",
        "x^{(1)}_1 &= \\phantom{k_0 x^{(0)}_0} + k_0 x^{(0)}_1 + k_1 x^{(0)}_2 + k_2 x^{(0)}_3 \\\\\n",
        "x^{(1)}_2 &= \\phantom{k_0 x^{(0)}_0 + k_0 x^{(0)}_1}  + k_0 x^{(0)}_2 + k_1 x^{(0)}_3 + k_2 x^{(0)}_4 \n",
        "\\end{align}\n",
        "We can sumarize the equations above in the following matrix form.\n",
        "\\begin{align}\n",
        "\\vec{x}^{(1)} &= \\begin{bmatrix}\n",
        "k_0 & k_1 & k_2 & 0  & 0 \\\\\n",
        "0   & k_0 & k_1 & k2 & 0 \\\\\n",
        "0   & 0   & k_0 & k_1 & k_2\n",
        "\\end{bmatrix}\\vec{x}^{(0)}\n",
        "\\end{align}\n",
        "In deep-learning, we usually deal with row vector. We transform it into the following equation.\n",
        "\\begin{align}\n",
        "\\vec{x}^{(1)\\top} &= \\vec{x}^{(0)\\top}\\begin{bmatrix}\n",
        "k_0 & 0   & 0 \\\\\n",
        "k_1 & k_0 & 0 \\\\\n",
        "k_2 & k_1 & k_0 \\\\\n",
        "0   & k_2 & k_1 \\\\\n",
        "0   & 0   & k_2 \\\\\n",
        "\\end{bmatrix} \\\\\n",
        "\\vec{x}^{(1)\\top} &= \\vec{x}^{(0)\\top} \\mathbf{K}\n",
        "\\end{align}\n",
        "This operation is no other than a matrix multiplication that have discussed earlier. We can say $\\mathbf{K}:\\vec{x}^{(0)} \\mapsto \\vec{x}^{(1)}$. The matrix $\\mathbf{K}$ is trainable."
      ]
    },
    {
      "cell_type": "markdown",
      "metadata": {},
      "source": [
        "##### Average Pooling 1D"
      ]
    },
    {
      "cell_type": "markdown",
      "metadata": {},
      "source": [
        "A pooling layer is usually used in the down-sampling process and feature extraction. For this particular case, as usual, let's define our input vector $\\vec{x}^{(0)} \\in \\mathbb{R}^8$ and the output vector $\\vec{x}^{(1)} \\in \\mathbb{R}^4$. We use a pooling size of 2. The average pooling process can be seen from the image below.\n",
        "\n",
        "<img src=\"gan_tutorial_img/pool.jpg\" width=\"800px\"></img>\n",
        "\n",
        "For each vector element of the output, the following equations satisfy.\n",
        "\\begin{align*}\n",
        "x^{(1)}_0 = \\frac{1}{2}\\left(x^{(0)}_0 + x^{(0)}_1\\right) \\\\\n",
        "x^{(1)}_1 = \\frac{1}{2}\\left(x^{(0)}_2 + x^{(0)}_3\\right) \\\\\n",
        "x^{(1)}_2 = \\frac{1}{2}\\left(x^{(0)}_4 + x^{(0)}_5\\right) \\\\\n",
        "x^{(1)}_3 = \\frac{1}{2}\\left(x^{(0)}_6 + x^{(0)}_7\\right)\n",
        "\\end{align*}\n",
        "More generally, we may state\n",
        "\\begin{equation*}\n",
        "x^{(1)}_i = \\frac{1}{a}\\sum_{i=2a}^{3a} x^{(0)}_i\n",
        "\\end{equation*}\n",
        "The value of $a$ is the pooling size. Note that this only applies for stride = 1. Unlike the others, this layer does not have any trainable parameters or weights."
      ]
    },
    {
      "cell_type": "markdown",
      "metadata": {},
      "source": [
        "## Loss Functions"
      ]
    },
    {
      "cell_type": "markdown",
      "metadata": {},
      "source": [
        "### Binary Cross Entropy"
      ]
    },
    {
      "cell_type": "markdown",
      "metadata": {},
      "source": [
        "In the binary classification problem, we use the binary cross entropy loss. We calculate $\\mathcal{L}_\\mathrm{BCE}$ via the following expression (BCE stands for Binary Cross Entropy).\n",
        "\\begin{equation*}\n",
        "\\mathcal{L}_\\mathrm{BCE}(\\vec{y}, p(\\vec{y})) = - \\sum_i y_i \\log(p(y_i)) + (1-y_i)\\log(1-p(y_i))\n",
        "\\end{equation*}\n",
        "$p(y_i)$ is derived from $p : y_i$. In the deep learning context, the operator $p$ is the neural network model. The value of $p(y_i)$ is expected to be $[0, 1]$ and $y_i \\in \\{0, 1\\}$. From the given equation, the value of $\\mathcal{L}_\\mathrm{BCE}$ is minimum when $p(y_i) \\rightarrow y_i$, otherwise, it increases. To validate it, try to assign the extreme conditions. We will have $\\mathcal{L}_\\mathrm{BCE}\\rightarrow \\infty$ if $y_i = 0$ and $p(y_i) = 1$ or otherwise. In contrast, if $y_i = p(y_i)$ we have $\\mathcal{L}_\\mathrm{BCE} = 0$."
      ]
    },
    {
      "cell_type": "markdown",
      "metadata": {},
      "source": [
        "### Discriminative Model"
      ]
    },
    {
      "cell_type": "markdown",
      "metadata": {},
      "source": [
        "The loss function for the discriminative model can be derived from the binary cross entropy case. We want $D$ to output $0$ if data the input is sampled from $p_g$ (generator model) or $p_\\text{noise}$. Let's define a vector $\\vec{x}'_i \\sim p_g, p_\\text{noise}$. This notation means that vector $\\vec{x}'_i$ is sampled from generative P-wave distribution and noise distribution from the dataset. Subsequently, let's define $\\vec{x}_i \\sim p_\\text{data}$. Just to clarify, $\\vec{x}'_i \\subset \\mathbf{X}'$ and $\\vec{x}_i \\subset \\mathbf{X}$.\n",
        "\n",
        "At this point, we want to clarify something in the first place. We have not seen $p_\\text{noise}$ before as earlier in the theoretical framework, we do not bother to use the noise dataset. The discriminative is trained with pure P-wave dataset and generative P-wave. This is a modification to the original GAN training initiated by the author of this notebook. But either way, the principle holds the same thing. We consider both the noise form the dataset and the generative P-wave as a non-P-wave data. We may then proceed to the following equation that defines the loss of the discriminative model.\n",
        "\\begin{equation*}\n",
        "\\mathcal{L}_D(\\mathbf{X}, \\mathbf{X}') = \\mathcal{L}_\\mathrm{BCE}(0,D(\\vec{x}')) + \\mathcal{L}_\\mathrm{BCE}(1, D(\\vec{x}))\n",
        "\\end{equation*} \n",
        "If you pay close attention to the equation above, you should notice that the loss function does not incorporate any labels whereas based on our previous definition of BCE loss function, we require the label from the dataset. How is this possible? In principle, what the equation above does is no other than the simplificataion of the previous loss function. We know that $\\vec{x}'_i \\sim p_g, p_\\text{noise}$ and therefore, $\\vec{y}'$ should be $\\vec{0}$. On the other hand, we know that $\\vec{x} \\sim p_\\mathrm{data}$ and therefore, $\\vec{y} = \\vec{1}$. Buy plugging this to the BCE loss function, we satisfy the equation above. Furthermore, we can expand it.\n",
        "\\begin{equation*}\n",
        "\\mathcal{L}_D(\\vec{x}, \\vec{x}') = -\\sum_i \\log(1-D(\\vec{x}'_i)) + \\log(D(\\vec{x}_i))\n",
        "\\end{equation*}"
      ]
    },
    {
      "cell_type": "code",
      "execution_count": 32,
      "metadata": {},
      "outputs": [],
      "source": [
        "@tf.function # adding decorator to accelerate training later\n",
        "def calc_d_loss(X, X_prime, d_model):\n",
        "  # Variable x and x_prime are R^(BxN) with B is the batch size.\n",
        "  # We devide the equation above into two terms.\n",
        "  \n",
        "  # Define epsilon to avoid nan\n",
        "  eps = 1e-6\n",
        "  \n",
        "  # First term:\n",
        "  first_term = tf.math.log(1 - d_model(X_prime) + eps) # shape: B x 1\n",
        "\n",
        "  # Second term:\n",
        "  second_term = tf.math.log(d_model(X) + eps) # shape: B x 1\n",
        "\n",
        "  # Total loss\n",
        "  loss = first_term + second_term # shape: B x 1\n",
        "  loss = tf.math.reduce_sum(loss, axis=0) # shape: 1\n",
        "  loss = - 1* loss[0] # scalar\n",
        "\n",
        "  return loss"
      ]
    },
    {
      "cell_type": "markdown",
      "metadata": {},
      "source": [
        "### Generative Model"
      ]
    },
    {
      "cell_type": "markdown",
      "metadata": {},
      "source": [
        "The generative model's goal is to trick the discriminative model. We want $D(\\vec{x}') \\rightarrow 1$ for $\\vec{x}' \\sim p_g$ and therefore\n",
        "\\begin{align*}\n",
        "\\mathcal{L}_G(\\vec{x}') &= \\sum_i \\mathcal{L}_\\mathrm{BCE}(1, D(\\vec{x}'_i)) \\\\\n",
        "&= - \\sum_i \\log(D(\\vec{x}'_i))\n",
        "\\end{align*}"
      ]
    },
    {
      "cell_type": "code",
      "execution_count": 123,
      "metadata": {},
      "outputs": [],
      "source": [
        "@tf.function # adding decorator to accelerate training\n",
        "def calc_g_loss(X_G, d_model):\n",
        "  # Variable X_G is R^(BxN) with B is the batch size.\n",
        "\n",
        "  # Total loss\n",
        "  loss = tf.math.log(d_model(X_G)) # B x 1\n",
        "  loss = tf.math.reduce_sum(loss, axis=0) # shape: 1\n",
        "  loss = -1 * loss[0]\n",
        "  \n",
        "  return loss"
      ]
    },
    {
      "cell_type": "markdown",
      "metadata": {},
      "source": [
        "## Backpropagation"
      ]
    },
    {
      "cell_type": "markdown",
      "metadata": {},
      "source": [
        "### The Theory of Backpropagation"
      ]
    },
    {
      "cell_type": "markdown",
      "metadata": {},
      "source": [
        "We have neatly define the loss function of each model and now it's time to do the backpropagation process. Suppose we have $\\theta$ a set of our trainable scalars, vectors, matrices, or tensors of our model. We update a particular tensor, let's say $\\mathbf{T} \\subset \\theta$ with the following expression.\n",
        "\\begin{equation*}\n",
        "\\mathbf{T} := \\mathbf{T} - \\alpha \\frac{\\partial \\mathcal{L}(\\vec{x},\\vec{x}')}{\\partial \\mathbf{T}}\n",
        "\\end{equation*}\n",
        "The value of $\\alpha$ shows the learning rate value. We won't delve deeper into the matrix calculus to operate this because the derivation process can be done by TensorFlow automatically via its computational graph. The thing that we should notice is that we are doing a derivative of a scalar to a matrix.  This means the derivative itself is a matrix that corresponds to the shape of $\\mathbf{T}$.  Therefore, by doing so, we are updating all elements of $\\mathbf{T}$. The following equations are the short proof of that claim.\n",
        "\\begin{align*}\n",
        "\\mathbf{Z} = \\frac{\\partial \\mathcal{L}}{\\partial \\mathbf{T}} \\rightarrow z_{pqr...} &= \\left(\\frac{\\partial \\mathcal{L}}{\\partial \\mathbf{T}}\\right)_{pqr...} \\\\\n",
        "&= \\frac{\\partial \\mathcal{L}}{\\partial t_{pqr...}}\n",
        "\\end{align*}"
      ]
    },
    {
      "cell_type": "markdown",
      "metadata": {},
      "source": [
        "#### Mathematical Background of Backpropagation: A Simple DNN (optional)"
      ]
    },
    {
      "cell_type": "markdown",
      "metadata": {},
      "source": [
        "To get the feels of what we are actually doing here, take a simple deep neural network."
      ]
    },
    {
      "cell_type": "markdown",
      "metadata": {},
      "source": [
        "### Backpropagation for Discriminator Model"
      ]
    },
    {
      "cell_type": "markdown",
      "metadata": {},
      "source": [
        "We update the discriminator trainable tensors $\\left(\\theta_D\\right)$."
      ]
    },
    {
      "cell_type": "code",
      "execution_count": 49,
      "metadata": {},
      "outputs": [],
      "source": [
        "@tf.function\n",
        "def d_update_tensors(X, X_prime, d_model, optzr):\n",
        "  # x is P-wave data (shape: BxN)\n",
        "  # x_prime is non-P-wave data (shape: BxN)\n",
        "  # d_model is the discriminative model\n",
        "  # optzr is the optimizer\n",
        "  with tf.GradientTape() as d:\n",
        "    # Calculating L_d\n",
        "    d_loss = calc_d_loss(X, X_prime, d_model)\n",
        "\n",
        "    # Calculating ∂L_d/∂θ_d\n",
        "    grad = d.gradient(d_loss, d_model.trainable_variables)\n",
        "\n",
        "    # Updating θ_d := θ_d - α(∂L_d/∂θ_d)\n",
        "    optzr.apply_gradients(zip(grad, d_model.trainable_variables))"
      ]
    },
    {
      "cell_type": "markdown",
      "metadata": {},
      "source": [
        "### Backpropagation for Generative Model"
      ]
    },
    {
      "cell_type": "markdown",
      "metadata": {},
      "source": [
        "We update the generative trainable tensors $\\left(\\theta_G\\right)$."
      ]
    },
    {
      "cell_type": "code",
      "execution_count": 53,
      "metadata": {},
      "outputs": [],
      "source": [
        "@tf.function\n",
        "def g_update_tensors(g_model, d_model, optzr):\n",
        "  # g_model is the generator model\n",
        "  # optzr is the optimizer\n",
        "\n",
        "  # We generate the artificial P wave.\n",
        "  # We have defined the value of B, L, mu, and sigma earlier.\n",
        "  X0 = tf.random.normal(shape=(B,L), mean=mu, stddev=sigma)\n",
        "  \n",
        "  with tf.GradientTape() as g:\n",
        "    # The generation of the artificial waveform should be put here\n",
        "    # so the gradient can be calculated.\n",
        "    X_G = g_model(X0)\n",
        "\n",
        "    # Calculating L_g\n",
        "    g_loss = calc_g_loss(X_G, d_model)\n",
        "\n",
        "    # Calculating ∂L_g/∂θ_g\n",
        "    grad = g.gradient(g_loss, g_model.trainable_variables)\n",
        "\n",
        "    # Updating θ_g := θ_g - α(∂L_g/∂θ_g)\n",
        "    optzr.apply_gradients(zip(grad, g_model.trainable_variables))"
      ]
    },
    {
      "cell_type": "code",
      "execution_count": null,
      "metadata": {},
      "outputs": [],
      "source": [
        "x = g_model(X0[10:50])\n",
        "x_g = g_model(X0[20:60])\n",
        "x_n = g_model(X0[30:70])\n",
        "optzr = tf.keras.optimizers.Adam(learning_rate=0.009)\n",
        "optzr1 = tf.keras.optimizers.Adam(learning_rate=0.009)\n",
        "for i in range(50):\n",
        "  print(i)\n",
        "  d_update_tensors(x, x_g, d_model, optzr)\n",
        "  g_update_tensors(g_model, d_model, optzr1)\n"
      ]
    },
    {
      "cell_type": "code",
      "execution_count": 63,
      "metadata": {},
      "outputs": [],
      "source": [
        "import gan_tutorial_modules as gtm\n",
        "import sys"
      ]
    },
    {
      "cell_type": "code",
      "execution_count": 57,
      "metadata": {},
      "outputs": [],
      "source": [
        "import sys"
      ]
    },
    {
      "cell_type": "code",
      "execution_count": 163,
      "metadata": {},
      "outputs": [],
      "source": [
        "class Parent():\n",
        "  def __init__(self, a, b):\n",
        "    self.a = a\n",
        "    self.b = b\n",
        "\n",
        "  def __del__(self):\n",
        "    print('bye')\n",
        "\n",
        "class Child(Parent):\n",
        "  def __init__(self, c):\n",
        "    self.c = 2"
      ]
    },
    {
      "cell_type": "code",
      "execution_count": 167,
      "metadata": {},
      "outputs": [
        {
          "name": "stdout",
          "output_type": "stream",
          "text": [
            "2\n",
            "bye\n"
          ]
        }
      ],
      "source": [
        "child = Child(1)\n",
        "print(child.c)\n",
        "del child"
      ]
    },
    {
      "cell_type": "code",
      "execution_count": 115,
      "metadata": {},
      "outputs": [],
      "source": [
        "def gtm_update(gtm):\n",
        "  pending_for_deletion = []\n",
        "  for i in sys.modules:\n",
        "    if i.split('.')[0] == 'gan_tutorial_modules':\n",
        "      pending_for_deletion.append(i)\n",
        "\n",
        "  for i in pending_for_deletion:\n",
        "    del sys.modules[i]\n",
        "  \n",
        "  import gan_tutorial_modules as gtm\n",
        "  return gtm"
      ]
    },
    {
      "cell_type": "code",
      "execution_count": 116,
      "metadata": {},
      "outputs": [],
      "source": [
        "gtm = gtm_update(gtm)"
      ]
    },
    {
      "cell_type": "code",
      "execution_count": 121,
      "metadata": {},
      "outputs": [
        {
          "name": "stdout",
          "output_type": "stream",
          "text": [
            "g\n"
          ]
        }
      ],
      "source": [
        "gmdl = gtm.models.loss()"
      ]
    },
    {
      "cell_type": "code",
      "execution_count": 140,
      "metadata": {},
      "outputs": [
        {
          "name": "stdout",
          "output_type": "stream",
          "text": [
            "aa\n",
            "destructed\n"
          ]
        }
      ],
      "source": [
        "AA = A()\n",
        "AA.quex()\n",
        "AA.destruct(AA)"
      ]
    },
    {
      "cell_type": "code",
      "execution_count": 138,
      "metadata": {},
      "outputs": [],
      "source": [
        "del AA"
      ]
    },
    {
      "cell_type": "code",
      "execution_count": null,
      "metadata": {},
      "outputs": [],
      "source": []
    },
    {
      "cell_type": "code",
      "execution_count": 114,
      "metadata": {},
      "outputs": [
        {
          "data": {
            "text/html": [
              "<pre style=\"white-space:pre;overflow-x:auto;line-height:normal;font-family:Menlo,'DejaVu Sans Mono',consolas,'Courier New',monospace\"><span style=\"font-weight: bold\">Model: \"functional_8\"</span>\n",
              "</pre>\n"
            ],
            "text/plain": [
              "\u001b[1mModel: \"functional_8\"\u001b[0m\n"
            ]
          },
          "metadata": {},
          "output_type": "display_data"
        },
        {
          "data": {
            "text/html": [
              "<pre style=\"white-space:pre;overflow-x:auto;line-height:normal;font-family:Menlo,'DejaVu Sans Mono',consolas,'Courier New',monospace\">┏━━━━━━━━━━━━━━━━━━━━━━━━━━━━━━━━━┳━━━━━━━━━━━━━━━━━━━━━━━━┳━━━━━━━━━━━━━━━┓\n",
              "┃<span style=\"font-weight: bold\"> Layer (type)                    </span>┃<span style=\"font-weight: bold\"> Output Shape           </span>┃<span style=\"font-weight: bold\">       Param # </span>┃\n",
              "┡━━━━━━━━━━━━━━━━━━━━━━━━━━━━━━━━━╇━━━━━━━━━━━━━━━━━━━━━━━━╇━━━━━━━━━━━━━━━┩\n",
              "│ input_layer_9 (<span style=\"color: #0087ff; text-decoration-color: #0087ff\">InputLayer</span>)      │ (<span style=\"color: #00d7ff; text-decoration-color: #00d7ff\">None</span>, <span style=\"color: #00af00; text-decoration-color: #00af00\">350</span>)            │             <span style=\"color: #00af00; text-decoration-color: #00af00\">0</span> │\n",
              "├─────────────────────────────────┼────────────────────────┼───────────────┤\n",
              "│ vec_add_channel_8               │ (<span style=\"color: #00d7ff; text-decoration-color: #00d7ff\">None</span>, <span style=\"color: #00af00; text-decoration-color: #00af00\">350</span>, <span style=\"color: #00af00; text-decoration-color: #00af00\">1</span>)         │             <span style=\"color: #00af00; text-decoration-color: #00af00\">0</span> │\n",
              "│ (<span style=\"color: #0087ff; text-decoration-color: #0087ff\">VecAddChannel</span>)                 │                        │               │\n",
              "├─────────────────────────────────┼────────────────────────┼───────────────┤\n",
              "│ conv1d_15 (<span style=\"color: #0087ff; text-decoration-color: #0087ff\">Conv1D</span>)              │ (<span style=\"color: #00d7ff; text-decoration-color: #00d7ff\">None</span>, <span style=\"color: #00af00; text-decoration-color: #00af00\">346</span>, <span style=\"color: #00af00; text-decoration-color: #00af00\">3</span>)         │            <span style=\"color: #00af00; text-decoration-color: #00af00\">18</span> │\n",
              "├─────────────────────────────────┼────────────────────────┼───────────────┤\n",
              "│ conv1d_16 (<span style=\"color: #0087ff; text-decoration-color: #0087ff\">Conv1D</span>)              │ (<span style=\"color: #00d7ff; text-decoration-color: #00d7ff\">None</span>, <span style=\"color: #00af00; text-decoration-color: #00af00\">339</span>, <span style=\"color: #00af00; text-decoration-color: #00af00\">4</span>)         │           <span style=\"color: #00af00; text-decoration-color: #00af00\">100</span> │\n",
              "├─────────────────────────────────┼────────────────────────┼───────────────┤\n",
              "│ conv1d_17 (<span style=\"color: #0087ff; text-decoration-color: #0087ff\">Conv1D</span>)              │ (<span style=\"color: #00d7ff; text-decoration-color: #00d7ff\">None</span>, <span style=\"color: #00af00; text-decoration-color: #00af00\">330</span>, <span style=\"color: #00af00; text-decoration-color: #00af00\">3</span>)         │           <span style=\"color: #00af00; text-decoration-color: #00af00\">123</span> │\n",
              "├─────────────────────────────────┼────────────────────────┼───────────────┤\n",
              "│ average_pooling1d_5             │ (<span style=\"color: #00d7ff; text-decoration-color: #00d7ff\">None</span>, <span style=\"color: #00af00; text-decoration-color: #00af00\">165</span>, <span style=\"color: #00af00; text-decoration-color: #00af00\">3</span>)         │             <span style=\"color: #00af00; text-decoration-color: #00af00\">0</span> │\n",
              "│ (<span style=\"color: #0087ff; text-decoration-color: #0087ff\">AveragePooling1D</span>)              │                        │               │\n",
              "├─────────────────────────────────┼────────────────────────┼───────────────┤\n",
              "│ flatten_8 (<span style=\"color: #0087ff; text-decoration-color: #0087ff\">Flatten</span>)             │ (<span style=\"color: #00d7ff; text-decoration-color: #00d7ff\">None</span>, <span style=\"color: #00af00; text-decoration-color: #00af00\">495</span>)            │             <span style=\"color: #00af00; text-decoration-color: #00af00\">0</span> │\n",
              "├─────────────────────────────────┼────────────────────────┼───────────────┤\n",
              "│ dense_31 (<span style=\"color: #0087ff; text-decoration-color: #0087ff\">Dense</span>)                │ (<span style=\"color: #00d7ff; text-decoration-color: #00d7ff\">None</span>, <span style=\"color: #00af00; text-decoration-color: #00af00\">256</span>)            │       <span style=\"color: #00af00; text-decoration-color: #00af00\">126,976</span> │\n",
              "├─────────────────────────────────┼────────────────────────┼───────────────┤\n",
              "│ dense_32 (<span style=\"color: #0087ff; text-decoration-color: #0087ff\">Dense</span>)                │ (<span style=\"color: #00d7ff; text-decoration-color: #00d7ff\">None</span>, <span style=\"color: #00af00; text-decoration-color: #00af00\">128</span>)            │        <span style=\"color: #00af00; text-decoration-color: #00af00\">32,896</span> │\n",
              "├─────────────────────────────────┼────────────────────────┼───────────────┤\n",
              "│ dense_33 (<span style=\"color: #0087ff; text-decoration-color: #0087ff\">Dense</span>)                │ (<span style=\"color: #00d7ff; text-decoration-color: #00d7ff\">None</span>, <span style=\"color: #00af00; text-decoration-color: #00af00\">64</span>)             │         <span style=\"color: #00af00; text-decoration-color: #00af00\">8,256</span> │\n",
              "├─────────────────────────────────┼────────────────────────┼───────────────┤\n",
              "│ dense_34 (<span style=\"color: #0087ff; text-decoration-color: #0087ff\">Dense</span>)                │ (<span style=\"color: #00d7ff; text-decoration-color: #00d7ff\">None</span>, <span style=\"color: #00af00; text-decoration-color: #00af00\">32</span>)             │         <span style=\"color: #00af00; text-decoration-color: #00af00\">2,080</span> │\n",
              "├─────────────────────────────────┼────────────────────────┼───────────────┤\n",
              "│ dense_35 (<span style=\"color: #0087ff; text-decoration-color: #0087ff\">Dense</span>)                │ (<span style=\"color: #00d7ff; text-decoration-color: #00d7ff\">None</span>, <span style=\"color: #00af00; text-decoration-color: #00af00\">1</span>)              │            <span style=\"color: #00af00; text-decoration-color: #00af00\">33</span> │\n",
              "└─────────────────────────────────┴────────────────────────┴───────────────┘\n",
              "</pre>\n"
            ],
            "text/plain": [
              "┏━━━━━━━━━━━━━━━━━━━━━━━━━━━━━━━━━┳━━━━━━━━━━━━━━━━━━━━━━━━┳━━━━━━━━━━━━━━━┓\n",
              "┃\u001b[1m \u001b[0m\u001b[1mLayer (type)                   \u001b[0m\u001b[1m \u001b[0m┃\u001b[1m \u001b[0m\u001b[1mOutput Shape          \u001b[0m\u001b[1m \u001b[0m┃\u001b[1m \u001b[0m\u001b[1m      Param #\u001b[0m\u001b[1m \u001b[0m┃\n",
              "┡━━━━━━━━━━━━━━━━━━━━━━━━━━━━━━━━━╇━━━━━━━━━━━━━━━━━━━━━━━━╇━━━━━━━━━━━━━━━┩\n",
              "│ input_layer_9 (\u001b[38;5;33mInputLayer\u001b[0m)      │ (\u001b[38;5;45mNone\u001b[0m, \u001b[38;5;34m350\u001b[0m)            │             \u001b[38;5;34m0\u001b[0m │\n",
              "├─────────────────────────────────┼────────────────────────┼───────────────┤\n",
              "│ vec_add_channel_8               │ (\u001b[38;5;45mNone\u001b[0m, \u001b[38;5;34m350\u001b[0m, \u001b[38;5;34m1\u001b[0m)         │             \u001b[38;5;34m0\u001b[0m │\n",
              "│ (\u001b[38;5;33mVecAddChannel\u001b[0m)                 │                        │               │\n",
              "├─────────────────────────────────┼────────────────────────┼───────────────┤\n",
              "│ conv1d_15 (\u001b[38;5;33mConv1D\u001b[0m)              │ (\u001b[38;5;45mNone\u001b[0m, \u001b[38;5;34m346\u001b[0m, \u001b[38;5;34m3\u001b[0m)         │            \u001b[38;5;34m18\u001b[0m │\n",
              "├─────────────────────────────────┼────────────────────────┼───────────────┤\n",
              "│ conv1d_16 (\u001b[38;5;33mConv1D\u001b[0m)              │ (\u001b[38;5;45mNone\u001b[0m, \u001b[38;5;34m339\u001b[0m, \u001b[38;5;34m4\u001b[0m)         │           \u001b[38;5;34m100\u001b[0m │\n",
              "├─────────────────────────────────┼────────────────────────┼───────────────┤\n",
              "│ conv1d_17 (\u001b[38;5;33mConv1D\u001b[0m)              │ (\u001b[38;5;45mNone\u001b[0m, \u001b[38;5;34m330\u001b[0m, \u001b[38;5;34m3\u001b[0m)         │           \u001b[38;5;34m123\u001b[0m │\n",
              "├─────────────────────────────────┼────────────────────────┼───────────────┤\n",
              "│ average_pooling1d_5             │ (\u001b[38;5;45mNone\u001b[0m, \u001b[38;5;34m165\u001b[0m, \u001b[38;5;34m3\u001b[0m)         │             \u001b[38;5;34m0\u001b[0m │\n",
              "│ (\u001b[38;5;33mAveragePooling1D\u001b[0m)              │                        │               │\n",
              "├─────────────────────────────────┼────────────────────────┼───────────────┤\n",
              "│ flatten_8 (\u001b[38;5;33mFlatten\u001b[0m)             │ (\u001b[38;5;45mNone\u001b[0m, \u001b[38;5;34m495\u001b[0m)            │             \u001b[38;5;34m0\u001b[0m │\n",
              "├─────────────────────────────────┼────────────────────────┼───────────────┤\n",
              "│ dense_31 (\u001b[38;5;33mDense\u001b[0m)                │ (\u001b[38;5;45mNone\u001b[0m, \u001b[38;5;34m256\u001b[0m)            │       \u001b[38;5;34m126,976\u001b[0m │\n",
              "├─────────────────────────────────┼────────────────────────┼───────────────┤\n",
              "│ dense_32 (\u001b[38;5;33mDense\u001b[0m)                │ (\u001b[38;5;45mNone\u001b[0m, \u001b[38;5;34m128\u001b[0m)            │        \u001b[38;5;34m32,896\u001b[0m │\n",
              "├─────────────────────────────────┼────────────────────────┼───────────────┤\n",
              "│ dense_33 (\u001b[38;5;33mDense\u001b[0m)                │ (\u001b[38;5;45mNone\u001b[0m, \u001b[38;5;34m64\u001b[0m)             │         \u001b[38;5;34m8,256\u001b[0m │\n",
              "├─────────────────────────────────┼────────────────────────┼───────────────┤\n",
              "│ dense_34 (\u001b[38;5;33mDense\u001b[0m)                │ (\u001b[38;5;45mNone\u001b[0m, \u001b[38;5;34m32\u001b[0m)             │         \u001b[38;5;34m2,080\u001b[0m │\n",
              "├─────────────────────────────────┼────────────────────────┼───────────────┤\n",
              "│ dense_35 (\u001b[38;5;33mDense\u001b[0m)                │ (\u001b[38;5;45mNone\u001b[0m, \u001b[38;5;34m1\u001b[0m)              │            \u001b[38;5;34m33\u001b[0m │\n",
              "└─────────────────────────────────┴────────────────────────┴───────────────┘\n"
            ]
          },
          "metadata": {},
          "output_type": "display_data"
        },
        {
          "data": {
            "text/html": [
              "<pre style=\"white-space:pre;overflow-x:auto;line-height:normal;font-family:Menlo,'DejaVu Sans Mono',consolas,'Courier New',monospace\"><span style=\"font-weight: bold\"> Total params: </span><span style=\"color: #00af00; text-decoration-color: #00af00\">170,482</span> (665.95 KB)\n",
              "</pre>\n"
            ],
            "text/plain": [
              "\u001b[1m Total params: \u001b[0m\u001b[38;5;34m170,482\u001b[0m (665.95 KB)\n"
            ]
          },
          "metadata": {},
          "output_type": "display_data"
        },
        {
          "data": {
            "text/html": [
              "<pre style=\"white-space:pre;overflow-x:auto;line-height:normal;font-family:Menlo,'DejaVu Sans Mono',consolas,'Courier New',monospace\"><span style=\"font-weight: bold\"> Trainable params: </span><span style=\"color: #00af00; text-decoration-color: #00af00\">170,482</span> (665.95 KB)\n",
              "</pre>\n"
            ],
            "text/plain": [
              "\u001b[1m Trainable params: \u001b[0m\u001b[38;5;34m170,482\u001b[0m (665.95 KB)\n"
            ]
          },
          "metadata": {},
          "output_type": "display_data"
        },
        {
          "data": {
            "text/html": [
              "<pre style=\"white-space:pre;overflow-x:auto;line-height:normal;font-family:Menlo,'DejaVu Sans Mono',consolas,'Courier New',monospace\"><span style=\"font-weight: bold\"> Non-trainable params: </span><span style=\"color: #00af00; text-decoration-color: #00af00\">0</span> (0.00 B)\n",
              "</pre>\n"
            ],
            "text/plain": [
              "\u001b[1m Non-trainable params: \u001b[0m\u001b[38;5;34m0\u001b[0m (0.00 B)\n"
            ]
          },
          "metadata": {},
          "output_type": "display_data"
        }
      ],
      "source": [
        "gmdl.summary()"
      ]
    },
    {
      "cell_type": "code",
      "execution_count": null,
      "metadata": {},
      "outputs": [],
      "source": []
    }
  ],
  "metadata": {
    "colab": {
      "collapsed_sections": [
        "K5DSiYu_-QU2",
        "lt3HDqHVUZ3S"
      ],
      "provenance": [],
      "toc_visible": true
    },
    "kernelspec": {
      "display_name": "Python 3",
      "name": "python3"
    },
    "language_info": {
      "codemirror_mode": {
        "name": "ipython",
        "version": 3
      },
      "file_extension": ".py",
      "mimetype": "text/x-python",
      "name": "python",
      "nbconvert_exporter": "python",
      "pygments_lexer": "ipython3",
      "version": "3.10.12"
    }
  },
  "nbformat": 4,
  "nbformat_minor": 0
}
