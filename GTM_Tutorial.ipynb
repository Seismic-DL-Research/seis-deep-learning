{
  "cells": [
    {
      "cell_type": "markdown",
      "metadata": {
        "id": "l9Pj5vJi58fG"
      },
      "source": [
        "<font size='6px'>\n",
        "📝 <b>GAN Tutorial: Part 2 - GAN Tutorial Module (GTM)</b></font>\n",
        "\n",
        "<font color='orange'> **written by Rai--** </font>"
      ]
    },
    {
      "cell_type": "markdown",
      "metadata": {
        "id": "XiIoLId5HO7N"
      },
      "source": [
        "### Prerequisites (only for Colab users, otherwise please skip)"
      ]
    },
    {
      "cell_type": "code",
      "execution_count": 1,
      "metadata": {
        "colab": {
          "base_uri": "https://localhost:8080/"
        },
        "id": "fkqvuNnmHF-N",
        "outputId": "c15b0aff-95e1-4bfd-e1e7-29db3a59c8c6"
      },
      "outputs": [
        {
          "name": "stdout",
          "output_type": "stream",
          "text": [
            "Collecting tensorflow==2.16.2\n",
            "  Downloading tensorflow-2.16.2-cp310-cp310-manylinux_2_17_x86_64.manylinux2014_x86_64.whl.metadata (4.2 kB)\n",
            "Requirement already satisfied: absl-py>=1.0.0 in /usr/local/lib/python3.10/dist-packages (from tensorflow==2.16.2) (1.4.0)\n",
            "Requirement already satisfied: astunparse>=1.6.0 in /usr/local/lib/python3.10/dist-packages (from tensorflow==2.16.2) (1.6.3)\n",
            "Requirement already satisfied: flatbuffers>=23.5.26 in /usr/local/lib/python3.10/dist-packages (from tensorflow==2.16.2) (24.3.25)\n",
            "Requirement already satisfied: gast!=0.5.0,!=0.5.1,!=0.5.2,>=0.2.1 in /usr/local/lib/python3.10/dist-packages (from tensorflow==2.16.2) (0.6.0)\n",
            "Requirement already satisfied: google-pasta>=0.1.1 in /usr/local/lib/python3.10/dist-packages (from tensorflow==2.16.2) (0.2.0)\n",
            "Requirement already satisfied: h5py>=3.10.0 in /usr/local/lib/python3.10/dist-packages (from tensorflow==2.16.2) (3.11.0)\n",
            "Requirement already satisfied: libclang>=13.0.0 in /usr/local/lib/python3.10/dist-packages (from tensorflow==2.16.2) (18.1.1)\n",
            "Collecting ml-dtypes~=0.3.1 (from tensorflow==2.16.2)\n",
            "  Downloading ml_dtypes-0.3.2-cp310-cp310-manylinux_2_17_x86_64.manylinux2014_x86_64.whl.metadata (20 kB)\n",
            "Requirement already satisfied: opt-einsum>=2.3.2 in /usr/local/lib/python3.10/dist-packages (from tensorflow==2.16.2) (3.3.0)\n",
            "Requirement already satisfied: packaging in /usr/local/lib/python3.10/dist-packages (from tensorflow==2.16.2) (24.1)\n",
            "Requirement already satisfied: protobuf!=4.21.0,!=4.21.1,!=4.21.2,!=4.21.3,!=4.21.4,!=4.21.5,<5.0.0dev,>=3.20.3 in /usr/local/lib/python3.10/dist-packages (from tensorflow==2.16.2) (3.20.3)\n",
            "Requirement already satisfied: requests<3,>=2.21.0 in /usr/local/lib/python3.10/dist-packages (from tensorflow==2.16.2) (2.31.0)\n",
            "Requirement already satisfied: setuptools in /usr/local/lib/python3.10/dist-packages (from tensorflow==2.16.2) (71.0.4)\n",
            "Requirement already satisfied: six>=1.12.0 in /usr/local/lib/python3.10/dist-packages (from tensorflow==2.16.2) (1.16.0)\n",
            "Requirement already satisfied: termcolor>=1.1.0 in /usr/local/lib/python3.10/dist-packages (from tensorflow==2.16.2) (2.4.0)\n",
            "Requirement already satisfied: typing-extensions>=3.6.6 in /usr/local/lib/python3.10/dist-packages (from tensorflow==2.16.2) (4.12.2)\n",
            "Requirement already satisfied: wrapt>=1.11.0 in /usr/local/lib/python3.10/dist-packages (from tensorflow==2.16.2) (1.16.0)\n",
            "Requirement already satisfied: grpcio<2.0,>=1.24.3 in /usr/local/lib/python3.10/dist-packages (from tensorflow==2.16.2) (1.64.1)\n",
            "Collecting tensorboard<2.17,>=2.16 (from tensorflow==2.16.2)\n",
            "  Downloading tensorboard-2.16.2-py3-none-any.whl.metadata (1.6 kB)\n",
            "Requirement already satisfied: keras>=3.0.0 in /usr/local/lib/python3.10/dist-packages (from tensorflow==2.16.2) (3.4.1)\n",
            "Requirement already satisfied: tensorflow-io-gcs-filesystem>=0.23.1 in /usr/local/lib/python3.10/dist-packages (from tensorflow==2.16.2) (0.37.1)\n",
            "Requirement already satisfied: numpy<2.0.0,>=1.23.5 in /usr/local/lib/python3.10/dist-packages (from tensorflow==2.16.2) (1.26.4)\n",
            "Requirement already satisfied: wheel<1.0,>=0.23.0 in /usr/local/lib/python3.10/dist-packages (from astunparse>=1.6.0->tensorflow==2.16.2) (0.43.0)\n",
            "Requirement already satisfied: rich in /usr/local/lib/python3.10/dist-packages (from keras>=3.0.0->tensorflow==2.16.2) (13.7.1)\n",
            "Requirement already satisfied: namex in /usr/local/lib/python3.10/dist-packages (from keras>=3.0.0->tensorflow==2.16.2) (0.0.8)\n",
            "Requirement already satisfied: optree in /usr/local/lib/python3.10/dist-packages (from keras>=3.0.0->tensorflow==2.16.2) (0.12.1)\n",
            "Requirement already satisfied: charset-normalizer<4,>=2 in /usr/local/lib/python3.10/dist-packages (from requests<3,>=2.21.0->tensorflow==2.16.2) (3.3.2)\n",
            "Requirement already satisfied: idna<4,>=2.5 in /usr/local/lib/python3.10/dist-packages (from requests<3,>=2.21.0->tensorflow==2.16.2) (3.7)\n",
            "Requirement already satisfied: urllib3<3,>=1.21.1 in /usr/local/lib/python3.10/dist-packages (from requests<3,>=2.21.0->tensorflow==2.16.2) (2.0.7)\n",
            "Requirement already satisfied: certifi>=2017.4.17 in /usr/local/lib/python3.10/dist-packages (from requests<3,>=2.21.0->tensorflow==2.16.2) (2024.7.4)\n",
            "Requirement already satisfied: markdown>=2.6.8 in /usr/local/lib/python3.10/dist-packages (from tensorboard<2.17,>=2.16->tensorflow==2.16.2) (3.6)\n",
            "Requirement already satisfied: tensorboard-data-server<0.8.0,>=0.7.0 in /usr/local/lib/python3.10/dist-packages (from tensorboard<2.17,>=2.16->tensorflow==2.16.2) (0.7.2)\n",
            "Requirement already satisfied: werkzeug>=1.0.1 in /usr/local/lib/python3.10/dist-packages (from tensorboard<2.17,>=2.16->tensorflow==2.16.2) (3.0.3)\n",
            "Requirement already satisfied: MarkupSafe>=2.1.1 in /usr/local/lib/python3.10/dist-packages (from werkzeug>=1.0.1->tensorboard<2.17,>=2.16->tensorflow==2.16.2) (2.1.5)\n",
            "Requirement already satisfied: markdown-it-py>=2.2.0 in /usr/local/lib/python3.10/dist-packages (from rich->keras>=3.0.0->tensorflow==2.16.2) (3.0.0)\n",
            "Requirement already satisfied: pygments<3.0.0,>=2.13.0 in /usr/local/lib/python3.10/dist-packages (from rich->keras>=3.0.0->tensorflow==2.16.2) (2.16.1)\n",
            "Requirement already satisfied: mdurl~=0.1 in /usr/local/lib/python3.10/dist-packages (from markdown-it-py>=2.2.0->rich->keras>=3.0.0->tensorflow==2.16.2) (0.1.2)\n",
            "Downloading tensorflow-2.16.2-cp310-cp310-manylinux_2_17_x86_64.manylinux2014_x86_64.whl (590.6 MB)\n",
            "\u001b[2K   \u001b[90m━━━━━━━━━━━━━━━━━━━━━━━━━━━━━━━━━━━━━━━━\u001b[0m \u001b[32m590.6/590.6 MB\u001b[0m \u001b[31m2.3 MB/s\u001b[0m eta \u001b[36m0:00:00\u001b[0m\n",
            "\u001b[?25hDownloading ml_dtypes-0.3.2-cp310-cp310-manylinux_2_17_x86_64.manylinux2014_x86_64.whl (2.2 MB)\n",
            "\u001b[2K   \u001b[90m━━━━━━━━━━━━━━━━━━━━━━━━━━━━━━━━━━━━━━━━\u001b[0m \u001b[32m2.2/2.2 MB\u001b[0m \u001b[31m52.4 MB/s\u001b[0m eta \u001b[36m0:00:00\u001b[0m\n",
            "\u001b[?25hDownloading tensorboard-2.16.2-py3-none-any.whl (5.5 MB)\n",
            "\u001b[2K   \u001b[90m━━━━━━━━━━━━━━━━━━━━━━━━━━━━━━━━━━━━━━━━\u001b[0m \u001b[32m5.5/5.5 MB\u001b[0m \u001b[31m97.1 MB/s\u001b[0m eta \u001b[36m0:00:00\u001b[0m\n",
            "\u001b[?25hInstalling collected packages: ml-dtypes, tensorboard, tensorflow\n",
            "  Attempting uninstall: ml-dtypes\n",
            "    Found existing installation: ml-dtypes 0.4.0\n",
            "    Uninstalling ml-dtypes-0.4.0:\n",
            "      Successfully uninstalled ml-dtypes-0.4.0\n",
            "  Attempting uninstall: tensorboard\n",
            "    Found existing installation: tensorboard 2.17.0\n",
            "    Uninstalling tensorboard-2.17.0:\n",
            "      Successfully uninstalled tensorboard-2.17.0\n",
            "  Attempting uninstall: tensorflow\n",
            "    Found existing installation: tensorflow 2.17.0\n",
            "    Uninstalling tensorflow-2.17.0:\n",
            "      Successfully uninstalled tensorflow-2.17.0\n",
            "\u001b[31mERROR: pip's dependency resolver does not currently take into account all the packages that are installed. This behaviour is the source of the following dependency conflicts.\n",
            "tf-keras 2.17.0 requires tensorflow<2.18,>=2.17, but you have tensorflow 2.16.2 which is incompatible.\u001b[0m\u001b[31m\n",
            "\u001b[0mSuccessfully installed ml-dtypes-0.3.2 tensorboard-2.16.2 tensorflow-2.16.2\n"
          ]
        }
      ],
      "source": [
        "!pip install tensorflow==2.16.2"
      ]
    },
    {
      "cell_type": "code",
      "execution_count": 2,
      "metadata": {
        "colab": {
          "base_uri": "https://localhost:8080/"
        },
        "id": "bibPGDB4HYWB",
        "outputId": "bedd2588-2a6e-4abb-e6fc-05362cb10759"
      },
      "outputs": [
        {
          "name": "stdout",
          "output_type": "stream",
          "text": [
            "Cloning into 'seis-deep-learning'...\n",
            "remote: Enumerating objects: 1532, done.\u001b[K\n",
            "remote: Counting objects: 100% (256/256), done.\u001b[K\n",
            "remote: Compressing objects: 100% (159/159), done.\u001b[K\n",
            "remote: Total 1532 (delta 170), reused 180 (delta 96), pack-reused 1276\u001b[K\n",
            "Receiving objects: 100% (1532/1532), 5.96 MiB | 34.51 MiB/s, done.\n",
            "Resolving deltas: 100% (970/970), done.\n",
            "/content/seis-deep-learning\n"
          ]
        }
      ],
      "source": [
        "!git clone https://github.com/Seismic-DL-Research/seis-deep-learning --branch super_dev\n",
        "%cd seis-deep-learning"
      ]
    },
    {
      "cell_type": "code",
      "execution_count": 31,
      "metadata": {
        "colab": {
          "base_uri": "https://localhost:8080/"
        },
        "id": "Saeo6C6UQZtS",
        "outputId": "9de48312-01d5-4ad6-918f-cc2e72a4f826"
      },
      "outputs": [
        {
          "name": "stdout",
          "output_type": "stream",
          "text": [
            "From https://github.com/Seismic-DL-Research/seis-deep-learning\n",
            " * branch            super_dev  -> FETCH_HEAD\n",
            "Updating 834ddcb..b916218\n",
            "Fast-forward\n",
            " GTM_Tutorial.ipynb                        | 272 \u001b[32m+++++++++++++++++++++++++++++++++++++++++++++++++\u001b[m\u001b[31m-\u001b[m\n",
            " gan_tutorial_modules/models/gan.py        |  29 \u001b[32m++++\u001b[m\u001b[31m--\u001b[m\n",
            " gan_tutorial_modules/models/generative.py |   3 \u001b[32m+\u001b[m\u001b[31m-\u001b[m\n",
            " model.png                                 | Bin \u001b[31m208524\u001b[m -> \u001b[32m61898\u001b[m bytes\n",
            " 4 files changed, 288 insertions(+), 16 deletions(-)\n"
          ]
        }
      ],
      "source": [
        "!git pull origin super_dev"
      ]
    },
    {
      "cell_type": "code",
      "execution_count": 28,
      "metadata": {
        "colab": {
          "base_uri": "https://localhost:8080/",
          "height": 316
        },
        "id": "GAOh8ds1HDln",
        "outputId": "1479dddd-635c-4959-ea91-3f9060f93a9b"
      },
      "outputs": [
        {
          "ename": "MessageError",
          "evalue": "Error: credential propagation was unsuccessful",
          "output_type": "error",
          "traceback": [
            "\u001b[0;31m---------------------------------------------------------------------------\u001b[0m",
            "\u001b[0;31mMessageError\u001b[0m                              Traceback (most recent call last)",
            "\u001b[0;32m<ipython-input-28-d5df0069828e>\u001b[0m in \u001b[0;36m<cell line: 2>\u001b[0;34m()\u001b[0m\n\u001b[1;32m      1\u001b[0m \u001b[0;32mfrom\u001b[0m \u001b[0mgoogle\u001b[0m\u001b[0;34m.\u001b[0m\u001b[0mcolab\u001b[0m \u001b[0;32mimport\u001b[0m \u001b[0mdrive\u001b[0m\u001b[0;34m\u001b[0m\u001b[0;34m\u001b[0m\u001b[0m\n\u001b[0;32m----> 2\u001b[0;31m \u001b[0mdrive\u001b[0m\u001b[0;34m.\u001b[0m\u001b[0mmount\u001b[0m\u001b[0;34m(\u001b[0m\u001b[0;34m'/content/drive'\u001b[0m\u001b[0;34m)\u001b[0m\u001b[0;34m\u001b[0m\u001b[0;34m\u001b[0m\u001b[0m\n\u001b[0m",
            "\u001b[0;32m/usr/local/lib/python3.10/dist-packages/google/colab/drive.py\u001b[0m in \u001b[0;36mmount\u001b[0;34m(mountpoint, force_remount, timeout_ms, readonly)\u001b[0m\n\u001b[1;32m     98\u001b[0m \u001b[0;32mdef\u001b[0m \u001b[0mmount\u001b[0m\u001b[0;34m(\u001b[0m\u001b[0mmountpoint\u001b[0m\u001b[0;34m,\u001b[0m \u001b[0mforce_remount\u001b[0m\u001b[0;34m=\u001b[0m\u001b[0;32mFalse\u001b[0m\u001b[0;34m,\u001b[0m \u001b[0mtimeout_ms\u001b[0m\u001b[0;34m=\u001b[0m\u001b[0;36m120000\u001b[0m\u001b[0;34m,\u001b[0m \u001b[0mreadonly\u001b[0m\u001b[0;34m=\u001b[0m\u001b[0;32mFalse\u001b[0m\u001b[0;34m)\u001b[0m\u001b[0;34m:\u001b[0m\u001b[0;34m\u001b[0m\u001b[0;34m\u001b[0m\u001b[0m\n\u001b[1;32m     99\u001b[0m   \u001b[0;34m\"\"\"Mount your Google Drive at the specified mountpoint path.\"\"\"\u001b[0m\u001b[0;34m\u001b[0m\u001b[0;34m\u001b[0m\u001b[0m\n\u001b[0;32m--> 100\u001b[0;31m   return _mount(\n\u001b[0m\u001b[1;32m    101\u001b[0m       \u001b[0mmountpoint\u001b[0m\u001b[0;34m,\u001b[0m\u001b[0;34m\u001b[0m\u001b[0;34m\u001b[0m\u001b[0m\n\u001b[1;32m    102\u001b[0m       \u001b[0mforce_remount\u001b[0m\u001b[0;34m=\u001b[0m\u001b[0mforce_remount\u001b[0m\u001b[0;34m,\u001b[0m\u001b[0;34m\u001b[0m\u001b[0;34m\u001b[0m\u001b[0m\n",
            "\u001b[0;32m/usr/local/lib/python3.10/dist-packages/google/colab/drive.py\u001b[0m in \u001b[0;36m_mount\u001b[0;34m(mountpoint, force_remount, timeout_ms, ephemeral, readonly)\u001b[0m\n\u001b[1;32m    131\u001b[0m   )\n\u001b[1;32m    132\u001b[0m   \u001b[0;32mif\u001b[0m \u001b[0mephemeral\u001b[0m\u001b[0;34m:\u001b[0m\u001b[0;34m\u001b[0m\u001b[0;34m\u001b[0m\u001b[0m\n\u001b[0;32m--> 133\u001b[0;31m     _message.blocking_request(\n\u001b[0m\u001b[1;32m    134\u001b[0m         \u001b[0;34m'request_auth'\u001b[0m\u001b[0;34m,\u001b[0m\u001b[0;34m\u001b[0m\u001b[0;34m\u001b[0m\u001b[0m\n\u001b[1;32m    135\u001b[0m         \u001b[0mrequest\u001b[0m\u001b[0;34m=\u001b[0m\u001b[0;34m{\u001b[0m\u001b[0;34m'authType'\u001b[0m\u001b[0;34m:\u001b[0m \u001b[0;34m'dfs_ephemeral'\u001b[0m\u001b[0;34m}\u001b[0m\u001b[0;34m,\u001b[0m\u001b[0;34m\u001b[0m\u001b[0;34m\u001b[0m\u001b[0m\n",
            "\u001b[0;32m/usr/local/lib/python3.10/dist-packages/google/colab/_message.py\u001b[0m in \u001b[0;36mblocking_request\u001b[0;34m(request_type, request, timeout_sec, parent)\u001b[0m\n\u001b[1;32m    174\u001b[0m       \u001b[0mrequest_type\u001b[0m\u001b[0;34m,\u001b[0m \u001b[0mrequest\u001b[0m\u001b[0;34m,\u001b[0m \u001b[0mparent\u001b[0m\u001b[0;34m=\u001b[0m\u001b[0mparent\u001b[0m\u001b[0;34m,\u001b[0m \u001b[0mexpect_reply\u001b[0m\u001b[0;34m=\u001b[0m\u001b[0;32mTrue\u001b[0m\u001b[0;34m\u001b[0m\u001b[0;34m\u001b[0m\u001b[0m\n\u001b[1;32m    175\u001b[0m   )\n\u001b[0;32m--> 176\u001b[0;31m   \u001b[0;32mreturn\u001b[0m \u001b[0mread_reply_from_input\u001b[0m\u001b[0;34m(\u001b[0m\u001b[0mrequest_id\u001b[0m\u001b[0;34m,\u001b[0m \u001b[0mtimeout_sec\u001b[0m\u001b[0;34m)\u001b[0m\u001b[0;34m\u001b[0m\u001b[0;34m\u001b[0m\u001b[0m\n\u001b[0m",
            "\u001b[0;32m/usr/local/lib/python3.10/dist-packages/google/colab/_message.py\u001b[0m in \u001b[0;36mread_reply_from_input\u001b[0;34m(message_id, timeout_sec)\u001b[0m\n\u001b[1;32m    101\u001b[0m     ):\n\u001b[1;32m    102\u001b[0m       \u001b[0;32mif\u001b[0m \u001b[0;34m'error'\u001b[0m \u001b[0;32min\u001b[0m \u001b[0mreply\u001b[0m\u001b[0;34m:\u001b[0m\u001b[0;34m\u001b[0m\u001b[0;34m\u001b[0m\u001b[0m\n\u001b[0;32m--> 103\u001b[0;31m         \u001b[0;32mraise\u001b[0m \u001b[0mMessageError\u001b[0m\u001b[0;34m(\u001b[0m\u001b[0mreply\u001b[0m\u001b[0;34m[\u001b[0m\u001b[0;34m'error'\u001b[0m\u001b[0;34m]\u001b[0m\u001b[0;34m)\u001b[0m\u001b[0;34m\u001b[0m\u001b[0;34m\u001b[0m\u001b[0m\n\u001b[0m\u001b[1;32m    104\u001b[0m       \u001b[0;32mreturn\u001b[0m \u001b[0mreply\u001b[0m\u001b[0;34m.\u001b[0m\u001b[0mget\u001b[0m\u001b[0;34m(\u001b[0m\u001b[0;34m'data'\u001b[0m\u001b[0;34m,\u001b[0m \u001b[0;32mNone\u001b[0m\u001b[0;34m)\u001b[0m\u001b[0;34m\u001b[0m\u001b[0;34m\u001b[0m\u001b[0m\n\u001b[1;32m    105\u001b[0m \u001b[0;34m\u001b[0m\u001b[0m\n",
            "\u001b[0;31mMessageError\u001b[0m: Error: credential propagation was unsuccessful"
          ]
        }
      ],
      "source": [
        "from google.colab import drive\n",
        "drive.mount('/content/drive')"
      ]
    },
    {
      "cell_type": "code",
      "execution_count": null,
      "metadata": {
        "id": "8GBpKhMiJ6di"
      },
      "outputs": [],
      "source": [
        "import tensorflow as tf"
      ]
    },
    {
      "cell_type": "markdown",
      "metadata": {
        "id": "BTn4oLU0HmWS"
      },
      "source": [
        "# 1. Retrieving Sample Data"
      ]
    },
    {
      "cell_type": "markdown",
      "metadata": {
        "id": "qiVOic7bHrWt"
      },
      "source": [
        "We will fetch a dataset to train our GAN model later. This dataset has been prerpocessed by the author. To be able to keep up with this tutorial, please download the dataset from the following link: https://drive.google.com/drive/folders/1vqsSlJn5XhsIATnH17iUxMUcu3m_6Flg?usp=sharing. Afterwards, please make a folder named ```sample_dataset``` in the working directory of this notebook. Paste all of the downloaded data into the ```sample_dataset``` folder. Make sure that inside the folder, there is only ```.tfr``` data downlaoded from the link!"
      ]
    },
    {
      "cell_type": "markdown",
      "metadata": {
        "id": "VKyApNCJIQIZ"
      },
      "source": [
        "**Do not run this following code. Only works for the author!**"
      ]
    },
    {
      "cell_type": "code",
      "execution_count": null,
      "metadata": {
        "id": "Z5Obx2A9IXgr"
      },
      "outputs": [],
      "source": [
        "import os\n",
        "import shutil"
      ]
    },
    {
      "cell_type": "code",
      "execution_count": null,
      "metadata": {
        "colab": {
          "base_uri": "https://localhost:8080/",
          "height": 36
        },
        "id": "Kwakz1wiISrV",
        "outputId": "361e23c9-05d4-47fe-f686-66f162fe13b6"
      },
      "outputs": [
        {
          "data": {
            "application/vnd.google.colaboratory.intrinsic+json": {
              "type": "string"
            },
            "text/plain": [
              "'sample_dataset'"
            ]
          },
          "execution_count": 6,
          "metadata": {},
          "output_type": "execute_result"
        }
      ],
      "source": [
        "shutil.copytree('../drive/MyDrive/thesis/processed_tfrs', 'sample_dataset')"
      ]
    },
    {
      "cell_type": "markdown",
      "metadata": {
        "id": "W-O6-zL2I8ts"
      },
      "source": [
        "# 2. Reading Dataset"
      ]
    },
    {
      "cell_type": "markdown",
      "metadata": {
        "id": "lSIOyAhOJHPm"
      },
      "source": [
        "I assume that you are already familiar with the TFRecord. If you want to learn more about TFRecord, please visit: https://colab.research.google.com/drive/1xH0pdQVC1Dv_wR1Co-VwTjdFqk6dB5d8"
      ]
    },
    {
      "cell_type": "code",
      "execution_count": null,
      "metadata": {
        "id": "XaAhD9vFJzfF"
      },
      "outputs": [],
      "source": [
        "# our parse config\n",
        "parse_config = {'data': tf.io.FixedLenFeature([], tf.string)}"
      ]
    },
    {
      "cell_type": "code",
      "execution_count": null,
      "metadata": {
        "id": "hnb3J6AZKGHH"
      },
      "outputs": [],
      "source": [
        "# define mapping function\n",
        "def map_reading(data):\n",
        "  parsed_example = tf.io.parse_example(data, parse_config)\n",
        "  mapped_data = tf.io.parse_tensor(parsed_example['data'], tf.float32)\n",
        "  return mapped_data"
      ]
    },
    {
      "cell_type": "code",
      "execution_count": null,
      "metadata": {
        "id": "wWLa47qXKcbN"
      },
      "outputs": [],
      "source": [
        "# training dataset\n",
        "p_train = tf.data.TFRecordDataset('sample_dataset/train-p.tfr').map(map_reading)\n",
        "n_train = tf.data.TFRecordDataset('sample_dataset/train-n.tfr').map(map_reading)\n",
        "\n",
        "# validation dataset\n",
        "p_val = tf.data.TFRecordDataset('sample_dataset/valid-p.tfr').map(map_reading)\n",
        "n_val = tf.data.TFRecordDataset('sample_dataset/valid-n.tfr').map(map_reading)"
      ]
    },
    {
      "cell_type": "markdown",
      "metadata": {
        "id": "kFC_wIJrG5Kf"
      },
      "source": [
        "#  3. The ```gtm``` Module"
      ]
    },
    {
      "cell_type": "markdown",
      "metadata": {
        "id": "wDU-ngPlG8nB"
      },
      "source": [
        "GTM stands for GAN Tutorial Module, which is a module made by the author that offers easability for constructing GAN and training GAN. The author has reconstructed all of the methods that we have gone through into three main modules which are ```gtm.models.GAN``` , ```gtm.models.discriminative``` and ```gtm.models.generative```. These moduls are designed to be as easy as possible to specifically design and train GAN for seismic P-phase detection. As we already have covered all the theoretical and basic practices of GAN, now we will delve into how to leverage this module. We will no longer delve into math anymore from this point on. Let's import the GTM module."
      ]
    },
    {
      "cell_type": "code",
      "execution_count": null,
      "metadata": {
        "id": "AHiO2BmUMKBH"
      },
      "outputs": [],
      "source": [
        "import gan_tutorial_modules as gtm"
      ]
    },
    {
      "cell_type": "markdown",
      "metadata": {
        "id": "wwWxl96Mpz8P"
      },
      "source": [
        "## Configuring GAN"
      ]
    },
    {
      "cell_type": "code",
      "execution_count": 32,
      "metadata": {
        "id": "RVAt_lxaPwyI"
      },
      "outputs": [],
      "source": [
        "def gtm_update(gtm):\n",
        "  pending_for_deletion = []\n",
        "  for i in sys.modules:\n",
        "    if i.split('.')[0] == 'gan_tutorial_modules':\n",
        "      pending_for_deletion.append(i)\n",
        "\n",
        "  for i in pending_for_deletion:\n",
        "    del sys.modules[i]\n",
        "\n",
        "  import gan_tutorial_modules as gtm\n",
        "  return gtm"
      ]
    },
    {
      "cell_type": "code",
      "execution_count": 33,
      "metadata": {
        "id": "bIS_TwaaPxyf"
      },
      "outputs": [],
      "source": [
        "import sys\n",
        "gtm = gtm_update(gtm)"
      ]
    },
    {
      "cell_type": "markdown",
      "metadata": {
        "id": "khTh2PjKp2Ut"
      },
      "source": [
        "To initiate our training, we configure our GAN model using ```gtm.models.GAN()```. Take a look at the parameters that is required to initiate the ```gan``` class object. I assume that these parameters are easy to understand if you have understood quite well the tutorial we have gone through."
      ]
    },
    {
      "cell_type": "code",
      "execution_count": null,
      "metadata": {
        "id": "jtBeYLxFG5m5"
      },
      "outputs": [],
      "source": [
        "gan = gtm.models.GAN(epoch=5,\n",
        "                    batch_size=512,\n",
        "                    window_length=350,\n",
        "                    generative_optimizer=tf.keras.optimizers.Adam(learning_rate=1e-4),\n",
        "                    discriminative_optimizer= tf.keras.optimizers.Adam(learning_rate=1e-4),\n",
        "                    generative_total_iterations=2,\n",
        "                    discriminative_total_iterations=3,\n",
        "                    generative_latent_sample_size=50,\n",
        "                    generative_latent_sample_mean=0,\n",
        "                    generative_latent_sample_stdev=0.6,\n",
        "                    p_wave_dataset=p_train, # data assigned must contain any batch size!\n",
        "                    n_wave_dataset=n_train, # data assigned must contain any batch size!\n",
        "                    p_wave_dataset_val=p_val, # data assigned must contain any batch size!\n",
        "                    n_wave_dataset_val=n_val # data assigned must contain any batch size!\n",
        "                    )\n"
      ]
    },
    {
      "cell_type": "markdown",
      "metadata": {
        "id": "rQRt06_0p-e8"
      },
      "source": [
        "We initiate the ```generative``` object class using ```gtm.models.Generative()```. The initiation process of this class requires ```gan``` object. This principle also applies for the ```discriminative``` object."
      ]
    },
    {
      "cell_type": "code",
      "execution_count": null,
      "metadata": {
        "id": "WNLnvWUGQMsd"
      },
      "outputs": [],
      "source": [
        "generative = gtm.models.Generative(gan)\n",
        "discriminative = gtm.models.Discriminative(gan)"
      ]
    },
    {
      "cell_type": "markdown",
      "metadata": {
        "id": "KIpO3_G0qfzd"
      },
      "source": [
        "## Working with Models: Get Models and Update Models"
      ]
    },
    {
      "cell_type": "markdown",
      "metadata": {
        "id": "Ewy5yVGkq1U2"
      },
      "source": [
        "By default, both of these objects already have sample models. These sample models are identical to the tutorial."
      ]
    },
    {
      "cell_type": "code",
      "execution_count": null,
      "metadata": {
        "colab": {
          "base_uri": "https://localhost:8080/",
          "height": 535
        },
        "id": "mBcp9rHdq6TH",
        "outputId": "66162812-691d-4965-9cdc-3a3feb1912f1"
      },
      "outputs": [
        {
          "data": {
            "text/html": [
              "<pre style=\"white-space:pre;overflow-x:auto;line-height:normal;font-family:Menlo,'DejaVu Sans Mono',consolas,'Courier New',monospace\"><span style=\"font-weight: bold\">Model: \"functional_1\"</span>\n",
              "</pre>\n"
            ],
            "text/plain": [
              "\u001b[1mModel: \"functional_1\"\u001b[0m\n"
            ]
          },
          "metadata": {},
          "output_type": "display_data"
        },
        {
          "data": {
            "text/html": [
              "<pre style=\"white-space:pre;overflow-x:auto;line-height:normal;font-family:Menlo,'DejaVu Sans Mono',consolas,'Courier New',monospace\">┏━━━━━━━━━━━━━━━━━━━━━━━━━━━━━━━━━━━━━━┳━━━━━━━━━━━━━━━━━━━━━━━━━━━━━┳━━━━━━━━━━━━━━━━━┓\n",
              "┃<span style=\"font-weight: bold\"> Layer (type)                         </span>┃<span style=\"font-weight: bold\"> Output Shape                </span>┃<span style=\"font-weight: bold\">         Param # </span>┃\n",
              "┡━━━━━━━━━━━━━━━━━━━━━━━━━━━━━━━━━━━━━━╇━━━━━━━━━━━━━━━━━━━━━━━━━━━━━╇━━━━━━━━━━━━━━━━━┩\n",
              "│ input_layer_1 (<span style=\"color: #0087ff; text-decoration-color: #0087ff\">InputLayer</span>)           │ (<span style=\"color: #00d7ff; text-decoration-color: #00d7ff\">None</span>, <span style=\"color: #00af00; text-decoration-color: #00af00\">350</span>)                 │               <span style=\"color: #00af00; text-decoration-color: #00af00\">0</span> │\n",
              "├──────────────────────────────────────┼─────────────────────────────┼─────────────────┤\n",
              "│ vec_add_channel_1 (<span style=\"color: #0087ff; text-decoration-color: #0087ff\">VecAddChannel</span>)    │ (<span style=\"color: #00d7ff; text-decoration-color: #00d7ff\">None</span>, <span style=\"color: #00af00; text-decoration-color: #00af00\">350</span>, <span style=\"color: #00af00; text-decoration-color: #00af00\">1</span>)              │               <span style=\"color: #00af00; text-decoration-color: #00af00\">0</span> │\n",
              "├──────────────────────────────────────┼─────────────────────────────┼─────────────────┤\n",
              "│ conv1d (<span style=\"color: #0087ff; text-decoration-color: #0087ff\">Conv1D</span>)                      │ (<span style=\"color: #00d7ff; text-decoration-color: #00d7ff\">None</span>, <span style=\"color: #00af00; text-decoration-color: #00af00\">346</span>, <span style=\"color: #00af00; text-decoration-color: #00af00\">3</span>)              │              <span style=\"color: #00af00; text-decoration-color: #00af00\">18</span> │\n",
              "├──────────────────────────────────────┼─────────────────────────────┼─────────────────┤\n",
              "│ conv1d_1 (<span style=\"color: #0087ff; text-decoration-color: #0087ff\">Conv1D</span>)                    │ (<span style=\"color: #00d7ff; text-decoration-color: #00d7ff\">None</span>, <span style=\"color: #00af00; text-decoration-color: #00af00\">339</span>, <span style=\"color: #00af00; text-decoration-color: #00af00\">4</span>)              │             <span style=\"color: #00af00; text-decoration-color: #00af00\">100</span> │\n",
              "├──────────────────────────────────────┼─────────────────────────────┼─────────────────┤\n",
              "│ conv1d_2 (<span style=\"color: #0087ff; text-decoration-color: #0087ff\">Conv1D</span>)                    │ (<span style=\"color: #00d7ff; text-decoration-color: #00d7ff\">None</span>, <span style=\"color: #00af00; text-decoration-color: #00af00\">330</span>, <span style=\"color: #00af00; text-decoration-color: #00af00\">3</span>)              │             <span style=\"color: #00af00; text-decoration-color: #00af00\">123</span> │\n",
              "├──────────────────────────────────────┼─────────────────────────────┼─────────────────┤\n",
              "│ average_pooling1d (<span style=\"color: #0087ff; text-decoration-color: #0087ff\">AveragePooling1D</span>) │ (<span style=\"color: #00d7ff; text-decoration-color: #00d7ff\">None</span>, <span style=\"color: #00af00; text-decoration-color: #00af00\">165</span>, <span style=\"color: #00af00; text-decoration-color: #00af00\">3</span>)              │               <span style=\"color: #00af00; text-decoration-color: #00af00\">0</span> │\n",
              "├──────────────────────────────────────┼─────────────────────────────┼─────────────────┤\n",
              "│ flatten_1 (<span style=\"color: #0087ff; text-decoration-color: #0087ff\">Flatten</span>)                  │ (<span style=\"color: #00d7ff; text-decoration-color: #00d7ff\">None</span>, <span style=\"color: #00af00; text-decoration-color: #00af00\">495</span>)                 │               <span style=\"color: #00af00; text-decoration-color: #00af00\">0</span> │\n",
              "├──────────────────────────────────────┼─────────────────────────────┼─────────────────┤\n",
              "│ dense_2 (<span style=\"color: #0087ff; text-decoration-color: #0087ff\">Dense</span>)                      │ (<span style=\"color: #00d7ff; text-decoration-color: #00d7ff\">None</span>, <span style=\"color: #00af00; text-decoration-color: #00af00\">256</span>)                 │         <span style=\"color: #00af00; text-decoration-color: #00af00\">126,976</span> │\n",
              "├──────────────────────────────────────┼─────────────────────────────┼─────────────────┤\n",
              "│ dense_3 (<span style=\"color: #0087ff; text-decoration-color: #0087ff\">Dense</span>)                      │ (<span style=\"color: #00d7ff; text-decoration-color: #00d7ff\">None</span>, <span style=\"color: #00af00; text-decoration-color: #00af00\">128</span>)                 │          <span style=\"color: #00af00; text-decoration-color: #00af00\">32,896</span> │\n",
              "├──────────────────────────────────────┼─────────────────────────────┼─────────────────┤\n",
              "│ dense_4 (<span style=\"color: #0087ff; text-decoration-color: #0087ff\">Dense</span>)                      │ (<span style=\"color: #00d7ff; text-decoration-color: #00d7ff\">None</span>, <span style=\"color: #00af00; text-decoration-color: #00af00\">64</span>)                  │           <span style=\"color: #00af00; text-decoration-color: #00af00\">8,256</span> │\n",
              "├──────────────────────────────────────┼─────────────────────────────┼─────────────────┤\n",
              "│ dense_5 (<span style=\"color: #0087ff; text-decoration-color: #0087ff\">Dense</span>)                      │ (<span style=\"color: #00d7ff; text-decoration-color: #00d7ff\">None</span>, <span style=\"color: #00af00; text-decoration-color: #00af00\">32</span>)                  │           <span style=\"color: #00af00; text-decoration-color: #00af00\">2,080</span> │\n",
              "├──────────────────────────────────────┼─────────────────────────────┼─────────────────┤\n",
              "│ dense_6 (<span style=\"color: #0087ff; text-decoration-color: #0087ff\">Dense</span>)                      │ (<span style=\"color: #00d7ff; text-decoration-color: #00d7ff\">None</span>, <span style=\"color: #00af00; text-decoration-color: #00af00\">1</span>)                   │              <span style=\"color: #00af00; text-decoration-color: #00af00\">33</span> │\n",
              "└──────────────────────────────────────┴─────────────────────────────┴─────────────────┘\n",
              "</pre>\n"
            ],
            "text/plain": [
              "┏━━━━━━━━━━━━━━━━━━━━━━━━━━━━━━━━━━━━━━┳━━━━━━━━━━━━━━━━━━━━━━━━━━━━━┳━━━━━━━━━━━━━━━━━┓\n",
              "┃\u001b[1m \u001b[0m\u001b[1mLayer (type)                        \u001b[0m\u001b[1m \u001b[0m┃\u001b[1m \u001b[0m\u001b[1mOutput Shape               \u001b[0m\u001b[1m \u001b[0m┃\u001b[1m \u001b[0m\u001b[1m        Param #\u001b[0m\u001b[1m \u001b[0m┃\n",
              "┡━━━━━━━━━━━━━━━━━━━━━━━━━━━━━━━━━━━━━━╇━━━━━━━━━━━━━━━━━━━━━━━━━━━━━╇━━━━━━━━━━━━━━━━━┩\n",
              "│ input_layer_1 (\u001b[38;5;33mInputLayer\u001b[0m)           │ (\u001b[38;5;45mNone\u001b[0m, \u001b[38;5;34m350\u001b[0m)                 │               \u001b[38;5;34m0\u001b[0m │\n",
              "├──────────────────────────────────────┼─────────────────────────────┼─────────────────┤\n",
              "│ vec_add_channel_1 (\u001b[38;5;33mVecAddChannel\u001b[0m)    │ (\u001b[38;5;45mNone\u001b[0m, \u001b[38;5;34m350\u001b[0m, \u001b[38;5;34m1\u001b[0m)              │               \u001b[38;5;34m0\u001b[0m │\n",
              "├──────────────────────────────────────┼─────────────────────────────┼─────────────────┤\n",
              "│ conv1d (\u001b[38;5;33mConv1D\u001b[0m)                      │ (\u001b[38;5;45mNone\u001b[0m, \u001b[38;5;34m346\u001b[0m, \u001b[38;5;34m3\u001b[0m)              │              \u001b[38;5;34m18\u001b[0m │\n",
              "├──────────────────────────────────────┼─────────────────────────────┼─────────────────┤\n",
              "│ conv1d_1 (\u001b[38;5;33mConv1D\u001b[0m)                    │ (\u001b[38;5;45mNone\u001b[0m, \u001b[38;5;34m339\u001b[0m, \u001b[38;5;34m4\u001b[0m)              │             \u001b[38;5;34m100\u001b[0m │\n",
              "├──────────────────────────────────────┼─────────────────────────────┼─────────────────┤\n",
              "│ conv1d_2 (\u001b[38;5;33mConv1D\u001b[0m)                    │ (\u001b[38;5;45mNone\u001b[0m, \u001b[38;5;34m330\u001b[0m, \u001b[38;5;34m3\u001b[0m)              │             \u001b[38;5;34m123\u001b[0m │\n",
              "├──────────────────────────────────────┼─────────────────────────────┼─────────────────┤\n",
              "│ average_pooling1d (\u001b[38;5;33mAveragePooling1D\u001b[0m) │ (\u001b[38;5;45mNone\u001b[0m, \u001b[38;5;34m165\u001b[0m, \u001b[38;5;34m3\u001b[0m)              │               \u001b[38;5;34m0\u001b[0m │\n",
              "├──────────────────────────────────────┼─────────────────────────────┼─────────────────┤\n",
              "│ flatten_1 (\u001b[38;5;33mFlatten\u001b[0m)                  │ (\u001b[38;5;45mNone\u001b[0m, \u001b[38;5;34m495\u001b[0m)                 │               \u001b[38;5;34m0\u001b[0m │\n",
              "├──────────────────────────────────────┼─────────────────────────────┼─────────────────┤\n",
              "│ dense_2 (\u001b[38;5;33mDense\u001b[0m)                      │ (\u001b[38;5;45mNone\u001b[0m, \u001b[38;5;34m256\u001b[0m)                 │         \u001b[38;5;34m126,976\u001b[0m │\n",
              "├──────────────────────────────────────┼─────────────────────────────┼─────────────────┤\n",
              "│ dense_3 (\u001b[38;5;33mDense\u001b[0m)                      │ (\u001b[38;5;45mNone\u001b[0m, \u001b[38;5;34m128\u001b[0m)                 │          \u001b[38;5;34m32,896\u001b[0m │\n",
              "├──────────────────────────────────────┼─────────────────────────────┼─────────────────┤\n",
              "│ dense_4 (\u001b[38;5;33mDense\u001b[0m)                      │ (\u001b[38;5;45mNone\u001b[0m, \u001b[38;5;34m64\u001b[0m)                  │           \u001b[38;5;34m8,256\u001b[0m │\n",
              "├──────────────────────────────────────┼─────────────────────────────┼─────────────────┤\n",
              "│ dense_5 (\u001b[38;5;33mDense\u001b[0m)                      │ (\u001b[38;5;45mNone\u001b[0m, \u001b[38;5;34m32\u001b[0m)                  │           \u001b[38;5;34m2,080\u001b[0m │\n",
              "├──────────────────────────────────────┼─────────────────────────────┼─────────────────┤\n",
              "│ dense_6 (\u001b[38;5;33mDense\u001b[0m)                      │ (\u001b[38;5;45mNone\u001b[0m, \u001b[38;5;34m1\u001b[0m)                   │              \u001b[38;5;34m33\u001b[0m │\n",
              "└──────────────────────────────────────┴─────────────────────────────┴─────────────────┘\n"
            ]
          },
          "metadata": {},
          "output_type": "display_data"
        },
        {
          "data": {
            "text/html": [
              "<pre style=\"white-space:pre;overflow-x:auto;line-height:normal;font-family:Menlo,'DejaVu Sans Mono',consolas,'Courier New',monospace\"><span style=\"font-weight: bold\"> Total params: </span><span style=\"color: #00af00; text-decoration-color: #00af00\">170,482</span> (665.95 KB)\n",
              "</pre>\n"
            ],
            "text/plain": [
              "\u001b[1m Total params: \u001b[0m\u001b[38;5;34m170,482\u001b[0m (665.95 KB)\n"
            ]
          },
          "metadata": {},
          "output_type": "display_data"
        },
        {
          "data": {
            "text/html": [
              "<pre style=\"white-space:pre;overflow-x:auto;line-height:normal;font-family:Menlo,'DejaVu Sans Mono',consolas,'Courier New',monospace\"><span style=\"font-weight: bold\"> Trainable params: </span><span style=\"color: #00af00; text-decoration-color: #00af00\">170,482</span> (665.95 KB)\n",
              "</pre>\n"
            ],
            "text/plain": [
              "\u001b[1m Trainable params: \u001b[0m\u001b[38;5;34m170,482\u001b[0m (665.95 KB)\n"
            ]
          },
          "metadata": {},
          "output_type": "display_data"
        },
        {
          "data": {
            "text/html": [
              "<pre style=\"white-space:pre;overflow-x:auto;line-height:normal;font-family:Menlo,'DejaVu Sans Mono',consolas,'Courier New',monospace\"><span style=\"font-weight: bold\"> Non-trainable params: </span><span style=\"color: #00af00; text-decoration-color: #00af00\">0</span> (0.00 B)\n",
              "</pre>\n"
            ],
            "text/plain": [
              "\u001b[1m Non-trainable params: \u001b[0m\u001b[38;5;34m0\u001b[0m (0.00 B)\n"
            ]
          },
          "metadata": {},
          "output_type": "display_data"
        }
      ],
      "source": [
        "discriminative.model.summary()"
      ]
    },
    {
      "cell_type": "code",
      "execution_count": null,
      "metadata": {
        "colab": {
          "base_uri": "https://localhost:8080/",
          "height": 434
        },
        "id": "KiFYtFImq9tS",
        "outputId": "03fdbdce-9fe8-49bc-92b7-1959381d87e2"
      },
      "outputs": [
        {
          "data": {
            "text/html": [
              "<pre style=\"white-space:pre;overflow-x:auto;line-height:normal;font-family:Menlo,'DejaVu Sans Mono',consolas,'Courier New',monospace\"><span style=\"font-weight: bold\">Model: \"functional\"</span>\n",
              "</pre>\n"
            ],
            "text/plain": [
              "\u001b[1mModel: \"functional\"\u001b[0m\n"
            ]
          },
          "metadata": {},
          "output_type": "display_data"
        },
        {
          "data": {
            "text/html": [
              "<pre style=\"white-space:pre;overflow-x:auto;line-height:normal;font-family:Menlo,'DejaVu Sans Mono',consolas,'Courier New',monospace\">┏━━━━━━━━━━━━━━━━━━━━━━━━━━━━━━━━━━━━━━┳━━━━━━━━━━━━━━━━━━━━━━━━━━━━━┳━━━━━━━━━━━━━━━━━┓\n",
              "┃<span style=\"font-weight: bold\"> Layer (type)                         </span>┃<span style=\"font-weight: bold\"> Output Shape                </span>┃<span style=\"font-weight: bold\">         Param # </span>┃\n",
              "┡━━━━━━━━━━━━━━━━━━━━━━━━━━━━━━━━━━━━━━╇━━━━━━━━━━━━━━━━━━━━━━━━━━━━━╇━━━━━━━━━━━━━━━━━┩\n",
              "│ input_layer (<span style=\"color: #0087ff; text-decoration-color: #0087ff\">InputLayer</span>)             │ (<span style=\"color: #00d7ff; text-decoration-color: #00d7ff\">None</span>, <span style=\"color: #00af00; text-decoration-color: #00af00\">50</span>)                  │               <span style=\"color: #00af00; text-decoration-color: #00af00\">0</span> │\n",
              "├──────────────────────────────────────┼─────────────────────────────┼─────────────────┤\n",
              "│ vec_add_channel (<span style=\"color: #0087ff; text-decoration-color: #0087ff\">VecAddChannel</span>)      │ (<span style=\"color: #00d7ff; text-decoration-color: #00d7ff\">None</span>, <span style=\"color: #00af00; text-decoration-color: #00af00\">50</span>, <span style=\"color: #00af00; text-decoration-color: #00af00\">1</span>)               │               <span style=\"color: #00af00; text-decoration-color: #00af00\">0</span> │\n",
              "├──────────────────────────────────────┼─────────────────────────────┼─────────────────┤\n",
              "│ conv1d_transpose (<span style=\"color: #0087ff; text-decoration-color: #0087ff\">Conv1DTranspose</span>)   │ (<span style=\"color: #00d7ff; text-decoration-color: #00d7ff\">None</span>, <span style=\"color: #00af00; text-decoration-color: #00af00\">56</span>, <span style=\"color: #00af00; text-decoration-color: #00af00\">2</span>)               │              <span style=\"color: #00af00; text-decoration-color: #00af00\">16</span> │\n",
              "├──────────────────────────────────────┼─────────────────────────────┼─────────────────┤\n",
              "│ conv1d_transpose_1 (<span style=\"color: #0087ff; text-decoration-color: #0087ff\">Conv1DTranspose</span>) │ (<span style=\"color: #00d7ff; text-decoration-color: #00d7ff\">None</span>, <span style=\"color: #00af00; text-decoration-color: #00af00\">67</span>, <span style=\"color: #00af00; text-decoration-color: #00af00\">4</span>)               │             <span style=\"color: #00af00; text-decoration-color: #00af00\">100</span> │\n",
              "├──────────────────────────────────────┼─────────────────────────────┼─────────────────┤\n",
              "│ conv1d_transpose_2 (<span style=\"color: #0087ff; text-decoration-color: #0087ff\">Conv1DTranspose</span>) │ (<span style=\"color: #00d7ff; text-decoration-color: #00d7ff\">None</span>, <span style=\"color: #00af00; text-decoration-color: #00af00\">82</span>, <span style=\"color: #00af00; text-decoration-color: #00af00\">8</span>)               │             <span style=\"color: #00af00; text-decoration-color: #00af00\">520</span> │\n",
              "├──────────────────────────────────────┼─────────────────────────────┼─────────────────┤\n",
              "│ conv1d_transpose_3 (<span style=\"color: #0087ff; text-decoration-color: #0087ff\">Conv1DTranspose</span>) │ (<span style=\"color: #00d7ff; text-decoration-color: #00d7ff\">None</span>, <span style=\"color: #00af00; text-decoration-color: #00af00\">93</span>, <span style=\"color: #00af00; text-decoration-color: #00af00\">6</span>)               │             <span style=\"color: #00af00; text-decoration-color: #00af00\">582</span> │\n",
              "├──────────────────────────────────────┼─────────────────────────────┼─────────────────┤\n",
              "│ flatten (<span style=\"color: #0087ff; text-decoration-color: #0087ff\">Flatten</span>)                    │ (<span style=\"color: #00d7ff; text-decoration-color: #00d7ff\">None</span>, <span style=\"color: #00af00; text-decoration-color: #00af00\">558</span>)                 │               <span style=\"color: #00af00; text-decoration-color: #00af00\">0</span> │\n",
              "├──────────────────────────────────────┼─────────────────────────────┼─────────────────┤\n",
              "│ dense (<span style=\"color: #0087ff; text-decoration-color: #0087ff\">Dense</span>)                        │ (<span style=\"color: #00d7ff; text-decoration-color: #00d7ff\">None</span>, <span style=\"color: #00af00; text-decoration-color: #00af00\">400</span>)                 │         <span style=\"color: #00af00; text-decoration-color: #00af00\">223,600</span> │\n",
              "├──────────────────────────────────────┼─────────────────────────────┼─────────────────┤\n",
              "│ dense_1 (<span style=\"color: #0087ff; text-decoration-color: #0087ff\">Dense</span>)                      │ (<span style=\"color: #00d7ff; text-decoration-color: #00d7ff\">None</span>, <span style=\"color: #00af00; text-decoration-color: #00af00\">350</span>)                 │         <span style=\"color: #00af00; text-decoration-color: #00af00\">140,350</span> │\n",
              "└──────────────────────────────────────┴─────────────────────────────┴─────────────────┘\n",
              "</pre>\n"
            ],
            "text/plain": [
              "┏━━━━━━━━━━━━━━━━━━━━━━━━━━━━━━━━━━━━━━┳━━━━━━━━━━━━━━━━━━━━━━━━━━━━━┳━━━━━━━━━━━━━━━━━┓\n",
              "┃\u001b[1m \u001b[0m\u001b[1mLayer (type)                        \u001b[0m\u001b[1m \u001b[0m┃\u001b[1m \u001b[0m\u001b[1mOutput Shape               \u001b[0m\u001b[1m \u001b[0m┃\u001b[1m \u001b[0m\u001b[1m        Param #\u001b[0m\u001b[1m \u001b[0m┃\n",
              "┡━━━━━━━━━━━━━━━━━━━━━━━━━━━━━━━━━━━━━━╇━━━━━━━━━━━━━━━━━━━━━━━━━━━━━╇━━━━━━━━━━━━━━━━━┩\n",
              "│ input_layer (\u001b[38;5;33mInputLayer\u001b[0m)             │ (\u001b[38;5;45mNone\u001b[0m, \u001b[38;5;34m50\u001b[0m)                  │               \u001b[38;5;34m0\u001b[0m │\n",
              "├──────────────────────────────────────┼─────────────────────────────┼─────────────────┤\n",
              "│ vec_add_channel (\u001b[38;5;33mVecAddChannel\u001b[0m)      │ (\u001b[38;5;45mNone\u001b[0m, \u001b[38;5;34m50\u001b[0m, \u001b[38;5;34m1\u001b[0m)               │               \u001b[38;5;34m0\u001b[0m │\n",
              "├──────────────────────────────────────┼─────────────────────────────┼─────────────────┤\n",
              "│ conv1d_transpose (\u001b[38;5;33mConv1DTranspose\u001b[0m)   │ (\u001b[38;5;45mNone\u001b[0m, \u001b[38;5;34m56\u001b[0m, \u001b[38;5;34m2\u001b[0m)               │              \u001b[38;5;34m16\u001b[0m │\n",
              "├──────────────────────────────────────┼─────────────────────────────┼─────────────────┤\n",
              "│ conv1d_transpose_1 (\u001b[38;5;33mConv1DTranspose\u001b[0m) │ (\u001b[38;5;45mNone\u001b[0m, \u001b[38;5;34m67\u001b[0m, \u001b[38;5;34m4\u001b[0m)               │             \u001b[38;5;34m100\u001b[0m │\n",
              "├──────────────────────────────────────┼─────────────────────────────┼─────────────────┤\n",
              "│ conv1d_transpose_2 (\u001b[38;5;33mConv1DTranspose\u001b[0m) │ (\u001b[38;5;45mNone\u001b[0m, \u001b[38;5;34m82\u001b[0m, \u001b[38;5;34m8\u001b[0m)               │             \u001b[38;5;34m520\u001b[0m │\n",
              "├──────────────────────────────────────┼─────────────────────────────┼─────────────────┤\n",
              "│ conv1d_transpose_3 (\u001b[38;5;33mConv1DTranspose\u001b[0m) │ (\u001b[38;5;45mNone\u001b[0m, \u001b[38;5;34m93\u001b[0m, \u001b[38;5;34m6\u001b[0m)               │             \u001b[38;5;34m582\u001b[0m │\n",
              "├──────────────────────────────────────┼─────────────────────────────┼─────────────────┤\n",
              "│ flatten (\u001b[38;5;33mFlatten\u001b[0m)                    │ (\u001b[38;5;45mNone\u001b[0m, \u001b[38;5;34m558\u001b[0m)                 │               \u001b[38;5;34m0\u001b[0m │\n",
              "├──────────────────────────────────────┼─────────────────────────────┼─────────────────┤\n",
              "│ dense (\u001b[38;5;33mDense\u001b[0m)                        │ (\u001b[38;5;45mNone\u001b[0m, \u001b[38;5;34m400\u001b[0m)                 │         \u001b[38;5;34m223,600\u001b[0m │\n",
              "├──────────────────────────────────────┼─────────────────────────────┼─────────────────┤\n",
              "│ dense_1 (\u001b[38;5;33mDense\u001b[0m)                      │ (\u001b[38;5;45mNone\u001b[0m, \u001b[38;5;34m350\u001b[0m)                 │         \u001b[38;5;34m140,350\u001b[0m │\n",
              "└──────────────────────────────────────┴─────────────────────────────┴─────────────────┘\n"
            ]
          },
          "metadata": {},
          "output_type": "display_data"
        },
        {
          "data": {
            "text/html": [
              "<pre style=\"white-space:pre;overflow-x:auto;line-height:normal;font-family:Menlo,'DejaVu Sans Mono',consolas,'Courier New',monospace\"><span style=\"font-weight: bold\"> Total params: </span><span style=\"color: #00af00; text-decoration-color: #00af00\">365,168</span> (1.39 MB)\n",
              "</pre>\n"
            ],
            "text/plain": [
              "\u001b[1m Total params: \u001b[0m\u001b[38;5;34m365,168\u001b[0m (1.39 MB)\n"
            ]
          },
          "metadata": {},
          "output_type": "display_data"
        },
        {
          "data": {
            "text/html": [
              "<pre style=\"white-space:pre;overflow-x:auto;line-height:normal;font-family:Menlo,'DejaVu Sans Mono',consolas,'Courier New',monospace\"><span style=\"font-weight: bold\"> Trainable params: </span><span style=\"color: #00af00; text-decoration-color: #00af00\">365,168</span> (1.39 MB)\n",
              "</pre>\n"
            ],
            "text/plain": [
              "\u001b[1m Trainable params: \u001b[0m\u001b[38;5;34m365,168\u001b[0m (1.39 MB)\n"
            ]
          },
          "metadata": {},
          "output_type": "display_data"
        },
        {
          "data": {
            "text/html": [
              "<pre style=\"white-space:pre;overflow-x:auto;line-height:normal;font-family:Menlo,'DejaVu Sans Mono',consolas,'Courier New',monospace\"><span style=\"font-weight: bold\"> Non-trainable params: </span><span style=\"color: #00af00; text-decoration-color: #00af00\">0</span> (0.00 B)\n",
              "</pre>\n"
            ],
            "text/plain": [
              "\u001b[1m Non-trainable params: \u001b[0m\u001b[38;5;34m0\u001b[0m (0.00 B)\n"
            ]
          },
          "metadata": {},
          "output_type": "display_data"
        }
      ],
      "source": [
        "generative.model.summary()"
      ]
    },
    {
      "cell_type": "markdown",
      "metadata": {
        "id": "QAz2yh7prBMk"
      },
      "source": [
        "You can update the model by calling method ```update_model```. Let's update the generator model with the following model."
      ]
    },
    {
      "cell_type": "code",
      "execution_count": null,
      "metadata": {
        "colab": {
          "base_uri": "https://localhost:8080/"
        },
        "id": "BDYv5dTdtgIj",
        "outputId": "40cd748d-a4e0-456a-f461-ccf8fc47f5dc"
      },
      "outputs": [
        {
          "name": "stdout",
          "output_type": "stream",
          "text": [
            "Invalid input shape! Expected 50 but obtained 25\n",
            "Invalid output shape! Expected 350 but obtained 355\n"
          ]
        }
      ],
      "source": [
        "# designing a new generator model\n",
        "new_model_input = tf.keras.layers.Input(shape=(25,))\n",
        "cont = tf.keras.layers.Dense(300)(new_model_input)\n",
        "new_model_output = tf.keras.layers.Dense(355)(cont)\n",
        "\n",
        "# creating a new generator model\n",
        "new_model = tf.keras.Model(inputs=[new_model_input], outputs=[new_model_output])\n",
        "\n",
        "# updating generator model in the generative object\n",
        "generative.update_model(new_model)"
      ]
    },
    {
      "cell_type": "markdown",
      "metadata": {
        "id": "9ehA8VPItin3"
      },
      "source": [
        "As you can see, we have errors. These errors are raised because our model does not align with the configuration that we have set in advance in the ```GAN``` object initiation's parameters. Let's fix it and see the updated model."
      ]
    },
    {
      "cell_type": "code",
      "execution_count": null,
      "metadata": {
        "colab": {
          "base_uri": "https://localhost:8080/",
          "height": 234
        },
        "id": "IjfpnyDStkD4",
        "outputId": "7e28c452-7726-4e99-9395-8f60dc737086"
      },
      "outputs": [
        {
          "data": {
            "text/html": [
              "<pre style=\"white-space:pre;overflow-x:auto;line-height:normal;font-family:Menlo,'DejaVu Sans Mono',consolas,'Courier New',monospace\"><span style=\"font-weight: bold\">Model: \"functional_3\"</span>\n",
              "</pre>\n"
            ],
            "text/plain": [
              "\u001b[1mModel: \"functional_3\"\u001b[0m\n"
            ]
          },
          "metadata": {},
          "output_type": "display_data"
        },
        {
          "data": {
            "text/html": [
              "<pre style=\"white-space:pre;overflow-x:auto;line-height:normal;font-family:Menlo,'DejaVu Sans Mono',consolas,'Courier New',monospace\">┏━━━━━━━━━━━━━━━━━━━━━━━━━━━━━━━━━━━━━━┳━━━━━━━━━━━━━━━━━━━━━━━━━━━━━┳━━━━━━━━━━━━━━━━━┓\n",
              "┃<span style=\"font-weight: bold\"> Layer (type)                         </span>┃<span style=\"font-weight: bold\"> Output Shape                </span>┃<span style=\"font-weight: bold\">         Param # </span>┃\n",
              "┡━━━━━━━━━━━━━━━━━━━━━━━━━━━━━━━━━━━━━━╇━━━━━━━━━━━━━━━━━━━━━━━━━━━━━╇━━━━━━━━━━━━━━━━━┩\n",
              "│ input_layer_3 (<span style=\"color: #0087ff; text-decoration-color: #0087ff\">InputLayer</span>)           │ (<span style=\"color: #00d7ff; text-decoration-color: #00d7ff\">None</span>, <span style=\"color: #00af00; text-decoration-color: #00af00\">50</span>)                  │               <span style=\"color: #00af00; text-decoration-color: #00af00\">0</span> │\n",
              "├──────────────────────────────────────┼─────────────────────────────┼─────────────────┤\n",
              "│ dense_9 (<span style=\"color: #0087ff; text-decoration-color: #0087ff\">Dense</span>)                      │ (<span style=\"color: #00d7ff; text-decoration-color: #00d7ff\">None</span>, <span style=\"color: #00af00; text-decoration-color: #00af00\">300</span>)                 │          <span style=\"color: #00af00; text-decoration-color: #00af00\">15,300</span> │\n",
              "├──────────────────────────────────────┼─────────────────────────────┼─────────────────┤\n",
              "│ dense_10 (<span style=\"color: #0087ff; text-decoration-color: #0087ff\">Dense</span>)                     │ (<span style=\"color: #00d7ff; text-decoration-color: #00d7ff\">None</span>, <span style=\"color: #00af00; text-decoration-color: #00af00\">350</span>)                 │         <span style=\"color: #00af00; text-decoration-color: #00af00\">105,350</span> │\n",
              "└──────────────────────────────────────┴─────────────────────────────┴─────────────────┘\n",
              "</pre>\n"
            ],
            "text/plain": [
              "┏━━━━━━━━━━━━━━━━━━━━━━━━━━━━━━━━━━━━━━┳━━━━━━━━━━━━━━━━━━━━━━━━━━━━━┳━━━━━━━━━━━━━━━━━┓\n",
              "┃\u001b[1m \u001b[0m\u001b[1mLayer (type)                        \u001b[0m\u001b[1m \u001b[0m┃\u001b[1m \u001b[0m\u001b[1mOutput Shape               \u001b[0m\u001b[1m \u001b[0m┃\u001b[1m \u001b[0m\u001b[1m        Param #\u001b[0m\u001b[1m \u001b[0m┃\n",
              "┡━━━━━━━━━━━━━━━━━━━━━━━━━━━━━━━━━━━━━━╇━━━━━━━━━━━━━━━━━━━━━━━━━━━━━╇━━━━━━━━━━━━━━━━━┩\n",
              "│ input_layer_3 (\u001b[38;5;33mInputLayer\u001b[0m)           │ (\u001b[38;5;45mNone\u001b[0m, \u001b[38;5;34m50\u001b[0m)                  │               \u001b[38;5;34m0\u001b[0m │\n",
              "├──────────────────────────────────────┼─────────────────────────────┼─────────────────┤\n",
              "│ dense_9 (\u001b[38;5;33mDense\u001b[0m)                      │ (\u001b[38;5;45mNone\u001b[0m, \u001b[38;5;34m300\u001b[0m)                 │          \u001b[38;5;34m15,300\u001b[0m │\n",
              "├──────────────────────────────────────┼─────────────────────────────┼─────────────────┤\n",
              "│ dense_10 (\u001b[38;5;33mDense\u001b[0m)                     │ (\u001b[38;5;45mNone\u001b[0m, \u001b[38;5;34m350\u001b[0m)                 │         \u001b[38;5;34m105,350\u001b[0m │\n",
              "└──────────────────────────────────────┴─────────────────────────────┴─────────────────┘\n"
            ]
          },
          "metadata": {},
          "output_type": "display_data"
        },
        {
          "data": {
            "text/html": [
              "<pre style=\"white-space:pre;overflow-x:auto;line-height:normal;font-family:Menlo,'DejaVu Sans Mono',consolas,'Courier New',monospace\"><span style=\"font-weight: bold\"> Total params: </span><span style=\"color: #00af00; text-decoration-color: #00af00\">120,650</span> (471.29 KB)\n",
              "</pre>\n"
            ],
            "text/plain": [
              "\u001b[1m Total params: \u001b[0m\u001b[38;5;34m120,650\u001b[0m (471.29 KB)\n"
            ]
          },
          "metadata": {},
          "output_type": "display_data"
        },
        {
          "data": {
            "text/html": [
              "<pre style=\"white-space:pre;overflow-x:auto;line-height:normal;font-family:Menlo,'DejaVu Sans Mono',consolas,'Courier New',monospace\"><span style=\"font-weight: bold\"> Trainable params: </span><span style=\"color: #00af00; text-decoration-color: #00af00\">120,650</span> (471.29 KB)\n",
              "</pre>\n"
            ],
            "text/plain": [
              "\u001b[1m Trainable params: \u001b[0m\u001b[38;5;34m120,650\u001b[0m (471.29 KB)\n"
            ]
          },
          "metadata": {},
          "output_type": "display_data"
        },
        {
          "data": {
            "text/html": [
              "<pre style=\"white-space:pre;overflow-x:auto;line-height:normal;font-family:Menlo,'DejaVu Sans Mono',consolas,'Courier New',monospace\"><span style=\"font-weight: bold\"> Non-trainable params: </span><span style=\"color: #00af00; text-decoration-color: #00af00\">0</span> (0.00 B)\n",
              "</pre>\n"
            ],
            "text/plain": [
              "\u001b[1m Non-trainable params: \u001b[0m\u001b[38;5;34m0\u001b[0m (0.00 B)\n"
            ]
          },
          "metadata": {},
          "output_type": "display_data"
        }
      ],
      "source": [
        "# designing a new generator model\n",
        "new_model_input = tf.keras.layers.Input(shape=(50,))\n",
        "cont = tf.keras.layers.Dense(300)(new_model_input)\n",
        "new_model_output = tf.keras.layers.Dense(350)(cont)\n",
        "\n",
        "# creating a new generator model\n",
        "new_model = tf.keras.Model(inputs=[new_model_input], outputs=[new_model_output])\n",
        "\n",
        "# updating generator model in the generative object\n",
        "generative.update_model(new_model)\n",
        "\n",
        "generative.model.summary()"
      ]
    },
    {
      "cell_type": "markdown",
      "metadata": {
        "id": "87i0zIxAtpQV"
      },
      "source": [
        "Now the model is updated. You can also access the model via ```GAN``` object. The model in ```GAN``` object is automatically updated."
      ]
    },
    {
      "cell_type": "code",
      "execution_count": null,
      "metadata": {
        "colab": {
          "base_uri": "https://localhost:8080/",
          "height": 234
        },
        "id": "H7x2WmoetwWZ",
        "outputId": "bcf52544-dd07-4959-986c-6934ee2c3dec"
      },
      "outputs": [
        {
          "data": {
            "text/html": [
              "<pre style=\"white-space:pre;overflow-x:auto;line-height:normal;font-family:Menlo,'DejaVu Sans Mono',consolas,'Courier New',monospace\"><span style=\"font-weight: bold\">Model: \"functional_3\"</span>\n",
              "</pre>\n"
            ],
            "text/plain": [
              "\u001b[1mModel: \"functional_3\"\u001b[0m\n"
            ]
          },
          "metadata": {},
          "output_type": "display_data"
        },
        {
          "data": {
            "text/html": [
              "<pre style=\"white-space:pre;overflow-x:auto;line-height:normal;font-family:Menlo,'DejaVu Sans Mono',consolas,'Courier New',monospace\">┏━━━━━━━━━━━━━━━━━━━━━━━━━━━━━━━━━━━━━━┳━━━━━━━━━━━━━━━━━━━━━━━━━━━━━┳━━━━━━━━━━━━━━━━━┓\n",
              "┃<span style=\"font-weight: bold\"> Layer (type)                         </span>┃<span style=\"font-weight: bold\"> Output Shape                </span>┃<span style=\"font-weight: bold\">         Param # </span>┃\n",
              "┡━━━━━━━━━━━━━━━━━━━━━━━━━━━━━━━━━━━━━━╇━━━━━━━━━━━━━━━━━━━━━━━━━━━━━╇━━━━━━━━━━━━━━━━━┩\n",
              "│ input_layer_3 (<span style=\"color: #0087ff; text-decoration-color: #0087ff\">InputLayer</span>)           │ (<span style=\"color: #00d7ff; text-decoration-color: #00d7ff\">None</span>, <span style=\"color: #00af00; text-decoration-color: #00af00\">50</span>)                  │               <span style=\"color: #00af00; text-decoration-color: #00af00\">0</span> │\n",
              "├──────────────────────────────────────┼─────────────────────────────┼─────────────────┤\n",
              "│ dense_9 (<span style=\"color: #0087ff; text-decoration-color: #0087ff\">Dense</span>)                      │ (<span style=\"color: #00d7ff; text-decoration-color: #00d7ff\">None</span>, <span style=\"color: #00af00; text-decoration-color: #00af00\">300</span>)                 │          <span style=\"color: #00af00; text-decoration-color: #00af00\">15,300</span> │\n",
              "├──────────────────────────────────────┼─────────────────────────────┼─────────────────┤\n",
              "│ dense_10 (<span style=\"color: #0087ff; text-decoration-color: #0087ff\">Dense</span>)                     │ (<span style=\"color: #00d7ff; text-decoration-color: #00d7ff\">None</span>, <span style=\"color: #00af00; text-decoration-color: #00af00\">350</span>)                 │         <span style=\"color: #00af00; text-decoration-color: #00af00\">105,350</span> │\n",
              "└──────────────────────────────────────┴─────────────────────────────┴─────────────────┘\n",
              "</pre>\n"
            ],
            "text/plain": [
              "┏━━━━━━━━━━━━━━━━━━━━━━━━━━━━━━━━━━━━━━┳━━━━━━━━━━━━━━━━━━━━━━━━━━━━━┳━━━━━━━━━━━━━━━━━┓\n",
              "┃\u001b[1m \u001b[0m\u001b[1mLayer (type)                        \u001b[0m\u001b[1m \u001b[0m┃\u001b[1m \u001b[0m\u001b[1mOutput Shape               \u001b[0m\u001b[1m \u001b[0m┃\u001b[1m \u001b[0m\u001b[1m        Param #\u001b[0m\u001b[1m \u001b[0m┃\n",
              "┡━━━━━━━━━━━━━━━━━━━━━━━━━━━━━━━━━━━━━━╇━━━━━━━━━━━━━━━━━━━━━━━━━━━━━╇━━━━━━━━━━━━━━━━━┩\n",
              "│ input_layer_3 (\u001b[38;5;33mInputLayer\u001b[0m)           │ (\u001b[38;5;45mNone\u001b[0m, \u001b[38;5;34m50\u001b[0m)                  │               \u001b[38;5;34m0\u001b[0m │\n",
              "├──────────────────────────────────────┼─────────────────────────────┼─────────────────┤\n",
              "│ dense_9 (\u001b[38;5;33mDense\u001b[0m)                      │ (\u001b[38;5;45mNone\u001b[0m, \u001b[38;5;34m300\u001b[0m)                 │          \u001b[38;5;34m15,300\u001b[0m │\n",
              "├──────────────────────────────────────┼─────────────────────────────┼─────────────────┤\n",
              "│ dense_10 (\u001b[38;5;33mDense\u001b[0m)                     │ (\u001b[38;5;45mNone\u001b[0m, \u001b[38;5;34m350\u001b[0m)                 │         \u001b[38;5;34m105,350\u001b[0m │\n",
              "└──────────────────────────────────────┴─────────────────────────────┴─────────────────┘\n"
            ]
          },
          "metadata": {},
          "output_type": "display_data"
        },
        {
          "data": {
            "text/html": [
              "<pre style=\"white-space:pre;overflow-x:auto;line-height:normal;font-family:Menlo,'DejaVu Sans Mono',consolas,'Courier New',monospace\"><span style=\"font-weight: bold\"> Total params: </span><span style=\"color: #00af00; text-decoration-color: #00af00\">120,650</span> (471.29 KB)\n",
              "</pre>\n"
            ],
            "text/plain": [
              "\u001b[1m Total params: \u001b[0m\u001b[38;5;34m120,650\u001b[0m (471.29 KB)\n"
            ]
          },
          "metadata": {},
          "output_type": "display_data"
        },
        {
          "data": {
            "text/html": [
              "<pre style=\"white-space:pre;overflow-x:auto;line-height:normal;font-family:Menlo,'DejaVu Sans Mono',consolas,'Courier New',monospace\"><span style=\"font-weight: bold\"> Trainable params: </span><span style=\"color: #00af00; text-decoration-color: #00af00\">120,650</span> (471.29 KB)\n",
              "</pre>\n"
            ],
            "text/plain": [
              "\u001b[1m Trainable params: \u001b[0m\u001b[38;5;34m120,650\u001b[0m (471.29 KB)\n"
            ]
          },
          "metadata": {},
          "output_type": "display_data"
        },
        {
          "data": {
            "text/html": [
              "<pre style=\"white-space:pre;overflow-x:auto;line-height:normal;font-family:Menlo,'DejaVu Sans Mono',consolas,'Courier New',monospace\"><span style=\"font-weight: bold\"> Non-trainable params: </span><span style=\"color: #00af00; text-decoration-color: #00af00\">0</span> (0.00 B)\n",
              "</pre>\n"
            ],
            "text/plain": [
              "\u001b[1m Non-trainable params: \u001b[0m\u001b[38;5;34m0\u001b[0m (0.00 B)\n"
            ]
          },
          "metadata": {},
          "output_type": "display_data"
        }
      ],
      "source": [
        "gan.generative_module.model.summary()"
      ]
    },
    {
      "cell_type": "markdown",
      "metadata": {
        "id": "80Zm_i6ErlEB"
      },
      "source": [
        "## Training with Sample Dataset"
      ]
    },
    {
      "cell_type": "markdown",
      "metadata": {
        "id": "EStZm7hfrpRz"
      },
      "source": [
        "Let's revert back our generative model into the default one."
      ]
    },
    {
      "cell_type": "code",
      "execution_count": null,
      "metadata": {
        "id": "5VgByQQZrokK"
      },
      "outputs": [],
      "source": [
        "generative = gtm.models.Generative(gan)"
      ]
    },
    {
      "cell_type": "markdown",
      "metadata": {
        "id": "2BQ9FwXPrHDr"
      },
      "source": [
        "At this point, we want to train our models, especially the discriminative model to recognize the P wave signal from the real seismic data. We continue using the sample models to get through this tutorial. Let's obtain the performance of our model at its initial state. Sure thing we have poor confusion matrix scores here."
      ]
    },
    {
      "cell_type": "code",
      "execution_count": null,
      "metadata": {
        "colab": {
          "base_uri": "https://localhost:8080/"
        },
        "id": "ZUkDq-0_r8OT",
        "outputId": "f502c85c-684c-4d0c-f5a9-df79dc29815a"
      },
      "outputs": [
        {
          "data": {
            "text/plain": [
              "{'d_loss': 699.1911948067801,\n",
              " 'true_positive': 0,\n",
              " 'false_positive': 0,\n",
              " 'true_negative': 14197,\n",
              " 'false_negative': 14197}"
            ]
          },
          "execution_count": 21,
          "metadata": {},
          "output_type": "execute_result"
        }
      ],
      "source": [
        "gan.evaluate()"
      ]
    },
    {
      "cell_type": "markdown",
      "metadata": {
        "id": "WVfk2mpZs6b8"
      },
      "source": [
        "Let's train them! All we need to do is passing ```gan.train()``` to our code. Remember that we have configured anything in the first place."
      ]
    },
    {
      "cell_type": "code",
      "execution_count": null,
      "metadata": {
        "colab": {
          "base_uri": "https://localhost:8080/"
        },
        "id": "ePOPC0BePhbM",
        "outputId": "6ac3f882-8774-4a88-ea23-9c0683b94e4a"
      },
      "outputs": [
        {
          "name": "stdout",
          "output_type": "stream",
          "text": [
            "Epoch 1 out of 5\n",
            "LOGS: L_D_val: 33.3356 | TP: 13959 | TN: 14098 | FP: 99 | FN: 238 \n",
            "\n",
            "Found 194 batches per epoch\n",
            "Epoch 2 out of 5\n"
          ]
        },
        {
          "name": "stderr",
          "output_type": "stream",
          "text": [
            "|██████████████████████████████| [00:46<00:00] L_G: 1261.2589 | L_D: 72.6214\n"
          ]
        },
        {
          "name": "stdout",
          "output_type": "stream",
          "text": [
            "LOGS: L_D_val: 72.8392 | TP: 12921 | TN: 14183 | FP: 14 | FN: 1276 \n",
            "\n",
            "Epoch 3 out of 5\n"
          ]
        },
        {
          "name": "stderr",
          "output_type": "stream",
          "text": [
            "|██████████████████████████████| [00:46<00:00] L_G: 1801.7778 | L_D: 32.4380\n"
          ]
        },
        {
          "name": "stdout",
          "output_type": "stream",
          "text": [
            "LOGS: L_D_val: 23.9544 | TP: 14018 | TN: 14135 | FP: 62 | FN: 179 \n",
            "\n",
            "Epoch 4 out of 5\n"
          ]
        },
        {
          "name": "stderr",
          "output_type": "stream",
          "text": [
            "|██████████████████████████████| [00:46<00:00] L_G: 2383.5386 | L_D: 14.0453\n"
          ]
        },
        {
          "name": "stdout",
          "output_type": "stream",
          "text": [
            "LOGS: L_D_val: 16.9280 | TP: 14002 | TN: 14155 | FP: 42 | FN: 195 \n",
            "\n",
            "Epoch 5 out of 5\n"
          ]
        },
        {
          "name": "stderr",
          "output_type": "stream",
          "text": [
            "|██████████████████████████████| [00:45<00:00] L_G: 5840.4482 | L_D: 40.0805\n"
          ]
        },
        {
          "name": "stdout",
          "output_type": "stream",
          "text": [
            "LOGS: L_D_val: 34.0723 | TP: 13719 | TN: 14160 | FP: 37 | FN: 478 \n",
            "\n"
          ]
        }
      ],
      "source": [
        "gan.train()"
      ]
    },
    {
      "cell_type": "markdown",
      "metadata": {
        "id": "vWufH4gY5WZp"
      },
      "source": [
        "WARNING! Sometimes TensorFlow's warning messages appear, disturbing the tqdm progress bar. Upon each epoch, we obtain the confusion matrix values and the discriminator loss in the validation dataset."
      ]
    },
    {
      "cell_type": "code",
      "execution_count": null,
      "metadata": {
        "colab": {
          "base_uri": "https://localhost:8080/"
        },
        "id": "GnwMmOjoU1sJ",
        "outputId": "b91a587b-2e76-4fcc-93ac-50e29cd6a2d0"
      },
      "outputs": [
        {
          "data": {
            "text/plain": [
              "{'d_loss': 34.07229719843183,\n",
              " 'true_positive': 13719,\n",
              " 'false_positive': 37,\n",
              " 'true_negative': 14160,\n",
              " 'false_negative': 478}"
            ]
          },
          "execution_count": 23,
          "metadata": {},
          "output_type": "execute_result"
        }
      ],
      "source": [
        "gan.evaluate()"
      ]
    },
    {
      "cell_type": "markdown",
      "metadata": {
        "id": "Hb7L_caZ18ki"
      },
      "source": [
        "As you can see, there is an improvement. Now feel free to explore this module on your own! You can design your own model, hypertune it according to your necessity. Don't forget to save the model after you finished training.\n",
        "\n",
        "**Furthur update is on the way! Visit https://github.com/Seismic-DL-Research/seis-deep-learning/tree/super_dev to see updates.**"
      ]
    },
    {
      "cell_type": "markdown",
      "metadata": {
        "id": "QwKKbwsrPl5W"
      },
      "source": [
        "# Additional: GAN3"
      ]
    },
    {
      "cell_type": "code",
      "execution_count": 97,
      "metadata": {
        "id": "x66ISrhNPl5W"
      },
      "outputs": [],
      "source": [
        "# importing modules\n",
        "import gan_tutorial_modules as gtm\n",
        "import tensorflow as tf\n",
        "import pydot # OPTIONAL\n",
        "\n",
        "from tensorflow.keras.layers import Dense, Conv1DTranspose, Input, Flatten, Conv1D, \\\n",
        "AveragePooling1D, Reshape"
      ]
    },
    {
      "cell_type": "markdown",
      "metadata": {},
      "source": [
        "## Configuring Window Length, Latent Size, and Creating Dummy Dataset"
      ]
    },
    {
      "cell_type": "code",
      "execution_count": 98,
      "metadata": {
        "id": "1VDgg76BPl5W"
      },
      "outputs": [],
      "source": [
        "LATENT_SIZE = 50\n",
        "WINDOW_LENGTH = 350"
      ]
    },
    {
      "cell_type": "code",
      "execution_count": 99,
      "metadata": {
        "id": "ptnidTS-Pl5W"
      },
      "outputs": [],
      "source": [
        "n_like_t = tf.random.normal((1000, 350, 3))\n",
        "n_like_val_t = tf.random.normal((1000, 350, 3))\n",
        "\n",
        "p_like_n = tf.random.normal((1000, 100, 3))\n",
        "p_like_p = tf.random.normal((1000, 250, 3), stddev=6)\n",
        "p_like_t = tf.concat([p_like_n, p_like_p], axis=1)\n",
        "\n",
        "p_like_n = tf.random.normal((1000, 100, 3))\n",
        "p_like_p = tf.random.normal((1000, 250, 3), stddev=6)\n",
        "p_like_val_t = tf.concat([p_like_n, p_like_p], axis=1)\n",
        "\n",
        "p_like = tf.data.Dataset.from_tensor_slices(p_like_t).batch(32)\n",
        "p_like_val = tf.data.Dataset.from_tensor_slices(p_like_val_t).batch(32)\n",
        "n_like = tf.data.Dataset.from_tensor_slices(n_like_t).batch(32)\n",
        "n_like_val = tf.data.Dataset.from_tensor_slices(n_like_val_t).batch(32)"
      ]
    },
    {
      "cell_type": "markdown",
      "metadata": {},
      "source": [
        "## Configuring GAN3"
      ]
    },
    {
      "cell_type": "code",
      "execution_count": 100,
      "metadata": {
        "id": "OmjsqGHLPl5X"
      },
      "outputs": [],
      "source": [
        "gan = gtm.models.GAN(epoch=20,\n",
        "                    batch_size=512,\n",
        "                    window_length=WINDOW_LENGTH,\n",
        "                    generative_optimizer=tf.keras.optimizers.Adam(learning_rate=1e-4),\n",
        "                    discriminative_optimizer= tf.keras.optimizers.Adam(learning_rate=1e-4),\n",
        "                    generative_total_iterations=2,\n",
        "                    discriminative_total_iterations=3,\n",
        "                    generative_latent_sample_size=LATENT_SIZE,\n",
        "                    generative_latent_sample_mean=0,\n",
        "                    generative_latent_sample_stdev=0.6,\n",
        "                    channel='zne',\n",
        "                    p_wave_dataset=p_like, # data assigned must contain any batch size!\n",
        "                    n_wave_dataset=n_like, # data assigned must contain any batch size!\n",
        "                    p_wave_dataset_val=p_like_val, # data assigned must contain any batch size!\n",
        "                    n_wave_dataset_val=n_like_val # data assigned must contain any batch size!\n",
        "                    )\n",
        "\n",
        "generative = gtm.models.Generative(gan)\n",
        "discriminative = gtm.models.Discriminative(gan)"
      ]
    },
    {
      "cell_type": "markdown",
      "metadata": {},
      "source": [
        "## Creating Models"
      ]
    },
    {
      "cell_type": "code",
      "execution_count": 101,
      "metadata": {
        "id": "pir3DVgrPl5X"
      },
      "outputs": [],
      "source": [
        "# customized layer: split channel layer\n",
        "@tf.keras.utils.register_keras_serializable(\n",
        "    package=\"gan-tutorial\",\n",
        "    name=\"SplitChannel\",\n",
        ")\n",
        "class SplitChannel(tf.keras.Layer):\n",
        "  def __init__(sf):\n",
        "    # The method called when the class's object is initiated.\n",
        "\n",
        "    # We call the parent's constructor\n",
        "    super().__init__()\n",
        "\n",
        "  def build(sf, input_shape):\n",
        "    # This method usually contains trainable weights. We won't add\n",
        "    # any for this layer.\n",
        "    pass\n",
        "\n",
        "  def call(sf, input):\n",
        "    # We returned its expanded dims form.\n",
        "    return tf.split(input, num_or_size_splits=3, axis=-1)"
      ]
    },
    {
      "cell_type": "markdown",
      "metadata": {},
      "source": [
        "### Discriminative Model"
      ]
    },
    {
      "cell_type": "code",
      "execution_count": 102,
      "metadata": {
        "id": "KD63eP-ePl5X"
      },
      "outputs": [],
      "source": [
        "input_layer = Input(shape=(WINDOW_LENGTH,3))\n",
        "split_channel = SplitChannel()(input_layer)\n",
        "\n",
        "def discriminator_submodel():\n",
        "  input_layer = Input(shape=(350,1))\n",
        "  cont = Flatten()(input_layer)\n",
        "  cont = Dense(250, activation='leaky_relu')(cont)\n",
        "  cont = Dense(100, activation='leaky_relu')(cont)\n",
        "  cont = Dense(50, activation='leaky_relu')(cont)\n",
        "  return tf.keras.Model(inputs=input_layer, outputs=cont)\n",
        "\n",
        "\n",
        "discriminator_submodel0 = discriminator_submodel()(split_channel[0])\n",
        "discriminator_submodel1 = discriminator_submodel()(split_channel[1])\n",
        "discriminator_submodel2 = discriminator_submodel()(split_channel[2])\n",
        "\n",
        "concat = tf.keras.layers.concatenate([discriminator_submodel0,\n",
        "                                      discriminator_submodel1,\n",
        "                                      discriminator_submodel2],\n",
        "                                      axis=-1)\n",
        "\n",
        "cont = Dense(20, activation='leaky_relu')(concat)\n",
        "cont = Dense(1, activation='sigmoid')(cont)\n",
        "\n",
        "updated_discriminative_model = tf.keras.Model(inputs=[input_layer], outputs=[cont])"
      ]
    },
    {
      "cell_type": "markdown",
      "metadata": {},
      "source": [
        "### Generative Model"
      ]
    },
    {
      "cell_type": "code",
      "execution_count": 103,
      "metadata": {
        "id": "2lea7y9gPl5X"
      },
      "outputs": [],
      "source": [
        "input_layer = Input(shape=(LATENT_SIZE,3))\n",
        "split_channel = SplitChannel()(input_layer)\n",
        "def generator_submodel():\n",
        "  input_layer = Input(shape=(50,1))\n",
        "  cont = Conv1DTranspose(filters=2, kernel_size=7,\n",
        "                         activation='leaky_relu')(input_layer)\n",
        "  cont = Conv1DTranspose(filters=6, kernel_size=8,\n",
        "                         activation='leaky_relu')(cont)\n",
        "  cont = Conv1DTranspose(filters=8, kernel_size=3,\n",
        "                         activation='leaky_relu')(cont)\n",
        "  cont = Conv1DTranspose(filters=8, kernel_size=2,\n",
        "                         activation='leaky_relu')(cont)\n",
        "  cont = AveragePooling1D(pool_size=2)(cont)\n",
        "  cont = Flatten()(cont)\n",
        "  cont = Dense(300, activation='leaky_relu')(cont)\n",
        "  cont = Dense(350, activation='leaky_relu')(cont)\n",
        "  cont = Reshape(target_shape=(350,1))(cont)\n",
        "  return tf.keras.Model(inputs=input_layer, outputs=cont)\n",
        "\n",
        "generator_submodel0 = generator_submodel()(split_channel[0])\n",
        "generator_submodel1 = generator_submodel()(split_channel[1])\n",
        "generator_submodel2 = generator_submodel()(split_channel[2])\n",
        "\n",
        "concat = tf.keras.layers.concatenate([generator_submodel0,\n",
        "                                      generator_submodel1,\n",
        "                                      generator_submodel2], axis=-1)\n",
        "\n",
        "updated_generative_model = tf.keras.Model(inputs=[input_layer], outputs=[concat])"
      ]
    },
    {
      "cell_type": "markdown",
      "metadata": {},
      "source": [
        "### Discriminative Model Structure"
      ]
    },
    {
      "cell_type": "code",
      "execution_count": 104,
      "metadata": {
        "colab": {
          "base_uri": "https://localhost:8080/",
          "height": 719
        },
        "id": "AUOCDoS_Pl5Y",
        "outputId": "37ce1bec-e3fa-4914-cf99-c5fe66152dc8"
      },
      "outputs": [
        {
          "data": {
            "image/png": "[encoded data removed]",
            "text/plain": [
              "<IPython.core.display.Image object>"
            ]
          },
          "execution_count": 104,
          "metadata": {},
          "output_type": "execute_result"
        }
      ],
      "source": [
        "# must install pydot, graphviz, and pydot_ng to work\n",
        "# pip install pydot\n",
        "# pip install pydot_ng==2.0.0\n",
        "# sudo apt install graphviz (for ubuntu and debian)\n",
        "tf.keras.utils.plot_model(updated_discriminative_model, dpi=100, show_shapes=True)"
      ]
    },
    {
      "cell_type": "markdown",
      "metadata": {},
      "source": [
        "### Generative Model Structure"
      ]
    },
    {
      "cell_type": "code",
      "execution_count": 105,
      "metadata": {
        "colab": {
          "base_uri": "https://localhost:8080/",
          "height": 459
        },
        "id": "_p_TGlGTPl5Y",
        "outputId": "3bd1b277-7625-4eda-dd80-25dbb8ecbac1"
      },
      "outputs": [
        {
          "data": {
            "image/png": "[encoded data removed]",
            "text/plain": [
              "<IPython.core.display.Image object>"
            ]
          },
          "execution_count": 105,
          "metadata": {},
          "output_type": "execute_result"
        }
      ],
      "source": [
        "# must install pydot, graphviz, and pydot_ng to work\n",
        "# pip install pydot\n",
        "# pip install pydot_ng==2.0.0\n",
        "# sudo apt install graphviz (for ubuntu and debian)\n",
        "tf.keras.utils.plot_model(updated_generative_model, dpi=100, show_shapes=True)"
      ]
    },
    {
      "cell_type": "markdown",
      "metadata": {},
      "source": [
        "### Updating Models"
      ]
    },
    {
      "cell_type": "code",
      "execution_count": 106,
      "metadata": {
        "id": "uCIgDbUmPl5Y"
      },
      "outputs": [],
      "source": [
        "discriminative.update_model(updated_discriminative_model)\n",
        "generative.update_model(updated_generative_model)"
      ]
    },
    {
      "cell_type": "markdown",
      "metadata": {
        "id": "Fn9FlEbHdNrh"
      },
      "source": [
        "## Training GAN3"
      ]
    },
    {
      "cell_type": "code",
      "execution_count": 107,
      "metadata": {
        "colab": {
          "base_uri": "https://localhost:8080/"
        },
        "id": "ApLrldyoPl5Z",
        "outputId": "76f962f6-7365-40f5-9844-cc87e856f5da"
      },
      "outputs": [
        {
          "name": "stdout",
          "output_type": "stream",
          "text": [
            "Epoch 1 out of 20\n",
            "LOGS: L_D_val: 664.7239 | TP: 791 | TN: 994 | FP: 6 | FN: 209 \n",
            "\n",
            "Found 1 batches per epoch\n",
            "Epoch 2 out of 20\n"
          ]
        },
        {
          "name": "stderr",
          "output_type": "stream",
          "text": [
            "|██████████████████████████████| [00:01<00:00] L_G: 341.4430 | L_D: 378.1714\n"
          ]
        },
        {
          "name": "stdout",
          "output_type": "stream",
          "text": [
            "LOGS: L_D_val: 662.7604 | TP: 843 | TN: 995 | FP: 5 | FN: 157 \n",
            "\n",
            "Epoch 3 out of 20\n"
          ]
        },
        {
          "name": "stderr",
          "output_type": "stream",
          "text": [
            "|██████████████████████████████| [00:01<00:00] L_G: 341.3673 | L_D: 376.0655\n"
          ]
        },
        {
          "name": "stdout",
          "output_type": "stream",
          "text": [
            "LOGS: L_D_val: 634.1354 | TP: 795 | TN: 1000 | FP: 0 | FN: 205 \n",
            "\n",
            "Epoch 4 out of 20\n"
          ]
        },
        {
          "name": "stderr",
          "output_type": "stream",
          "text": [
            "|██████████████████████████████| [00:01<00:00] L_G: 343.8777 | L_D: 379.9281\n"
          ]
        },
        {
          "name": "stdout",
          "output_type": "stream",
          "text": [
            "LOGS: L_D_val: 615.4017 | TP: 684 | TN: 1000 | FP: 0 | FN: 316 \n",
            "\n",
            "Epoch 5 out of 20\n"
          ]
        },
        {
          "name": "stderr",
          "output_type": "stream",
          "text": [
            "|██████████████████████████████| [00:01<00:00] L_G: 347.4316 | L_D: 388.3625\n"
          ]
        },
        {
          "name": "stdout",
          "output_type": "stream",
          "text": [
            "LOGS: L_D_val: 620.6734 | TP: 566 | TN: 1000 | FP: 0 | FN: 434 \n",
            "\n",
            "Epoch 6 out of 20\n"
          ]
        },
        {
          "name": "stderr",
          "output_type": "stream",
          "text": [
            "|██████████████████████████████| [00:01<00:00] L_G: 350.6847 | L_D: 388.5124\n"
          ]
        },
        {
          "name": "stdout",
          "output_type": "stream",
          "text": [
            "LOGS: L_D_val: 628.4482 | TP: 504 | TN: 1000 | FP: 0 | FN: 496 \n",
            "\n",
            "Epoch 7 out of 20\n"
          ]
        },
        {
          "name": "stderr",
          "output_type": "stream",
          "text": [
            "|██████████████████████████████| [00:01<00:00] L_G: 353.7068 | L_D: 379.6289\n"
          ]
        },
        {
          "name": "stdout",
          "output_type": "stream",
          "text": [
            "LOGS: L_D_val: 626.9850 | TP: 500 | TN: 1000 | FP: 0 | FN: 500 \n",
            "\n",
            "Epoch 8 out of 20\n"
          ]
        },
        {
          "name": "stderr",
          "output_type": "stream",
          "text": [
            "|██████████████████████████████| [00:01<00:00] L_G: 355.5568 | L_D: 371.2686\n"
          ]
        },
        {
          "name": "stdout",
          "output_type": "stream",
          "text": [
            "LOGS: L_D_val: 627.2311 | TP: 491 | TN: 1000 | FP: 0 | FN: 509 \n",
            "\n",
            "Epoch 9 out of 20\n"
          ]
        },
        {
          "name": "stderr",
          "output_type": "stream",
          "text": [
            "|██████████████████████████████| [00:01<00:00] L_G: 358.0218 | L_D: 366.7167\n"
          ]
        },
        {
          "name": "stdout",
          "output_type": "stream",
          "text": [
            "LOGS: L_D_val: 636.2565 | TP: 470 | TN: 1000 | FP: 0 | FN: 530 \n",
            "\n",
            "Epoch 10 out of 20\n"
          ]
        },
        {
          "name": "stderr",
          "output_type": "stream",
          "text": [
            "|██████████████████████████████| [00:01<00:00] L_G: 361.1943 | L_D: 362.8010\n"
          ]
        },
        {
          "name": "stdout",
          "output_type": "stream",
          "text": [
            "LOGS: L_D_val: 654.0035 | TP: 435 | TN: 1000 | FP: 0 | FN: 565 \n",
            "\n",
            "Epoch 11 out of 20\n"
          ]
        },
        {
          "name": "stderr",
          "output_type": "stream",
          "text": [
            "|██████████████████████████████| [00:01<00:00] L_G: 365.2601 | L_D: 359.3850\n"
          ]
        },
        {
          "name": "stdout",
          "output_type": "stream",
          "text": [
            "LOGS: L_D_val: 674.9213 | TP: 397 | TN: 1000 | FP: 0 | FN: 603 \n",
            "\n",
            "Epoch 12 out of 20\n"
          ]
        },
        {
          "name": "stderr",
          "output_type": "stream",
          "text": [
            "|██████████████████████████████| [00:01<00:00] L_G: 368.9197 | L_D: 354.3419\n"
          ]
        },
        {
          "name": "stdout",
          "output_type": "stream",
          "text": [
            "LOGS: L_D_val: 694.6836 | TP: 378 | TN: 1000 | FP: 0 | FN: 622 \n",
            "\n",
            "Epoch 13 out of 20\n"
          ]
        },
        {
          "name": "stderr",
          "output_type": "stream",
          "text": [
            "|██████████████████████████████| [00:01<00:00] L_G: 373.3281 | L_D: 348.3256\n"
          ]
        },
        {
          "name": "stdout",
          "output_type": "stream",
          "text": [
            "LOGS: L_D_val: 715.3159 | TP: 360 | TN: 1000 | FP: 0 | FN: 640 \n",
            "\n",
            "Epoch 14 out of 20\n"
          ]
        },
        {
          "name": "stderr",
          "output_type": "stream",
          "text": [
            "|██████████████████████████████| [00:01<00:00] L_G: 378.4146 | L_D: 341.7392\n"
          ]
        },
        {
          "name": "stdout",
          "output_type": "stream",
          "text": [
            "LOGS: L_D_val: 740.4857 | TP: 338 | TN: 1000 | FP: 0 | FN: 662 \n",
            "\n",
            "Epoch 15 out of 20\n"
          ]
        },
        {
          "name": "stderr",
          "output_type": "stream",
          "text": [
            "|██████████████████████████████| [00:01<00:00] L_G: 383.9576 | L_D: 334.0671\n"
          ]
        },
        {
          "name": "stdout",
          "output_type": "stream",
          "text": [
            "LOGS: L_D_val: 771.1636 | TP: 317 | TN: 1000 | FP: 0 | FN: 683 \n",
            "\n",
            "Epoch 16 out of 20\n"
          ]
        },
        {
          "name": "stderr",
          "output_type": "stream",
          "text": [
            "|██████████████████████████████| [00:01<00:00] L_G: 391.3725 | L_D: 325.1949\n"
          ]
        },
        {
          "name": "stdout",
          "output_type": "stream",
          "text": [
            "LOGS: L_D_val: 807.8783 | TP: 296 | TN: 1000 | FP: 0 | FN: 704 \n",
            "\n",
            "Epoch 17 out of 20\n"
          ]
        },
        {
          "name": "stderr",
          "output_type": "stream",
          "text": [
            "|██████████████████████████████| [00:01<00:00] L_G: 401.4052 | L_D: 314.7962\n"
          ]
        },
        {
          "name": "stdout",
          "output_type": "stream",
          "text": [
            "LOGS: L_D_val: 848.8835 | TP: 276 | TN: 1000 | FP: 0 | FN: 724 \n",
            "\n",
            "Epoch 18 out of 20\n"
          ]
        },
        {
          "name": "stderr",
          "output_type": "stream",
          "text": [
            "|██████████████████████████████| [00:01<00:00] L_G: 412.9406 | L_D: 304.0188\n"
          ]
        },
        {
          "name": "stdout",
          "output_type": "stream",
          "text": [
            "LOGS: L_D_val: 892.9660 | TP: 263 | TN: 1000 | FP: 0 | FN: 737 \n",
            "\n",
            "Epoch 19 out of 20\n"
          ]
        },
        {
          "name": "stderr",
          "output_type": "stream",
          "text": [
            "|██████████████████████████████| [00:01<00:00] L_G: 426.1422 | L_D: 291.6400\n"
          ]
        },
        {
          "name": "stdout",
          "output_type": "stream",
          "text": [
            "LOGS: L_D_val: 939.4100 | TP: 246 | TN: 1000 | FP: 0 | FN: 754 \n",
            "\n",
            "Epoch 20 out of 20\n"
          ]
        },
        {
          "name": "stderr",
          "output_type": "stream",
          "text": [
            "|██████████████████████████████| [00:01<00:00] L_G: 440.2859 | L_D: 279.6983\n"
          ]
        },
        {
          "name": "stdout",
          "output_type": "stream",
          "text": [
            "LOGS: L_D_val: 989.4261 | TP: 237 | TN: 1000 | FP: 0 | FN: 763 \n",
            "\n"
          ]
        }
      ],
      "source": [
        "gan.train()"
      ]
    },
    {
      "cell_type": "code",
      "execution_count": null,
      "metadata": {
        "id": "lXlo0CFGPl5Z"
      },
      "outputs": [],
      "source": []
    }
  ],
  "metadata": {
    "accelerator": "GPU",
    "colab": {
      "gpuType": "T4",
      "machine_shape": "hm",
      "provenance": []
    },
    "kernelspec": {
      "display_name": "Python 3",
      "name": "python3"
    },
    "language_info": {
      "codemirror_mode": {
        "name": "ipython",
        "version": 3
      },
      "file_extension": ".py",
      "mimetype": "text/x-python",
      "name": "python",
      "nbconvert_exporter": "python",
      "pygments_lexer": "ipython3",
      "version": "3.10.12"
    }
  },
  "nbformat": 4,
  "nbformat_minor": 0
}
